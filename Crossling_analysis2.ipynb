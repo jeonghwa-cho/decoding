{
 "cells": [
  {
   "cell_type": "code",
   "execution_count": 1,
   "metadata": {},
   "outputs": [],
   "source": [
    "import mne\n",
    "import os \n",
    "import numpy as np\n",
    "import pandas as pd"
   ]
  },
  {
   "cell_type": "code",
   "execution_count": 67,
   "metadata": {},
   "outputs": [
    {
     "name": "stdout",
     "output_type": "stream",
     "text": [
      "Extracting parameters from E:\\Crossling_EEG\\R0783_20220429_Crossling\\R0783_20220429_Crossling_0005.vhdr...\n",
      "Setting channel info structure...\n",
      "Reading 0 ... 1609769  =      0.000 ...  3219.538 secs...\n"
     ]
    },
    {
     "name": "stderr",
     "output_type": "stream",
     "text": [
      "C:\\Users\\LG\\AppData\\Local\\Temp\\ipykernel_29640\\1027198442.py:4: RuntimeWarning: No coordinate information found for channels ['AUD']. Setting channel types to misc. To avoid this warning, set channel types explicitly.\n",
      "  raw=mne.io.read_raw_brainvision(file, preload=True)\n",
      "C:\\Users\\LG\\AppData\\Local\\Temp\\ipykernel_29640\\1027198442.py:4: RuntimeWarning: Online software filter detected. Using software filter settings and ignoring hardware values\n",
      "  raw=mne.io.read_raw_brainvision(file, preload=True)\n",
      "C:\\Users\\LG\\AppData\\Local\\Temp\\ipykernel_29640\\1027198442.py:4: RuntimeWarning: Channels contain different highpass filters. Lowest (weakest) filter setting (0.00 Hz) will be stored.\n",
      "  raw=mne.io.read_raw_brainvision(file, preload=True)\n",
      "C:\\Users\\LG\\AppData\\Local\\Temp\\ipykernel_29640\\1027198442.py:4: RuntimeWarning: Not setting positions of 2 misc channels found in montage:\n",
      "['VEOG', 'AUD']\n",
      "Consider setting the channel types to be of EEG/sEEG/ECoG/DBS/fNIRS using inst.set_channel_types before calling inst.set_montage, or omit these channels when creating your montage.\n",
      "  raw=mne.io.read_raw_brainvision(file, preload=True)\n"
     ]
    }
   ],
   "source": [
    "path = r\"E:\\Crossling_EEG\\R0783_20220429_Crossling\"\n",
    "file=os.path.join(path,\"R0783_20220429_Crossling_0005.vhdr\")\n",
    "\n",
    "raw=mne.io.read_raw_brainvision(file, preload=True)"
   ]
  },
  {
   "cell_type": "code",
   "execution_count": 4,
   "metadata": {},
   "outputs": [
    {
     "data": {
      "text/html": [
       "<table class=\"table table-hover table-striped table-sm table-responsive small\">\n",
       "    <tr>\n",
       "        <th>Measurement date</th>\n",
       "        \n",
       "        <td>April 26, 2022  14:58:46 GMT</td>\n",
       "        \n",
       "    </tr>\n",
       "    <tr>\n",
       "        <th>Experimenter</th>\n",
       "        \n",
       "        <td>Unknown</td>\n",
       "        \n",
       "    </tr>\n",
       "        <th>Participant</th>\n",
       "        \n",
       "        <td>Unknown</td>\n",
       "        \n",
       "    </tr>\n",
       "    <tr>\n",
       "        <th>Digitized points</th>\n",
       "        \n",
       "        <td>0 points</td>\n",
       "        \n",
       "    </tr>\n",
       "    <tr>\n",
       "        <th>Good channels</th>\n",
       "        <td>1 misc</td>\n",
       "    </tr>\n",
       "    <tr>\n",
       "        <th>Bad channels</th>\n",
       "        <td>None</td>\n",
       "    </tr>\n",
       "    <tr>\n",
       "        <th>EOG channels</th>\n",
       "        <td>Not available</td>\n",
       "    </tr>\n",
       "    <tr>\n",
       "        <th>ECG channels</th>\n",
       "        <td>Not available</td>\n",
       "    \n",
       "    <tr>\n",
       "        <th>Sampling frequency</th>\n",
       "        <td>500.00 Hz</td>\n",
       "    </tr>\n",
       "    \n",
       "    \n",
       "    <tr>\n",
       "        <th>Highpass</th>\n",
       "        <td>0.00 Hz</td>\n",
       "    </tr>\n",
       "    \n",
       "    \n",
       "    <tr>\n",
       "        <th>Lowpass</th>\n",
       "        <td>200.00 Hz</td>\n",
       "    </tr>\n",
       "    \n",
       "    \n",
       "    \n",
       "    <tr>\n",
       "        <th>Filenames</th>\n",
       "        <td>R078_20220426_Crossling_0002.eeg</td>\n",
       "    </tr>\n",
       "    \n",
       "    <tr>\n",
       "        <th>Duration</th>\n",
       "        <td>00:55:39 (HH:MM:SS)</td>\n",
       "    </tr>\n",
       "</table>"
      ],
      "text/plain": [
       "<RawBrainVision | R078_20220426_Crossling_0002.eeg, 1 x 1669900 (3339.8 s), ~12.8 MB, data loaded>"
      ]
     },
     "execution_count": 4,
     "metadata": {},
     "output_type": "execute_result"
    }
   ],
   "source": [
    "aud = raw.copy()\n",
    "aud.pick_channels(['AUD']) # separate AUD"
   ]
  },
  {
   "cell_type": "code",
   "execution_count": 68,
   "metadata": {},
   "outputs": [
    {
     "name": "stdout",
     "output_type": "stream",
     "text": [
      "Filtering raw data in 1 contiguous segment\n",
      "Setting up band-pass filter from 0.1 - 30 Hz\n",
      "\n",
      "FIR filter parameters\n",
      "---------------------\n",
      "Designing a one-pass, zero-phase, non-causal bandpass filter:\n",
      "- Windowed time-domain design (firwin) method\n",
      "- Hamming window with 0.0194 passband ripple and 53 dB stopband attenuation\n",
      "- Lower passband edge: 0.10\n",
      "- Lower transition bandwidth: 0.10 Hz (-6 dB cutoff frequency: 0.05 Hz)\n",
      "- Upper passband edge: 30.00 Hz\n",
      "- Upper transition bandwidth: 7.50 Hz (-6 dB cutoff frequency: 33.75 Hz)\n",
      "- Filter length: 16501 samples (33.002 sec)\n",
      "\n"
     ]
    }
   ],
   "source": [
    "raw=raw.filter(0.1, 30)"
   ]
  },
  {
   "cell_type": "code",
   "execution_count": 69,
   "metadata": {},
   "outputs": [
    {
     "name": "stdout",
     "output_type": "stream",
     "text": [
      "Opening raw-browser...\n",
      "Closing raw-browser...\n",
      "Channels marked as bad:\n",
      "none\n"
     ]
    }
   ],
   "source": [
    "%matplotlib qt\n",
    "raw.plot(scalings=dict(eeg=100e-6));"
   ]
  },
  {
   "cell_type": "code",
   "execution_count": 70,
   "metadata": {},
   "outputs": [
    {
     "name": "stderr",
     "output_type": "stream",
     "text": [
      "C:\\Users\\LG\\AppData\\Local\\Temp\\ipykernel_29640\\2720685280.py:1: RuntimeWarning: The unit for channel(s) VEOG has changed from C to V.\n",
      "  raw.set_channel_types(mapping={'VEOG': 'eog'});\n"
     ]
    }
   ],
   "source": [
    "raw.set_channel_types(mapping={'VEOG': 'eog'});"
   ]
  },
  {
   "cell_type": "code",
   "execution_count": 17,
   "metadata": {},
   "outputs": [],
   "source": [
    "raw.info['bads'].append('Fp2')"
   ]
  },
  {
   "cell_type": "code",
   "execution_count": null,
   "metadata": {},
   "outputs": [],
   "source": [
    "raw.interpolate_bads(reset_bads=False)"
   ]
  },
  {
   "cell_type": "code",
   "execution_count": 71,
   "metadata": {},
   "outputs": [
    {
     "name": "stdout",
     "output_type": "stream",
     "text": [
      "Filtering raw data in 1 contiguous segment\n",
      "Setting up high-pass filter at 1 Hz\n",
      "\n",
      "FIR filter parameters\n",
      "---------------------\n",
      "Designing a one-pass, zero-phase, non-causal highpass filter:\n",
      "- Windowed time-domain design (firwin) method\n",
      "- Hamming window with 0.0194 passband ripple and 53 dB stopband attenuation\n",
      "- Lower passband edge: 1.00\n",
      "- Lower transition bandwidth: 1.00 Hz (-6 dB cutoff frequency: 0.50 Hz)\n",
      "- Filter length: 1651 samples (3.302 sec)\n",
      "\n"
     ]
    }
   ],
   "source": [
    "filt_raw = raw.copy().filter(l_freq=1., h_freq=None)"
   ]
  },
  {
   "cell_type": "code",
   "execution_count": 72,
   "metadata": {},
   "outputs": [
    {
     "name": "stdout",
     "output_type": "stream",
     "text": [
      "Fitting ICA to data using 31 channels (please be patient, this may take a while)\n",
      "Omitting 1426 of 1609770 (0.09%) samples, retaining 1608344 (99.91%) samples.\n",
      "Selecting by number: 25 components\n",
      "Fitting ICA took 103.2s.\n"
     ]
    },
    {
     "data": {
      "text/html": [
       "<table class=\"table table-hover table-striped table-sm table-responsive small\">\n",
       "    <tr>\n",
       "        <th>Method</th>\n",
       "        <td>fastica</td>\n",
       "    </tr>\n",
       "    <tr>\n",
       "        <th>Fit</th>\n",
       "        <td>59 iterations on raw data (1608344 samples)</td>\n",
       "    </tr>\n",
       "    \n",
       "    <tr>\n",
       "        <th>ICA components</th>\n",
       "        <td>25</td>\n",
       "    </tr>\n",
       "    <tr>\n",
       "        <th>Explained variance</th>\n",
       "        <td>99.8&nbsp;%</td>\n",
       "    </tr>\n",
       "    <tr>\n",
       "        <th>Available PCA components</th>\n",
       "        <td>31</td>\n",
       "    </tr>\n",
       "    <tr>\n",
       "        <th>Channel types</th>\n",
       "        <td>eeg</td>\n",
       "    </tr>\n",
       "    <tr>\n",
       "        <th>ICA components marked for exclusion</th>\n",
       "        <td>&mdash;</td>\n",
       "    </tr>\n",
       "    \n",
       "</table>"
      ],
      "text/plain": [
       "<ICA | raw data decomposition, method: fastica (fit in 59 iterations on 1608344 samples), 25 ICA components explaining 99.8 % of variance (31 PCA components available), channel types: eeg, no sources marked for exclusion>"
      ]
     },
     "execution_count": 72,
     "metadata": {},
     "output_type": "execute_result"
    }
   ],
   "source": [
    "ica = mne.preprocessing.ICA(n_components=25, max_iter='auto', random_state=97)\n",
    "ica.fit(filt_raw)\n",
    "ica"
   ]
  },
  {
   "cell_type": "code",
   "execution_count": 73,
   "metadata": {},
   "outputs": [
    {
     "name": "stdout",
     "output_type": "stream",
     "text": [
      "Creating RawArray with float64 data, n_channels=26, n_times=1609770\n",
      "    Range : 0 ... 1609769 =      0.000 ...  3219.538 secs\n",
      "Ready.\n",
      "Opening ica-browser...\n"
     ]
    }
   ],
   "source": [
    "filt_raw.load_data()\n",
    "ica.plot_sources(filt_raw, show_scrollbars=True);"
   ]
  },
  {
   "cell_type": "code",
   "execution_count": 74,
   "metadata": {},
   "outputs": [
    {
     "data": {
      "text/plain": [
       "[<MNEFigure size 975x967 with 20 Axes>, <MNEFigure size 975x260 with 5 Axes>]"
      ]
     },
     "execution_count": 74,
     "metadata": {},
     "output_type": "execute_result"
    }
   ],
   "source": [
    "ica.plot_components()"
   ]
  },
  {
   "cell_type": "code",
   "execution_count": 12,
   "metadata": {},
   "outputs": [
    {
     "name": "stdout",
     "output_type": "stream",
     "text": [
      "Applying ICA to Raw instance\n",
      "    Transforming to ICA space (25 components)\n",
      "    Zeroing out 2 ICA components\n",
      "    Projecting back using 31 PCA components\n"
     ]
    }
   ],
   "source": [
    "ica.plot_overlay(filt_raw, exclude=[0,1], picks='eeg', start=908., stop=915.);"
   ]
  },
  {
   "cell_type": "code",
   "execution_count": 76,
   "metadata": {},
   "outputs": [],
   "source": [
    "#ica.exclude = [0, 1] #R780\n",
    "#ica.exclude = [0, 1, 2] #R781\n",
    "#ica.exclude = [0, 1, 2] #R782\n",
    "ica.exclude = [1, 2, 6] #R783\n",
    "#ica.exclude = [0, 1, 2] #R784\n",
    "#ica.exclue = [0, 1] #R785"
   ]
  },
  {
   "cell_type": "code",
   "execution_count": 77,
   "metadata": {},
   "outputs": [
    {
     "name": "stdout",
     "output_type": "stream",
     "text": [
      "Applying ICA to Raw instance\n",
      "    Transforming to ICA space (25 components)\n",
      "    Zeroing out 3 ICA components\n",
      "    Projecting back using 31 PCA components\n"
     ]
    },
    {
     "data": {
      "text/html": [
       "<table class=\"table table-hover table-striped table-sm table-responsive small\">\n",
       "    <tr>\n",
       "        <th>Measurement date</th>\n",
       "        \n",
       "        <td>April 29, 2022  12:56:17 GMT</td>\n",
       "        \n",
       "    </tr>\n",
       "    <tr>\n",
       "        <th>Experimenter</th>\n",
       "        \n",
       "        <td>Unknown</td>\n",
       "        \n",
       "    </tr>\n",
       "        <th>Participant</th>\n",
       "        \n",
       "        <td>Unknown</td>\n",
       "        \n",
       "    </tr>\n",
       "    <tr>\n",
       "        <th>Digitized points</th>\n",
       "        \n",
       "        <td>0 points</td>\n",
       "        \n",
       "    </tr>\n",
       "    <tr>\n",
       "        <th>Good channels</th>\n",
       "        <td>31 EEG, 1 EOG, 1 misc</td>\n",
       "    </tr>\n",
       "    <tr>\n",
       "        <th>Bad channels</th>\n",
       "        <td>None</td>\n",
       "    </tr>\n",
       "    <tr>\n",
       "        <th>EOG channels</th>\n",
       "        <td>VEOG</td>\n",
       "    </tr>\n",
       "    <tr>\n",
       "        <th>ECG channels</th>\n",
       "        <td>Not available</td>\n",
       "    \n",
       "    <tr>\n",
       "        <th>Sampling frequency</th>\n",
       "        <td>500.00 Hz</td>\n",
       "    </tr>\n",
       "    \n",
       "    \n",
       "    <tr>\n",
       "        <th>Highpass</th>\n",
       "        <td>0.10 Hz</td>\n",
       "    </tr>\n",
       "    \n",
       "    \n",
       "    <tr>\n",
       "        <th>Lowpass</th>\n",
       "        <td>30.00 Hz</td>\n",
       "    </tr>\n",
       "    \n",
       "    \n",
       "    \n",
       "    <tr>\n",
       "        <th>Filenames</th>\n",
       "        <td>R0783_20220429_Crossling_0005.eeg</td>\n",
       "    </tr>\n",
       "    \n",
       "    <tr>\n",
       "        <th>Duration</th>\n",
       "        <td>00:53:39 (HH:MM:SS)</td>\n",
       "    </tr>\n",
       "</table>"
      ],
      "text/plain": [
       "<RawBrainVision | R0783_20220429_Crossling_0005.eeg, 33 x 1609770 (3219.5 s), ~405.3 MB, data loaded>"
      ]
     },
     "execution_count": 77,
     "metadata": {},
     "output_type": "execute_result"
    }
   ],
   "source": [
    "reconst_raw = raw.copy()\n",
    "ica.apply(reconst_raw)"
   ]
  },
  {
   "cell_type": "code",
   "execution_count": 78,
   "metadata": {},
   "outputs": [
    {
     "name": "stdout",
     "output_type": "stream",
     "text": [
      "Opening raw-browser...\n",
      "Closing raw-browser...\n",
      "Channels marked as bad:\n",
      "none\n"
     ]
    }
   ],
   "source": [
    "reconst_raw.plot(scalings=dict(eeg=25e-6));"
   ]
  },
  {
   "cell_type": "code",
   "execution_count": 14,
   "metadata": {},
   "outputs": [
    {
     "name": "stdout",
     "output_type": "stream",
     "text": [
      "Writing E:\\Crossling_EEG\\R0785_raw.fif\n",
      "Closing E:\\Crossling_EEG\\R0785_raw.fif\n",
      "[done]\n"
     ]
    }
   ],
   "source": [
    "reconst_raw.save(\"E:/Crossling_EEG/R0785_raw.fif\", overwrite=False)"
   ]
  },
  {
   "cell_type": "code",
   "execution_count": 40,
   "metadata": {},
   "outputs": [
    {
     "name": "stdout",
     "output_type": "stream",
     "text": [
      "Opening raw data file E:\\Crossling_EEG\\R0782_raw.fif...\n",
      "    Range : 0 ... 1652739 =      0.000 ...  3305.478 secs\n",
      "Ready.\n"
     ]
    }
   ],
   "source": [
    "reconst_raw=mne.io.read_raw_fif(\"E:\\Crossling_EEG\\R0782_raw.fif\")"
   ]
  },
  {
   "cell_type": "code",
   "execution_count": 16,
   "metadata": {},
   "outputs": [
    {
     "name": "stdout",
     "output_type": "stream",
     "text": [
      "Opening raw-browser...\n"
     ]
    },
    {
     "data": {
      "text/plain": [
       "<mne_qt_browser._pg_figure.MNEQtBrowser at 0x248837664c0>"
      ]
     },
     "execution_count": 16,
     "metadata": {},
     "output_type": "execute_result"
    }
   ],
   "source": [
    "%matplotlib qt\n",
    "reconst_raw.plot()"
   ]
  },
  {
   "cell_type": "markdown",
   "metadata": {},
   "source": [
    "# AUD"
   ]
  },
  {
   "cell_type": "code",
   "execution_count": 15,
   "metadata": {},
   "outputs": [
    {
     "name": "stdout",
     "output_type": "stream",
     "text": [
      "Used Annotations descriptions: ['New Segment/', 'Stimulus/S  1', 'Stimulus/S 11', 'Stimulus/S 12', 'Stimulus/S 13', 'Stimulus/S 14', 'Stimulus/S 15', 'Stimulus/S 16', 'Stimulus/S 17', 'Stimulus/S 18', 'Stimulus/S 21', 'Stimulus/S 22', 'Stimulus/S 23', 'Stimulus/S 24', 'Stimulus/S 25', 'Stimulus/S 26', 'Stimulus/S 27', 'Stimulus/S 28', 'Stimulus/S 31', 'Stimulus/S 32', 'Stimulus/S 33', 'Stimulus/S 34', 'Stimulus/S 35', 'Stimulus/S 36', 'Stimulus/S 37', 'Stimulus/S 38', 'Stimulus/S 41', 'Stimulus/S 42', 'Stimulus/S 43', 'Stimulus/S 44', 'Stimulus/S 45', 'Stimulus/S 46', 'Stimulus/S 47', 'Stimulus/S 48', 'Stimulus/S 51', 'Stimulus/S 52', 'Stimulus/S 53', 'Stimulus/S 54', 'Stimulus/S 55', 'Stimulus/S 56', 'Stimulus/S 57', 'Stimulus/S 58', 'Stimulus/S 61', 'Stimulus/S 62', 'Stimulus/S 63', 'Stimulus/S 64', 'Stimulus/S 65', 'Stimulus/S 66', 'Stimulus/S 67', 'Stimulus/S 68', 'Stimulus/S 71', 'Stimulus/S 72', 'Stimulus/S 73', 'Stimulus/S 74', 'Stimulus/S 75', 'Stimulus/S 76', 'Stimulus/S 77', 'Stimulus/S 78', 'Stimulus/S 81', 'Stimulus/S 82', 'Stimulus/S 83', 'Stimulus/S 84', 'Stimulus/S 85', 'Stimulus/S 86', 'Stimulus/S 87', 'Stimulus/S 88', 'Stimulus/S111', 'Stimulus/S112', 'Stimulus/S113', 'Stimulus/S114', 'Stimulus/S115', 'Stimulus/S116', 'Stimulus/S117', 'Stimulus/S118', 'Stimulus/S121', 'Stimulus/S122', 'Stimulus/S123', 'Stimulus/S124', 'Stimulus/S125', 'Stimulus/S126', 'Stimulus/S127', 'Stimulus/S128', 'Stimulus/S131', 'Stimulus/S132', 'Stimulus/S133', 'Stimulus/S134', 'Stimulus/S135', 'Stimulus/S136', 'Stimulus/S137', 'Stimulus/S138', 'Stimulus/S141', 'Stimulus/S142', 'Stimulus/S143', 'Stimulus/S144', 'Stimulus/S145', 'Stimulus/S146', 'Stimulus/S147', 'Stimulus/S148', 'Stimulus/S151', 'Stimulus/S152', 'Stimulus/S153', 'Stimulus/S154', 'Stimulus/S155', 'Stimulus/S156', 'Stimulus/S157', 'Stimulus/S158', 'Stimulus/S161', 'Stimulus/S162', 'Stimulus/S163', 'Stimulus/S164', 'Stimulus/S165', 'Stimulus/S166', 'Stimulus/S167', 'Stimulus/S168', 'Stimulus/S171', 'Stimulus/S172', 'Stimulus/S173', 'Stimulus/S174', 'Stimulus/S175', 'Stimulus/S176', 'Stimulus/S177', 'Stimulus/S178', 'Stimulus/S181', 'Stimulus/S182', 'Stimulus/S183', 'Stimulus/S184', 'Stimulus/S185', 'Stimulus/S186', 'Stimulus/S187', 'Stimulus/S188']\n"
     ]
    }
   ],
   "source": [
    "events = mne.events_from_annotations(reconst_raw)"
   ]
  },
  {
   "cell_type": "code",
   "execution_count": 16,
   "metadata": {},
   "outputs": [],
   "source": [
    "events=events[0]"
   ]
  },
  {
   "cell_type": "markdown",
   "metadata": {},
   "source": [
    "Mark onset for each sound"
   ]
  },
  {
   "cell_type": "code",
   "execution_count": 25,
   "metadata": {},
   "outputs": [
    {
     "name": "stdout",
     "output_type": "stream",
     "text": [
      "Opening raw-browser...\n"
     ]
    },
    {
     "data": {
      "text/plain": [
       "<mne_qt_browser._pg_figure.MNEQtBrowser at 0x248da1ecca0>"
      ]
     },
     "execution_count": 25,
     "metadata": {},
     "output_type": "execute_result"
    },
    {
     "name": "stdout",
     "output_type": "stream",
     "text": [
      "Closing raw-browser...\n",
      "Channels marked as bad:\n",
      "none\n"
     ]
    }
   ],
   "source": [
    "%matplotlib qt\n",
    "aud.plot(duration=30)\n",
    "#fig = aud.plot(duration=30)\n",
    "#fig.fake_keypress('a')"
   ]
  },
  {
   "cell_type": "code",
   "execution_count": 26,
   "metadata": {},
   "outputs": [
    {
     "name": "stdout",
     "output_type": "stream",
     "text": [
      "Overwriting existing file.\n",
      "Writing G:\\My Drive\\Research\\Decoding\\EEG\\R0785_aud_raw.fif\n",
      "Closing G:\\My Drive\\Research\\Decoding\\EEG\\R0785_aud_raw.fif\n",
      "[done]\n"
     ]
    }
   ],
   "source": [
    "aud.save(\"G:\\My Drive\\Research\\Decoding\\EEG\\R0785_aud_raw.fif\", overwrite=True)"
   ]
  },
  {
   "cell_type": "code",
   "execution_count": 79,
   "metadata": {},
   "outputs": [
    {
     "name": "stdout",
     "output_type": "stream",
     "text": [
      "Opening raw data file G:\\My Drive\\Research\\Decoding\\EEG\\R0783_aud_raw.fif...\n",
      "    Range : 0 ... 1609769 =      0.000 ...  3219.538 secs\n",
      "Ready.\n"
     ]
    }
   ],
   "source": [
    "#aud=mne.io.read_raw_fif(\"E:\\Crossling_EEG\\R0782_aud_raw.fif\")\n",
    "aud=mne.io.read_raw_fif(\"G:\\My Drive\\Research\\Decoding\\EEG\\R0783_aud_raw.fif\")"
   ]
  },
  {
   "cell_type": "code",
   "execution_count": 10,
   "metadata": {
    "collapsed": true
   },
   "outputs": [
    {
     "name": "stdout",
     "output_type": "stream",
     "text": [
      "Opening raw-browser...\n"
     ]
    },
    {
     "data": {
      "image/png": "[encoded data removed]",
      "text/plain": [
       "<MNEBrowseFigure size 1730x839 with 4 Axes>"
      ]
     },
     "execution_count": 10,
     "metadata": {},
     "output_type": "execute_result"
    },
    {
     "name": "stdout",
     "output_type": "stream",
     "text": [
      "Closing raw-browser...\n",
      "Channels marked as bad:\n",
      "none\n"
     ]
    }
   ],
   "source": [
    "aud.plot()"
   ]
  },
  {
   "cell_type": "markdown",
   "metadata": {},
   "source": [
    "### Sanity check (if # sound == # annotations"
   ]
  },
  {
   "cell_type": "code",
   "execution_count": 18,
   "metadata": {},
   "outputs": [],
   "source": [
    "trigger=[11, 12, 13, 14, 15, 16, 21, 22, 23, 24, 25, 26, 31, 32, 33, 34, 35, 36, 41, 42, 43, 44, 45, 46,\n",
    "         51, 52, 53, 54, 55, 56, 61, 62, 63, 64, 65, 66, 71, 72, 73, 74, 75, 76, 81, 82, 83, 84, 85, 86,\n",
    "         111, 112, 113, 114, 115, 116, 121, 122, 123, 124, 125, 126, 131, 132, 133, 134, 135, 136, 141, 142, 143, 144, 145, 146,\n",
    "         151, 152, 153, 154, 155, 156, 161, 162, 163, 164, 165, 166, 171, 172, 173, 174, 175, 176, 181, 182, 183, 184, 185, 186]"
   ]
  },
  {
   "cell_type": "code",
   "execution_count": null,
   "metadata": {},
   "outputs": [],
   "source": [
    "ct=0\n",
    "col=[]\n",
    "for i in range(len(events)):\n",
    "    \n",
    "    if events[i][2] in trigger:\n",
    "        col.append(events[i][2])\n",
    "        ct+=1\n",
    "len(col)"
   ]
  },
  {
   "cell_type": "code",
   "execution_count": 111,
   "metadata": {},
   "outputs": [
    {
     "name": "stdout",
     "output_type": "stream",
     "text": [
      "961\n"
     ]
    }
   ],
   "source": [
    "a=0\n",
    "for i in range(len(aud.annotations)-1):\n",
    "    if aud.annotations[i+1]['description']==\"New Segment/\":\n",
    "        a+=1\n",
    "print(a)"
   ]
  },
  {
   "cell_type": "code",
   "execution_count": 67,
   "metadata": {
    "collapsed": true
   },
   "outputs": [
    {
     "name": "stdout",
     "output_type": "stream",
     "text": [
      "Stimulus/S 28 62.472\n",
      "Stimulus/S  2 129.054\n",
      "Stimulus/S 77 132.17\n",
      "Stimulus/S 78 135.052\n",
      "Stimulus/S 57 137.918\n",
      "Stimulus/S 37 140.85\n",
      "Stimulus/S 48 143.602\n",
      "Stimulus/S 18 146.276\n",
      "Stimulus/S 17 148.966\n",
      "Stimulus/S  1 150.754\n",
      "Stimulus/S 38 153.934\n",
      "Stimulus/S 68 156.616\n",
      "Stimulus/S 67 159.568\n",
      "Stimulus/S 27 162.332\n",
      "Stimulus/S 58 165.2\n",
      "Stimulus/S 88 168.15\n",
      "Stimulus/S 47 170.934\n",
      "Stimulus/S 87 173.566\n",
      "Stimulus/S157 227.192\n",
      "Stimulus/S128 230.034\n",
      "Stimulus/S168 232.748\n",
      "Stimulus/S187 235.666\n",
      "Stimulus/S177 238.3\n",
      "Stimulus/S188 241.198\n",
      "Stimulus/S147 243.874\n",
      "Stimulus/S127 246.666\n",
      "Stimulus/S  1 247.434\n",
      "Stimulus/S117 251.964\n",
      "Stimulus/S118 254.856\n",
      "Stimulus/S158 257.532\n",
      "Stimulus/S138 260.396\n",
      "Stimulus/S  1 261.166\n",
      "Stimulus/S137 266.098\n",
      "Stimulus/S178 269.048\n",
      "Stimulus/S148 271.648\n",
      "Stimulus/S167 274.414\n",
      "Stimulus/S  1 284.418\n",
      "Stimulus/S  1 290.582\n",
      "Stimulus/S  1 298.25\n",
      "Stimulus/S  1 361.364\n",
      "Stimulus/S  1 392.832\n",
      "Stimulus/S  1 464.112\n",
      "Stimulus/S  1 482.144\n",
      "Stimulus/S  1 496.678\n",
      "Stimulus/S  1 505.86\n",
      "Stimulus/S  1 537.426\n",
      "Stimulus/S  1 603.124\n",
      "Stimulus/S  1 613.058\n",
      "Stimulus/S  1 670.474\n",
      "Stimulus/S  1 694.456\n",
      "Stimulus/S  1 709.206\n",
      "Stimulus/S  1 750.488\n",
      "Stimulus/S  1 756.97\n",
      "Stimulus/S  1 789.204\n",
      "Stimulus/S  1 798.872\n",
      "Stimulus/S  1 861.654\n",
      "Stimulus/S  1 916.036\n",
      "Stimulus/S  1 919.636\n",
      "Stimulus/S  1 940.584\n",
      "Stimulus/S  1 972.316\n",
      "Stimulus/S  1 1012.782\n",
      "Stimulus/S  1 1044.03\n",
      "Stimulus/S  1 1048.464\n",
      "Stimulus/S  1 1078.53\n",
      "Stimulus/S  1 1082.63\n",
      "Stimulus/S  1 1105.83\n",
      "Stimulus/S  1 1217.826\n",
      "Stimulus/S  1 1246.742\n",
      "Stimulus/S  1 1261.926\n",
      "Stimulus/S  1 1276.558\n",
      "Stimulus/S  1 1369.19\n",
      "Stimulus/S  1 1384.158\n",
      "Stimulus/S  1 1413.688\n",
      "Stimulus/S  1 1439.94\n",
      "Stimulus/S  1 1449.506\n",
      "Stimulus/S  1 1517.37\n",
      "Stimulus/S  1 1553.636\n",
      "Stimulus/S  1 1573.652\n",
      "Stimulus/S  1 1580.536\n",
      "Stimulus/S  1 1584.036\n",
      "Stimulus/S  1 1641.916\n",
      "Stimulus/S  1 1645.6\n",
      "Stimulus/S  1 1735.714\n",
      "Stimulus/S  1 1762.364\n",
      "Stimulus/S  1 1790.312\n",
      "Stimulus/S  1 1809.846\n",
      "Stimulus/S  1 1813.896\n",
      "Stimulus/S  1 1870.478\n",
      "Stimulus/S  1 1910.56\n",
      "Stimulus/S  1 1967.276\n",
      "Stimulus/S  1 2002.308\n",
      "Stimulus/S  1 2040.174\n",
      "Stimulus/S  1 2049.658\n",
      "Stimulus/S  1 2079.806\n",
      "Stimulus/S  1 2139.754\n",
      "Stimulus/S  1 2143.456\n",
      "Stimulus/S  1 2167.104\n",
      "Stimulus/S  1 2190.638\n",
      "Stimulus/S  1 2194.688\n",
      "Stimulus/S  1 2283.784\n",
      "Stimulus/S  1 2290.568\n",
      "Stimulus/S  1 2333.0\n",
      "Stimulus/S  1 2336.65\n",
      "Stimulus/S  1 2340.332\n",
      "Stimulus/S  1 2399.632\n",
      "Stimulus/S  1 2423.63\n",
      "Stimulus/S  1 2452.796\n",
      "Stimulus/S  1 2457.346\n",
      "Stimulus/S  1 2489.846\n",
      "Stimulus/S  1 2547.612\n",
      "Stimulus/S  1 2551.294\n",
      "Stimulus/S  2 2597.16\n",
      "Stimulus/S  1 2647.808\n",
      "Stimulus/S  1 2651.81\n",
      "Stimulus/S  1 2689.608\n",
      "Stimulus/S  1 2755.108\n",
      "Stimulus/S  1 2773.056\n",
      "Stimulus/S  1 2793.154\n",
      "Stimulus/S  1 2853.404\n",
      "Stimulus/S  1 2857.42\n",
      "Stimulus/S  1 2925.018\n",
      "Stimulus/S  1 2931.352\n",
      "Stimulus/S  1 2966.334\n",
      "Stimulus/S  1 3182.946\n",
      "Stimulus/S  1 3188.064\n",
      "Stimulus/S  1 3286.51\n",
      "Stimulus/S  1 3290.194\n",
      "Stimulus/S 31 3292.246\n"
     ]
    }
   ],
   "source": [
    "for i in range(len(aud.annotations)-1):\n",
    "    if aud.annotations[i]['description'] !=\"New Segment/\":\n",
    "        if aud.annotations[i+1]['description'] !=\"New Segment/\":\n",
    "            print(aud.annotations[i]['description'], aud.annotations[i]['onset'])"
   ]
  },
  {
   "cell_type": "code",
   "execution_count": 73,
   "metadata": {
    "collapsed": true
   },
   "outputs": [
    {
     "name": "stdout",
     "output_type": "stream",
     "text": [
      "101\n",
      "102\n",
      "103\n",
      "104\n",
      "105\n",
      "106\n",
      "107\n",
      "108\n",
      "109\n",
      "110\n",
      "111\n",
      "112\n",
      "113\n",
      "114\n",
      "115\n",
      "116\n",
      "117\n",
      "118\n",
      "119\n",
      "120\n",
      "121\n",
      "122\n",
      "123\n",
      "124\n",
      "125\n",
      "126\n",
      "127\n",
      "128\n",
      "129\n",
      "130\n",
      "131\n",
      "132\n",
      "133\n",
      "134\n",
      "135\n",
      "136\n",
      "137\n",
      "138\n",
      "139\n",
      "140\n",
      "141\n",
      "142\n",
      "143\n",
      "144\n",
      "145\n",
      "146\n",
      "147\n",
      "148\n",
      "149\n",
      "150\n",
      "151\n",
      "152\n",
      "153\n",
      "154\n",
      "155\n",
      "156\n",
      "157\n",
      "158\n",
      "159\n",
      "160\n",
      "161\n",
      "162\n",
      "163\n",
      "164\n",
      "165\n",
      "166\n",
      "167\n",
      "168\n",
      "169\n",
      "170\n",
      "171\n",
      "172\n",
      "173\n",
      "174\n",
      "175\n",
      "176\n",
      "177\n",
      "178\n",
      "179\n",
      "180\n",
      "181\n",
      "182\n",
      "183\n",
      "184\n",
      "185\n",
      "186\n",
      "187\n",
      "188\n",
      "189\n",
      "190\n",
      "191\n",
      "192\n",
      "193\n",
      "194\n",
      "195\n",
      "196\n",
      "197\n",
      "198\n",
      "199\n",
      "200\n",
      "201\n",
      "202\n",
      "203\n",
      "204\n",
      "205\n",
      "206\n",
      "207\n",
      "208\n",
      "209\n",
      "210\n",
      "211\n",
      "212\n",
      "213\n",
      "214\n",
      "215\n",
      "216\n",
      "217\n",
      "218\n",
      "219\n",
      "220\n",
      "221\n",
      "222\n",
      "223\n",
      "224\n",
      "225\n",
      "226\n",
      "227\n",
      "228\n",
      "229\n",
      "230\n",
      "231\n",
      "232\n",
      "233\n",
      "234\n",
      "235\n",
      "236\n",
      "237\n",
      "238\n",
      "239\n",
      "240\n",
      "241\n",
      "242\n",
      "243\n",
      "244\n",
      "245\n",
      "246\n",
      "247\n",
      "248\n",
      "249\n",
      "250\n",
      "251\n",
      "252\n",
      "253\n",
      "254\n",
      "255\n",
      "256\n",
      "257\n",
      "258\n",
      "259\n",
      "260\n",
      "261\n",
      "262\n",
      "263\n",
      "264\n",
      "265\n",
      "266\n",
      "267\n",
      "268\n",
      "269\n",
      "270\n",
      "271\n",
      "272\n",
      "273\n",
      "274\n",
      "275\n",
      "276\n",
      "277\n",
      "278\n",
      "279\n",
      "280\n",
      "281\n",
      "282\n",
      "283\n",
      "284\n",
      "285\n",
      "286\n",
      "287\n",
      "288\n",
      "289\n",
      "290\n",
      "291\n",
      "292\n",
      "293\n",
      "294\n",
      "295\n",
      "296\n",
      "297\n",
      "298\n",
      "299\n",
      "300\n",
      "301\n",
      "302\n",
      "303\n",
      "304\n",
      "305\n",
      "306\n",
      "307\n",
      "308\n",
      "309\n",
      "310\n",
      "311\n",
      "312\n",
      "313\n",
      "314\n",
      "315\n",
      "316\n",
      "317\n",
      "318\n",
      "319\n",
      "320\n",
      "321\n",
      "322\n",
      "323\n",
      "324\n",
      "325\n",
      "326\n",
      "327\n",
      "328\n",
      "329\n",
      "330\n",
      "331\n",
      "332\n",
      "333\n",
      "334\n",
      "335\n",
      "336\n",
      "337\n",
      "338\n",
      "339\n",
      "340\n",
      "341\n",
      "342\n",
      "343\n",
      "344\n",
      "345\n",
      "346\n",
      "347\n",
      "348\n",
      "349\n",
      "350\n",
      "351\n",
      "352\n",
      "353\n",
      "354\n",
      "355\n",
      "356\n",
      "357\n",
      "358\n",
      "359\n",
      "360\n",
      "361\n",
      "362\n",
      "363\n",
      "364\n",
      "365\n",
      "366\n",
      "367\n",
      "368\n",
      "369\n",
      "370\n",
      "371\n",
      "372\n",
      "373\n",
      "374\n",
      "375\n",
      "376\n",
      "377\n",
      "378\n",
      "379\n",
      "380\n",
      "381\n",
      "382\n",
      "383\n",
      "384\n",
      "385\n",
      "386\n",
      "387\n",
      "388\n",
      "389\n",
      "390\n",
      "391\n",
      "392\n",
      "393\n",
      "394\n",
      "395\n",
      "396\n",
      "397\n",
      "398\n",
      "399\n",
      "400\n",
      "401\n",
      "402\n",
      "403\n",
      "404\n",
      "405\n",
      "406\n",
      "407\n",
      "408\n",
      "409\n",
      "410\n",
      "411\n",
      "412\n",
      "413\n",
      "414\n",
      "415\n",
      "416\n",
      "417\n",
      "418\n",
      "419\n",
      "420\n",
      "421\n",
      "422\n",
      "423\n",
      "424\n",
      "425\n",
      "426\n",
      "427\n",
      "428\n",
      "429\n",
      "430\n",
      "431\n",
      "432\n",
      "433\n",
      "434\n",
      "435\n",
      "436\n",
      "437\n",
      "438\n",
      "439\n",
      "440\n",
      "441\n",
      "442\n",
      "443\n",
      "444\n",
      "445\n",
      "446\n",
      "447\n",
      "448\n",
      "449\n",
      "450\n",
      "451\n",
      "452\n",
      "453\n",
      "454\n",
      "455\n",
      "456\n",
      "457\n",
      "458\n",
      "459\n",
      "460\n",
      "461\n",
      "462\n",
      "463\n",
      "464\n",
      "465\n",
      "466\n",
      "467\n",
      "468\n",
      "469\n",
      "470\n",
      "471\n",
      "472\n",
      "473\n",
      "474\n",
      "475\n",
      "476\n",
      "477\n",
      "478\n",
      "479\n",
      "480\n",
      "481\n",
      "482\n",
      "483\n",
      "484\n",
      "485\n",
      "486\n",
      "487\n",
      "488\n",
      "489\n",
      "490\n",
      "491\n",
      "492\n",
      "493\n",
      "494\n",
      "495\n",
      "496\n",
      "497\n",
      "498\n",
      "499\n",
      "500\n",
      "501\n",
      "502\n",
      "503\n",
      "504\n",
      "505\n",
      "507\n",
      "508\n",
      "509\n",
      "510\n",
      "511\n",
      "512\n",
      "513\n",
      "514\n",
      "515\n",
      "516\n",
      "517\n",
      "518\n",
      "519\n",
      "520\n",
      "521\n",
      "522\n",
      "523\n",
      "524\n",
      "525\n",
      "526\n",
      "527\n",
      "528\n",
      "529\n",
      "530\n",
      "531\n",
      "532\n",
      "533\n",
      "534\n",
      "535\n",
      "536\n",
      "537\n",
      "538\n",
      "539\n",
      "540\n",
      "541\n",
      "542\n",
      "543\n",
      "544\n",
      "545\n",
      "546\n",
      "547\n",
      "548\n",
      "549\n",
      "550\n",
      "551\n",
      "552\n",
      "553\n",
      "554\n",
      "555\n",
      "556\n",
      "557\n",
      "558\n",
      "559\n",
      "560\n",
      "561\n",
      "562\n",
      "563\n",
      "564\n",
      "565\n",
      "566\n",
      "567\n",
      "568\n",
      "569\n",
      "570\n",
      "571\n",
      "572\n",
      "573\n",
      "574\n",
      "575\n",
      "576\n",
      "577\n",
      "578\n",
      "579\n",
      "580\n",
      "581\n",
      "582\n",
      "583\n",
      "584\n",
      "585\n",
      "586\n",
      "587\n",
      "588\n",
      "589\n",
      "590\n",
      "591\n",
      "592\n",
      "593\n",
      "594\n",
      "595\n",
      "596\n",
      "597\n",
      "598\n",
      "599\n",
      "600\n",
      "601\n",
      "602\n",
      "603\n",
      "604\n",
      "605\n",
      "606\n",
      "607\n",
      "608\n",
      "609\n",
      "610\n",
      "611\n",
      "612\n",
      "613\n",
      "614\n",
      "615\n",
      "616\n",
      "617\n",
      "618\n",
      "619\n",
      "620\n",
      "621\n",
      "622\n",
      "623\n",
      "624\n",
      "625\n",
      "626\n",
      "627\n",
      "628\n",
      "629\n",
      "630\n",
      "631\n",
      "632\n",
      "633\n",
      "634\n",
      "635\n",
      "636\n",
      "637\n",
      "638\n",
      "639\n",
      "640\n",
      "641\n",
      "642\n",
      "643\n",
      "644\n",
      "645\n",
      "646\n",
      "647\n",
      "648\n",
      "649\n",
      "650\n",
      "651\n",
      "652\n",
      "653\n",
      "654\n",
      "655\n",
      "656\n",
      "657\n",
      "658\n",
      "659\n",
      "660\n",
      "661\n",
      "662\n",
      "663\n",
      "664\n",
      "665\n",
      "666\n",
      "667\n",
      "668\n",
      "669\n",
      "670\n",
      "671\n",
      "672\n",
      "673\n",
      "674\n",
      "675\n",
      "676\n",
      "677\n",
      "678\n",
      "679\n",
      "680\n",
      "681\n",
      "682\n",
      "683\n",
      "684\n",
      "685\n",
      "686\n",
      "687\n",
      "688\n",
      "689\n",
      "690\n",
      "691\n",
      "692\n",
      "693\n",
      "694\n",
      "695\n",
      "696\n",
      "697\n",
      "698\n",
      "699\n",
      "700\n",
      "701\n",
      "702\n",
      "703\n",
      "704\n",
      "705\n",
      "706\n",
      "707\n",
      "708\n",
      "709\n",
      "710\n",
      "711\n",
      "712\n",
      "713\n",
      "714\n",
      "715\n",
      "716\n",
      "717\n",
      "718\n",
      "719\n",
      "720\n",
      "721\n",
      "722\n",
      "723\n",
      "724\n",
      "725\n",
      "726\n",
      "727\n",
      "728\n",
      "729\n",
      "730\n",
      "731\n",
      "732\n",
      "733\n",
      "734\n",
      "735\n",
      "736\n",
      "737\n",
      "738\n",
      "739\n",
      "740\n",
      "741\n",
      "742\n",
      "743\n",
      "744\n",
      "745\n",
      "746\n",
      "747\n",
      "748\n",
      "749\n",
      "750\n",
      "751\n",
      "752\n",
      "753\n",
      "754\n",
      "755\n",
      "756\n",
      "757\n",
      "758\n",
      "759\n",
      "760\n",
      "761\n",
      "762\n",
      "763\n",
      "764\n",
      "765\n",
      "766\n",
      "767\n",
      "768\n",
      "769\n",
      "770\n",
      "771\n",
      "772\n",
      "773\n",
      "774\n",
      "775\n",
      "776\n",
      "777\n",
      "778\n",
      "779\n",
      "780\n",
      "781\n",
      "782\n",
      "783\n",
      "784\n",
      "785\n",
      "786\n",
      "787\n",
      "788\n",
      "789\n",
      "790\n",
      "791\n",
      "792\n",
      "793\n",
      "794\n",
      "795\n",
      "796\n",
      "797\n",
      "798\n",
      "799\n",
      "800\n",
      "801\n",
      "802\n",
      "803\n",
      "804\n",
      "805\n",
      "806\n",
      "807\n",
      "808\n",
      "809\n",
      "810\n",
      "811\n",
      "812\n",
      "813\n",
      "814\n",
      "815\n",
      "816\n",
      "817\n",
      "818\n",
      "819\n",
      "820\n",
      "821\n",
      "822\n",
      "823\n",
      "824\n",
      "825\n",
      "826\n",
      "827\n",
      "828\n",
      "829\n",
      "830\n",
      "831\n",
      "832\n",
      "833\n",
      "834\n",
      "835\n",
      "836\n",
      "837\n",
      "838\n",
      "839\n",
      "840\n",
      "841\n",
      "842\n",
      "843\n",
      "844\n",
      "845\n",
      "846\n",
      "847\n",
      "848\n",
      "849\n",
      "850\n",
      "851\n",
      "852\n",
      "853\n",
      "854\n",
      "855\n",
      "856\n",
      "857\n",
      "858\n",
      "859\n",
      "860\n",
      "861\n",
      "862\n",
      "863\n",
      "864\n",
      "865\n",
      "866\n",
      "867\n",
      "868\n",
      "869\n",
      "870\n",
      "871\n",
      "872\n",
      "873\n",
      "874\n",
      "875\n",
      "876\n",
      "877\n",
      "878\n",
      "879\n",
      "880\n",
      "881\n",
      "882\n",
      "883\n",
      "884\n",
      "885\n",
      "886\n",
      "887\n",
      "888\n",
      "889\n",
      "890\n",
      "891\n",
      "892\n",
      "893\n",
      "894\n",
      "895\n",
      "896\n",
      "897\n",
      "898\n",
      "899\n",
      "900\n",
      "901\n",
      "902\n",
      "903\n",
      "904\n",
      "905\n",
      "906\n",
      "907\n",
      "908\n",
      "909\n",
      "910\n",
      "911\n",
      "912\n",
      "913\n",
      "914\n",
      "915\n",
      "916\n",
      "917\n",
      "918\n",
      "919\n",
      "920\n",
      "921\n",
      "922\n",
      "923\n",
      "924\n",
      "925\n",
      "926\n",
      "927\n",
      "928\n",
      "929\n",
      "930\n",
      "931\n",
      "932\n",
      "933\n",
      "934\n",
      "935\n",
      "936\n",
      "937\n",
      "938\n",
      "939\n",
      "940\n",
      "941\n",
      "942\n",
      "943\n",
      "944\n",
      "945\n",
      "946\n",
      "947\n",
      "948\n",
      "949\n",
      "950\n",
      "951\n",
      "952\n",
      "953\n",
      "954\n",
      "955\n",
      "956\n",
      "957\n",
      "958\n",
      "959\n"
     ]
    }
   ],
   "source": [
    "for i in range(len(aud_shft)):\n",
    "    if str(col[i]) in aud_shft[i][0]: pass\n",
    "    else: print(i)"
   ]
  },
  {
   "cell_type": "markdown",
   "metadata": {},
   "source": [
    "### Shift events"
   ]
  },
  {
   "cell_type": "code",
   "execution_count": 80,
   "metadata": {},
   "outputs": [
    {
     "data": {
      "text/plain": [
       "961"
      ]
     },
     "execution_count": 80,
     "metadata": {},
     "output_type": "execute_result"
    }
   ],
   "source": [
    "aud_shft=[]\n",
    "\n",
    "for i in range(len(aud.annotations)-1):\n",
    "    if aud.annotations[i+1]['description']==\"New Segment/\": #New Segment/Sound/sound\n",
    "        aud_shft.append([aud.annotations[i]['description'],aud.annotations[i]['onset'],aud.annotations[i+1]['onset']-aud.annotations[i]['onset']])\n",
    "len(aud_shft)"
   ]
  },
  {
   "cell_type": "code",
   "execution_count": 81,
   "metadata": {},
   "outputs": [],
   "source": [
    "events_shft = []\n",
    "a=0\n",
    "\n",
    "for i in range(len(events)-1):\n",
    "    \n",
    "    if events[i][2] in trigger:\n",
    "        shft = aud_shft[a][2]\n",
    "        a+=1\n",
    "    else: shft = 0\n",
    "        \n",
    "    events_shft[i:i+1] = mne.event.shift_time_events(events[i:i+1], ids=None, tshift=shft, sfreq=reconst_raw.info['sfreq'])"
   ]
  },
  {
   "cell_type": "code",
   "execution_count": 82,
   "metadata": {},
   "outputs": [],
   "source": [
    "arr = np.vstack(events_shft)"
   ]
  },
  {
   "cell_type": "code",
   "execution_count": 43,
   "metadata": {},
   "outputs": [],
   "source": [
    "Eng = pd.read_excel(\"G:\\My Drive\\Research\\Decoding\\Psychopy\\stimuli_Eng.xlsx\")\n",
    "Kor = pd.read_excel(\"G:\\My Drive\\Research\\Decoding\\Psychopy\\stimuli_Kor.xlsx\")"
   ]
  },
  {
   "cell_type": "code",
   "execution_count": 83,
   "metadata": {},
   "outputs": [
    {
     "name": "stdout",
     "output_type": "stream",
     "text": [
      "Not setting metadata\n",
      "1055 matching events found\n",
      "Setting baseline interval to [-1.0, 0.0] sec\n",
      "Applying baseline correction (mode: mean)\n",
      "0 projection items activated\n",
      "Using data from preloaded Raw for 1055 events and 1001 original time points ...\n",
      "44 bad epochs dropped\n"
     ]
    }
   ],
   "source": [
    "try:\n",
    "    event_id={'RespYes': 1, 'RespNo': 2} # if all responses = yes\n",
    "    \n",
    "    for i in range(48):\n",
    "        event_id[Eng[\"word\"][i]] = Eng[\"trigger\"][i] \n",
    "    \n",
    "    for i in range(48):\n",
    "        event_id[Kor[\"word\"][i]] = Kor[\"trigger\"][i] \n",
    "    \n",
    "    epochs = mne.Epochs(reconst_raw, arr, event_id, tmin=-1, tmax=1, baseline=(None, 0.), preload=True, event_repeated='drop', )\n",
    "\n",
    "except ValueError:\n",
    "    event_id={'RespYes': 1}\n",
    "    \n",
    "    for i in range(48):\n",
    "        event_id[Eng[\"word\"][i]] = Eng[\"trigger\"][i] \n",
    "    \n",
    "    for i in range(48):\n",
    "        event_id[Kor[\"word\"][i]] = Kor[\"trigger\"][i] \n",
    "    \n",
    "    epochs = mne.Epochs(reconst_raw, arr, event_id, tmin=-1, tmax=1, baseline=(None, 0.), preload=True, event_repeated='drop')\n",
    "    \n",
    "\n",
    "#779, 780, 781, 784, 785: no epoch dropped\n",
    "#782: 20 epochs dropped\n",
    "#783: 44 epochs dropped"
   ]
  },
  {
   "cell_type": "markdown",
   "metadata": {},
   "source": [
    "# Keep trials without responses"
   ]
  },
  {
   "cell_type": "code",
   "execution_count": 84,
   "metadata": {},
   "outputs": [],
   "source": [
    "epochs_idx=[]\n",
    "\n",
    "for i in range(len(epochs)-1):\n",
    "    if epochs.events[i+1][2]!=1 and epochs.events[i+1][2]!=2:\n",
    "        epochs_idx.append(i)"
   ]
  },
  {
   "cell_type": "code",
   "execution_count": 85,
   "metadata": {},
   "outputs": [],
   "source": [
    "epochs_noresp = epochs[epochs_idx]"
   ]
  },
  {
   "cell_type": "code",
   "execution_count": 256,
   "metadata": {
    "collapsed": true
   },
   "outputs": [
    {
     "data": {
      "text/html": [
       "<table class=\"table table-hover table-striped table-sm table-responsive small\">\n",
       "    <tr>\n",
       "        <th>Number of events</th>\n",
       "        <td>960</td>\n",
       "    </tr>\n",
       "    <tr>\n",
       "        <th>Events</th>\n",
       "        \n",
       "        <td>Eng_chopped1: 9<br/>Eng_chopped2: 9<br/>Eng_chopped3: 9<br/>Eng_chops1: 9<br/>Eng_chops2: 9<br/>Eng_chops3: 9<br/>Eng_dog1: 9<br/>Eng_dog2: 9<br/>Eng_dog3: 9<br/>Eng_dogs1: 9<br/>Eng_dogs2: 9<br/>Eng_dogs3: 9<br/>Eng_filled1: 9<br/>Eng_filled2: 9<br/>Eng_filled3: 9<br/>Eng_fills1: 9<br/>Eng_fills2: 9<br/>Eng_fills3: 9<br/>Eng_leaned1: 9<br/>Eng_leaned2: 9<br/>Eng_leaned3: 9<br/>Eng_leans1: 9<br/>Eng_leans2: 9<br/>Eng_leans3: 9<br/>Eng_lion1: 9<br/>Eng_lion2: 9<br/>Eng_lion3: 9<br/>Eng_lions1: 9<br/>Eng_lions2: 9<br/>Eng_lions3: 9<br/>Eng_owned1: 9<br/>Eng_owned2: 9<br/>Eng_owned3: 9<br/>Eng_owns1: 9<br/>Eng_owns2: 9<br/>Eng_owns3: 9<br/>Eng_rat1: 9<br/>Eng_rat2: 9<br/>Eng_rat3: 9<br/>Eng_rats1: 9<br/>Eng_rats2: 9<br/>Eng_rats3: 9<br/>Eng_swan1: 8<br/>Eng_swan2: 9<br/>Eng_swan3: 8<br/>Eng_swans1: 9<br/>Eng_swans2: 9<br/>Eng_swans3: 9<br/>Kor_chopped1: 9<br/>Kor_chopped2: 9<br/>Kor_chopped3: 9<br/>Kor_chops1: 9<br/>Kor_chops2: 9<br/>Kor_chops3: 9<br/>Kor_dog1: 10<br/>Kor_dog2: 9<br/>Kor_dog3: 9<br/>Kor_dogs1: 9<br/>Kor_dogs2: 9<br/>Kor_dogs3: 10<br/>Kor_filled1: 9<br/>Kor_filled2: 9<br/>Kor_filled3: 9<br/>Kor_fills1: 9<br/>Kor_fills2: 10<br/>Kor_fills3: 9<br/>Kor_leaned1: 9<br/>Kor_leaned2: 9<br/>Kor_leaned3: 9<br/>Kor_leans1: 10<br/>Kor_leans2: 9<br/>Kor_leans3: 9<br/>Kor_lion1: 9<br/>Kor_lion2: 9<br/>Kor_lion3: 9<br/>Kor_lions1: 9<br/>Kor_lions2: 9<br/>Kor_lions3: 9<br/>Kor_owned1: 9<br/>Kor_owned2: 9<br/>Kor_owned3: 10<br/>Kor_owns1: 9<br/>Kor_owns2: 9<br/>Kor_owns3: 9<br/>Kor_rat1: 9<br/>Kor_rat2: 10<br/>Kor_rat3: 9<br/>Kor_rats1: 9<br/>Kor_rats2: 9<br/>Kor_rats3: 9<br/>Kor_swan1: 9<br/>Kor_swan2: 9<br/>Kor_swan3: 9<br/>Kor_swans1: 9<br/>Kor_swans2: 9<br/>Kor_swans3: 9<br/>RespYes: 92</td>\n",
       "        \n",
       "    </tr>\n",
       "    <tr>\n",
       "        <th>Time range</th>\n",
       "        <td>-0.200 – 1.000 sec</td>\n",
       "    </tr>\n",
       "    <tr>\n",
       "        <th>Baseline</th>\n",
       "        <td>-0.200 – 0.000 sec</td>\n",
       "    </tr>\n",
       "</table>"
      ],
      "text/plain": [
       "<Epochs |  960 events (all good), -0.2 - 1 sec, baseline -0.2 – 0 sec, ~145.3 MB, data loaded,\n",
       " 'RespYes': 92\n",
       " 'Eng_dog1': 9\n",
       " 'Eng_dog2': 9\n",
       " 'Eng_dog3': 9\n",
       " 'Eng_rat1': 9\n",
       " 'Eng_rat2': 9\n",
       " 'Eng_rat3': 9\n",
       " 'Eng_swan1': 8\n",
       " 'Eng_swan2': 9\n",
       " 'Eng_swan3': 8\n",
       " and 87 more events ...>"
      ]
     },
     "execution_count": 256,
     "metadata": {},
     "output_type": "execute_result"
    }
   ],
   "source": [
    "epochs_noresp"
   ]
  },
  {
   "cell_type": "code",
   "execution_count": 86,
   "metadata": {},
   "outputs": [],
   "source": [
    "epochs_noresp.save(\"G:\\My Drive\\Research\\Decoding\\EEG\\R0783_epo.fif\", overwrite=False)"
   ]
  },
  {
   "cell_type": "code",
   "execution_count": 21,
   "metadata": {},
   "outputs": [
    {
     "name": "stdout",
     "output_type": "stream",
     "text": [
      "Reading G:\\My Drive\\Research\\Dissertation\\EEG\\R0779_2_epo.fif ...\n",
      "    Found the data of interest:\n",
      "        t =   -1000.00 ...    1000.00 ms\n",
      "        0 CTF compensation matrices available\n",
      "0 bad epochs dropped\n",
      "Not setting metadata\n",
      "906 matching events found\n",
      "No baseline correction applied\n",
      "0 projection items activated\n"
     ]
    }
   ],
   "source": [
    "epochs_noresp=mne.read_epochs(\"G:\\My Drive\\Research\\Dissertation\\EEG\\R0779_2_epo.fif\", preload=True)"
   ]
  },
  {
   "cell_type": "code",
   "execution_count": 59,
   "metadata": {
    "collapsed": true
   },
   "outputs": [
    {
     "data": {
      "text/html": [
       "<table class=\"table table-hover table-striped table-sm table-responsive small\">\n",
       "    <tr>\n",
       "        <th>Number of events</th>\n",
       "        <td>906</td>\n",
       "    </tr>\n",
       "    <tr>\n",
       "        <th>Events</th>\n",
       "        \n",
       "        <td>Eng_chopped1: 9<br/>Eng_chopped2: 9<br/>Eng_chopped3: 9<br/>Eng_chops1: 8<br/>Eng_chops2: 9<br/>Eng_chops3: 9<br/>Eng_dog1: 9<br/>Eng_dog2: 9<br/>Eng_dog3: 9<br/>Eng_dogs1: 8<br/>Eng_dogs2: 7<br/>Eng_dogs3: 9<br/>Eng_filled1: 9<br/>Eng_filled2: 10<br/>Eng_filled3: 9<br/>Eng_fills1: 9<br/>Eng_fills2: 9<br/>Eng_fills3: 9<br/>Eng_leaned1: 9<br/>Eng_leaned2: 9<br/>Eng_leaned3: 8<br/>Eng_leans1: 9<br/>Eng_leans2: 8<br/>Eng_leans3: 8<br/>Eng_lion1: 9<br/>Eng_lion2: 9<br/>Eng_lion3: 9<br/>Eng_lions1: 9<br/>Eng_lions2: 7<br/>Eng_lions3: 8<br/>Eng_owned1: 9<br/>Eng_owned2: 8<br/>Eng_owned3: 10<br/>Eng_owns1: 9<br/>Eng_owns2: 9<br/>Eng_owns3: 8<br/>Eng_rat1: 9<br/>Eng_rat2: 9<br/>Eng_rat3: 9<br/>Eng_rats1: 9<br/>Eng_rats2: 9<br/>Eng_rats3: 8<br/>Eng_swan1: 9<br/>Eng_swan2: 8<br/>Eng_swan3: 8<br/>Eng_swans1: 9<br/>Eng_swans2: 9<br/>Eng_swans3: 9<br/>Kor_chopped1: 9<br/>Kor_chopped2: 9<br/>Kor_chopped3: 8<br/>Kor_chops1: 8<br/>Kor_chops2: 9<br/>Kor_chops3: 9<br/>Kor_dog1: 8<br/>Kor_dog2: 8<br/>Kor_dog3: 9<br/>Kor_dogs1: 9<br/>Kor_dogs2: 8<br/>Kor_dogs3: 8<br/>Kor_filled1: 7<br/>Kor_filled2: 8<br/>Kor_filled3: 9<br/>Kor_fills1: 9<br/>Kor_fills2: 9<br/>Kor_fills3: 9<br/>Kor_leaned1: 8<br/>Kor_leaned2: 8<br/>Kor_leaned3: 7<br/>Kor_leans1: 10<br/>Kor_leans2: 9<br/>Kor_leans3: 9<br/>Kor_lion1: 8<br/>Kor_lion2: 9<br/>Kor_lion3: 7<br/>Kor_lions1: 9<br/>Kor_lions2: 9<br/>Kor_lions3: 9<br/>Kor_owned1: 7<br/>Kor_owned2: 8<br/>Kor_owned3: 10<br/>Kor_owns1: 8<br/>Kor_owns2: 8<br/>Kor_owns3: 9<br/>Kor_rat1: 8<br/>Kor_rat2: 9<br/>Kor_rat3: 7<br/>Kor_rats1: 9<br/>Kor_rats2: 9<br/>Kor_rats3: 8<br/>Kor_swan1: 8<br/>Kor_swan2: 8<br/>Kor_swan3: 9<br/>Kor_swans1: 8<br/>Kor_swans2: 7<br/>Kor_swans3: 7<br/>RespYes: 85</td>\n",
       "        \n",
       "    </tr>\n",
       "    <tr>\n",
       "        <th>Time range</th>\n",
       "        <td>-1.000 – 1.000 sec</td>\n",
       "    </tr>\n",
       "    <tr>\n",
       "        <th>Baseline</th>\n",
       "        <td>-1.000 – 0.000 sec</td>\n",
       "    </tr>\n",
       "</table>"
      ],
      "text/plain": [
       "<EpochsFIF |  906 events (all good), -1 - 1 sec, baseline -1 – 0 sec, ~228.4 MB, data loaded,\n",
       " 'RespYes': 85\n",
       " 'Eng_dog1': 9\n",
       " 'Eng_dog2': 9\n",
       " 'Eng_dog3': 9\n",
       " 'Eng_rat1': 9\n",
       " 'Eng_rat2': 9\n",
       " 'Eng_rat3': 9\n",
       " 'Eng_swan1': 9\n",
       " 'Eng_swan2': 8\n",
       " 'Eng_swan3': 8\n",
       " and 87 more events ...>"
      ]
     },
     "execution_count": 59,
     "metadata": {},
     "output_type": "execute_result"
    }
   ],
   "source": [
    "epochs_noresp"
   ]
  },
  {
   "cell_type": "markdown",
   "metadata": {},
   "source": [
    "# Visualize epochs"
   ]
  },
  {
   "cell_type": "code",
   "execution_count": 35,
   "metadata": {},
   "outputs": [],
   "source": [
    "epochs_Engrat = epochs_noresp[\"Eng_rats1\", \"Eng_rats2\", \"Eng_rats3\"]"
   ]
  },
  {
   "cell_type": "code",
   "execution_count": 36,
   "metadata": {},
   "outputs": [
    {
     "data": {
      "image/png": "[encoded data removed]",
      "text/plain": [
       "<Figure size 640x300 with 1 Axes>"
      ]
     },
     "execution_count": 36,
     "metadata": {},
     "output_type": "execute_result"
    }
   ],
   "source": [
    "#picks=[\"Pz\", \"Cz\", \"Fz\", \"Oz\"]\n",
    "#epochs_Engdog.average().plot(picks=picks)\n",
    "epochs_Engrat.average().plot()"
   ]
  },
  {
   "cell_type": "code",
   "execution_count": 323,
   "metadata": {},
   "outputs": [
    {
     "data": {
      "text/plain": [
       "(27, 33, 601)"
      ]
     },
     "execution_count": 323,
     "metadata": {},
     "output_type": "execute_result"
    }
   ],
   "source": [
    "epochs_Engrat.get_data().shape"
   ]
  },
  {
   "cell_type": "code",
   "execution_count": 27,
   "metadata": {},
   "outputs": [
    {
     "name": "stdout",
     "output_type": "stream",
     "text": [
      "Not setting metadata\n",
      "26 matching events found\n",
      "No baseline correction applied\n",
      "0 projection items activated\n",
      "0 bad epochs dropped\n"
     ]
    }
   ],
   "source": [
    "epochs_Engdog.plot_image(picks=['Fz']);"
   ]
  },
  {
   "cell_type": "code",
   "execution_count": 246,
   "metadata": {},
   "outputs": [],
   "source": [
    "epochs_Kordog = epochs_noresp[\"Kor_dog1\", \"Kor_dog2\", \"Kor_dog3\"]"
   ]
  },
  {
   "cell_type": "code",
   "execution_count": 248,
   "metadata": {
    "collapsed": true
   },
   "outputs": [
    {
     "name": "stdout",
     "output_type": "stream",
     "text": [
      "Not setting metadata\n",
      "28 matching events found\n",
      "No baseline correction applied\n",
      "0 projection items activated\n",
      "0 bad epochs dropped\n",
      "combining channels using \"mean\"\n"
     ]
    },
    {
     "data": {
      "image/png": "[encoded data removed]",
      "text/plain": [
       "<Figure size 432x288 with 3 Axes>"
      ]
     },
     "metadata": {
      "needs_background": "light"
     },
     "output_type": "display_data"
    }
   ],
   "source": [
    "epochs_Kordog.plot_image(combine='mean');"
   ]
  },
  {
   "cell_type": "markdown",
   "metadata": {},
   "source": [
    "# MVPA"
   ]
  },
  {
   "cell_type": "code",
   "execution_count": 37,
   "metadata": {},
   "outputs": [],
   "source": [
    "from mne.datasets import sample\n",
    "from mne.decoding import (SlidingEstimator, GeneralizingEstimator, Scaler,\n",
    "                          cross_val_multiscore, LinearModel, get_coef,\n",
    "                          Vectorizer, CSP)\n",
    "\n",
    "from skopt import BayesSearchCV\n",
    "from sklearn.pipeline import make_pipeline\n",
    "from sklearn.preprocessing import StandardScaler\n",
    "from sklearn.linear_model import LogisticRegression\n",
    "\n",
    "from sklearn.preprocessing import StandardScaler\n",
    "from sklearn.pipeline import make_pipeline\n",
    "from sklearn.model_selection import cross_val_score, train_test_split, GridSearchCV, StratifiedKFold\n",
    "from sklearn.metrics import classification_report, accuracy_score, precision_recall_fscore_support\n",
    "\n",
    "# Models\n",
    "from sklearn import svm\n",
    "from sklearn.discriminant_analysis import LinearDiscriminantAnalysis\n",
    "from sklearn.linear_model import LogisticRegression"
   ]
  },
  {
   "cell_type": "code",
   "execution_count": 175,
   "metadata": {},
   "outputs": [],
   "source": [
    "## dog-rat\n",
    "target_names=['dog', 'rat']\n",
    "\n",
    "# Define epochs\n",
    "dog_Eng = epochs_noresp[\"Eng_dog1\",\"Eng_dog2\", \"Eng_dog3\", \"Eng_dogs1\", \"Eng_dogs2\", \"Eng_dogs3\"]\n",
    "rat_Eng = epochs_noresp[\"Eng_rat1\", \"Eng_rat2\", \"Eng_rat3\", \"Eng_rats1\", \"Eng_rats2\", \"Eng_rats3\"]\n",
    "\n",
    "dog_Eng12 = epochs_noresp[\"Eng_dog1\",\"Eng_dog2\" \"Eng_dogs1\", \"Eng_dogs2\"]\n",
    "rat_Eng12 = epochs_noresp[\"Eng_rat1\", \"Eng_rat2\", \"Eng_rats1\", \"Eng_rats2\"]\n",
    "\n",
    "dog_Eng3 = epochs_noresp[\"Eng_dog3\", \"Eng_dogs3\"]\n",
    "rat_Eng3 = epochs_noresp[\"Eng_rat3\", \"Eng_rats3\"]\n",
    "\n",
    "dog_Eng23 = epochs_noresp[\"Eng_dog3\",\"Eng_dog2\" \"Eng_dogs3\", \"Eng_dogs2\"]\n",
    "rat_Eng23 = epochs_noresp[\"Eng_rat3\", \"Eng_rat2\", \"Eng_rats3\", \"Eng_rats2\"]\n",
    "\n",
    "dog_Eng1 = epochs_noresp[\"Eng_dog1\", \"Eng_dogs1\"]\n",
    "rat_Eng1 = epochs_noresp[\"Eng_rat1\", \"Eng_rats1\"]\n",
    "\n",
    "#dog_Eng = epochs_noresp[\"Eng_dog1\",\"Eng_dog2\", \"Eng_dog3\"]\n",
    "#rat_Eng = epochs_noresp[\"Eng_rat1\", \"Eng_rat2\", \"Eng_rat3\"]\n",
    "\n",
    "dog_Kor = epochs_noresp[\"Kor_dog1\",\"Kor_dog2\", \"Kor_dog3\", \"Kor_dogs1\", \"Kor_dogs2\", \"Kor_dogs3\"]\n",
    "rat_Kor = epochs_noresp[\"Kor_rat1\", \"Kor_rat2\", \"Kor_rat3\", \"Kor_rats1\", \"Kor_rats2\", \"Kor_rats3\"]"
   ]
  },
  {
   "cell_type": "code",
   "execution_count": 113,
   "metadata": {},
   "outputs": [],
   "source": [
    "## Number\n",
    "target_names=['singular', 'plural']\n",
    "\n",
    "# Define epochs\n",
    "sg_Eng1 = epochs_noresp[\"Eng_dog1\",\"Eng_dog2\", \"Eng_dog3\", \"Eng_rat1\", \"Eng_rat2\", \"Eng_rat3\", \"Eng_swan1\",\"Eng_swan2\", \"Eng_swan3\", \"Eng_lion1\", \"Eng_lion2\", \"Eng_lion3\"]\n",
    "pl_Eng1 = epochs_noresp[\"Eng_dogs1\", \"Eng_dogs2\", \"Eng_dogs3\", \"Eng_rats1\", \"Eng_rats2\", \"Eng_rats3\", \"Eng_swans1\", \"Eng_swans2\", \"Eng_swans3\", \"Eng_lions1\", \"Eng_lions2\", \"Eng_lions3\"]\n",
    "\n",
    "sg_Eng = epochs_noresp[\"Eng_swan1\",\"Eng_swan2\", \"Eng_swan3\", \"Eng_lion1\", \"Eng_lion2\", \"Eng_lion3\"]\n",
    "pl_Eng = epochs_noresp[\"Eng_dogs1\", \"Eng_dogs2\", \"Eng_dogs3\", \"Eng_rats1\", \"Eng_rats2\", \"Eng_rats3\"]\n",
    "\n",
    "sg_Kor1 = epochs_noresp[\"Kor_dog1\",\"Kor_dog2\",\"Kor_dog3\", \"Kor_rat1\",\"Kor_rat2\", \"Kor_rat3\", \"Kor_lion1\", \"Kor_lion2\", \"Kor_lion3\",\"Kor_swan1\",\"Kor_swan2\", \"Kor_swan3\"]\n",
    "pl_Kor1 = epochs_noresp[\"Kor_dogs1\", \"Kor_dogs2\", \"Kor_dogs3\", \"Kor_rats1\", \"Kor_rats2\", \"Kor_rats3\", \"Kor_lions1\", \"Kor_lions2\", \"Kor_lions3\",\"Kor_swans1\",\"Kor_swans2\", \"Kor_swans3\"]\n",
    "\n",
    "sg_Kor = epochs_noresp[\"Kor_lion1\", \"Kor_lion2\", \"Kor_lion3\",\"Kor_swan1\",\"Kor_swan2\", \"Kor_swan3\"]\n",
    "pl_Kor = epochs_noresp[\"Kor_dogs1\", \"Kor_dogs2\", \"Kor_dogs3\", \"Kor_rats1\", \"Kor_rats2\", \"Kor_rats3\"]"
   ]
  },
  {
   "cell_type": "code",
   "execution_count": 106,
   "metadata": {},
   "outputs": [],
   "source": [
    "## Tense\n",
    "target_names=['present', 'past']\n",
    "\n",
    "# Define epochs\n",
    "pr_Eng = epochs_noresp[\"Eng_chops1\",\"Eng_chops2\", \"Eng_chops3\", \"Eng_leans1\",\"Eng_leans2\", \"Eng_leans3\", \"Eng_owns1\", \"Eng_owns2\", \"Eng_owns3\", \"Eng_fills1\", \"Eng_fills2\", \"Eng_fills3\"]\n",
    "pt_Eng = epochs_noresp[\"Eng_chopped1\",\"Eng_chopped2\", \"Eng_chopped3\",\"Eng_leaned1\",\"Eng_leaned2\",\"Eng_leaned3\",\"Eng_owned1\", \"Eng_owned2\",\"Eng_owned3\",\"Eng_filled1\",\"Eng_filled2\", \"Eng_filled3\"]\n",
    "\n",
    "pr_Kor = epochs_noresp[\"Kor_chops1\",\"Kor_chops2\", \"Kor_chops3\", \"Kor_leans1\",\"Kor_leans2\", \"Kor_leans3\", \"Kor_owns1\", \"Kor_owns2\", \"Kor_owns3\", \"Kor_fills1\", \"Kor_fills2\", \"Kor_fills3\"]\n",
    "pt_Kor = epochs_noresp[\"Kor_chopped1\",\"Kor_chopped2\", \"Kor_chopped3\",\"Kor_leaned1\",\"Kor_leaned2\",\"Kor_leaned3\",\"Kor_owned1\", \"Kor_owned2\",\"Kor_owned3\",\"Kor_filled1\",\"Kor_filled2\", \"Kor_filled3\"]"
   ]
  },
  {
   "cell_type": "code",
   "execution_count": 42,
   "metadata": {},
   "outputs": [],
   "source": [
    "Eng = pd.read_excel(\"G:\\My Drive\\Research\\Decoding\\Psychopy\\stimuli_Eng.xlsx\")\n",
    "Kor = pd.read_excel(\"G:\\My Drive\\Research\\Decoding\\Psychopy\\stimuli_Kor.xlsx\")\n",
    "events = []\n",
    "for i in range(48):\n",
    "    events.append(Eng[\"word\"][i])\n",
    "    \n",
    "for i in range(48):\n",
    "    events.append(Kor[\"word\"][i])"
   ]
  },
  {
   "cell_type": "code",
   "execution_count": 43,
   "metadata": {},
   "outputs": [],
   "source": [
    "import re\n",
    "r1 = re.compile(\"Eng.*dog\")\n",
    "r2 = re.compile(\"Eng.*rat\")\n",
    "\n",
    "l1 = list(filter(r1.match, events))\n",
    "l2 = list(filter(r2.match, events))"
   ]
  },
  {
   "cell_type": "code",
   "execution_count": 310,
   "metadata": {},
   "outputs": [],
   "source": [
    "# Define train data\n",
    "train1 = epochs_noresp[l1]\n",
    "train2 = epochs_noresp[l2]\n",
    "\n",
    "#train1 = sg_Kor1\n",
    "#train2 = pl_Kor1\n",
    "\n",
    "# Prepare train data\n",
    "trainx_1 = train1.get_data()\n",
    "trainx_2 = train2.get_data()\n",
    "trainx_1=trainx_1[:,:,100:]; #from 0ms\n",
    "trainx_2=trainx_2[:,:,100:];\n",
    "trainx = np.concatenate((trainx_1, trainx_2), axis=0)\n",
    "\n",
    "trainy_1 = train1.events[:,2]\n",
    "trainy_1[trainy_1 > 0] = 1\n",
    "trainy_2 = train2.events[:,2]\n",
    "trainy_2[trainy_2 > 0] = 2\n",
    "\n",
    "trainy = np.concatenate((trainy_1, trainy_2), axis=0)"
   ]
  },
  {
   "cell_type": "code",
   "execution_count": 311,
   "metadata": {},
   "outputs": [],
   "source": [
    "train_data, test_data, train_labels, test_labels = train_test_split(trainx, trainy, test_size=0.2, random_state=42)"
   ]
  },
  {
   "cell_type": "code",
   "execution_count": 333,
   "metadata": {},
   "outputs": [
    {
     "data": {
      "text/plain": [
       "dict_keys(['memory', 'steps', 'verbose', 'vectorizer', 'standardscaler', 'svc', 'standardscaler__copy', 'standardscaler__with_mean', 'standardscaler__with_std', 'svc__C', 'svc__break_ties', 'svc__cache_size', 'svc__class_weight', 'svc__coef0', 'svc__decision_function_shape', 'svc__degree', 'svc__gamma', 'svc__kernel', 'svc__max_iter', 'svc__probability', 'svc__random_state', 'svc__shrinking', 'svc__tol', 'svc__verbose'])"
      ]
     },
     "execution_count": 333,
     "metadata": {},
     "output_type": "execute_result"
    }
   ],
   "source": [
    "clf_svm_pip.get_params().keys()"
   ]
  },
  {
   "cell_type": "code",
   "execution_count": null,
   "metadata": {},
   "outputs": [],
   "source": [
    "clf_svm_pip = make_pipeline(Vectorizer(), StandardScaler(), svm.SVC(random_state=42))\n",
    "parameters = {\n",
    "        'svc__C': (1e-6, 1e+6, 'log-uniform'),\n",
    "        'svc__gamma': (1e-6, 1e+1, 'log-uniform'),\n",
    "        'svc__degree': (1, 8),  # integer valued parameter\n",
    "        'svc__kernel': ['linear', 'poly', 'rbf'],  # categorical parameter\n",
    "    }\n",
    "    \n",
    "gs_cv_svm = BayesSearchCV(clf_svm_pip, parameters, n_iter=32, cv=3)\n",
    "gs_cv_svm.fit(train_data, train_labels)\n",
    "\n",
    "print(gs_cv_svm.best_params_)\n",
    "print(gs_cv_svm.best_score_)"
   ]
  },
  {
   "cell_type": "code",
   "execution_count": 319,
   "metadata": {},
   "outputs": [
    {
     "name": "stdout",
     "output_type": "stream",
     "text": [
      "{'svc__C': 0.0001, 'svc__kernel': 'rbf'}\n",
      "0.5117647058823529\n"
     ]
    }
   ],
   "source": [
    "clf_svm_pip = make_pipeline(Vectorizer(), StandardScaler(), svm.SVC(random_state=42))\n",
    "parameters = {'svc__kernel':['linear', 'rbf', 'sigmoid'], 'svc__C':[0.0001, 0.001]}\n",
    "\n",
    "gs_cv_svm = GridSearchCV(clf_svm_pip, parameters, scoring='accuracy', cv=StratifiedKFold(n_splits=5), return_train_score=True)\n",
    "gs_cv_svm.fit(train_data, train_labels)\n",
    "\n",
    "print(gs_cv_svm.best_params_)\n",
    "print(gs_cv_svm.best_score_)"
   ]
  },
  {
   "cell_type": "code",
   "execution_count": 178,
   "metadata": {
    "collapsed": true
   },
   "outputs": [
    {
     "name": "stdout",
     "output_type": "stream",
     "text": [
      "Accuracy of 1th fold is 0.5\n",
      "\n",
      "Accuracy of 2th fold is 0.5555555555555556\n",
      "\n",
      "Accuracy of 3th fold is 0.5882352941176471\n",
      "\n",
      "Accuracy of 4th fold is 0.6470588235294118\n",
      "\n",
      "Accuracy of 5th fold is 0.35294117647058826\n",
      "\n",
      "The average CV accuracy is  0.5287581699346405\n"
     ]
    }
   ],
   "source": [
    "scores = cross_val_score(gs_cv_svm, train_data, train_labels, cv=StratifiedKFold(n_splits=5))\n",
    "for i in range(len(scores)):   \n",
    "    print('Accuracy of ' + str(i+1) + 'th fold is ' + str(scores[i]) + '\\n')\n",
    "print('The average CV accuracy is ', sum(scores)/len(scores))"
   ]
  },
  {
   "cell_type": "code",
   "execution_count": 279,
   "metadata": {},
   "outputs": [],
   "source": [
    "t1 = re.compile(\"Eng.*dog\")\n",
    "t2 = re.compile(\"Eng.*rat\")\n",
    "\n",
    "tl1 = list(filter(t1.match, events))\n",
    "tl2 = list(filter(t2.match, events))"
   ]
  },
  {
   "cell_type": "code",
   "execution_count": 280,
   "metadata": {},
   "outputs": [],
   "source": [
    "# Define test data\n",
    "\n",
    "test1 = epochs_noresp[tl1]\n",
    "test2 = epochs_noresp[tl2]\n",
    "#test1 = sg_Eng1\n",
    "#test2 = pl_Eng1\n",
    "\n",
    "# Prepare test data\n",
    "testx_1 = test1.get_data()\n",
    "testx_2 = test2.get_data()\n",
    "testx_1=testx_1[:,:,100:]; #from 0ms\n",
    "testx_2=testx_2[:,:,100:];\n",
    "test_data = np.concatenate((testx_1, testx_2), axis=0)\n",
    "\n",
    "testy_1 = test1.events[:,2]\n",
    "testy_1[testy_1 > 0] = 1\n",
    "testy_2 = test2.events[:,2]\n",
    "testy_2[testy_2 > 0] = 2\n",
    "\n",
    "test_labels = np.concatenate((testy_1, testy_2), axis=0)"
   ]
  },
  {
   "cell_type": "code",
   "execution_count": 320,
   "metadata": {
    "scrolled": true
   },
   "outputs": [
    {
     "name": "stdout",
     "output_type": "stream",
     "text": [
      "SVM Clasification Report:\n",
      "               precision    recall  f1-score   support\n",
      "\n",
      "          c1       0.45      1.00      0.62        10\n",
      "          c2       0.00      0.00      0.00        12\n",
      "\n",
      "    accuracy                           0.45        22\n",
      "   macro avg       0.23      0.50      0.31        22\n",
      "weighted avg       0.21      0.45      0.28        22\n",
      "\n",
      "Accuracy of SVM model: 0.45\n",
      "Precision: 0.23, Recall: 0.50, f1-score:0.31\n"
     ]
    },
    {
     "name": "stderr",
     "output_type": "stream",
     "text": [
      "C:\\Users\\LG\\anaconda3\\envs\\eelbrain\\lib\\site-packages\\sklearn\\metrics\\_classification.py:1318: UndefinedMetricWarning: Precision and F-score are ill-defined and being set to 0.0 in labels with no predicted samples. Use `zero_division` parameter to control this behavior.\n",
      "  _warn_prf(average, modifier, msg_start, len(result))\n",
      "C:\\Users\\LG\\anaconda3\\envs\\eelbrain\\lib\\site-packages\\sklearn\\metrics\\_classification.py:1318: UndefinedMetricWarning: Precision and F-score are ill-defined and being set to 0.0 in labels with no predicted samples. Use `zero_division` parameter to control this behavior.\n",
      "  _warn_prf(average, modifier, msg_start, len(result))\n",
      "C:\\Users\\LG\\anaconda3\\envs\\eelbrain\\lib\\site-packages\\sklearn\\metrics\\_classification.py:1318: UndefinedMetricWarning: Precision and F-score are ill-defined and being set to 0.0 in labels with no predicted samples. Use `zero_division` parameter to control this behavior.\n",
      "  _warn_prf(average, modifier, msg_start, len(result))\n",
      "C:\\Users\\LG\\anaconda3\\envs\\eelbrain\\lib\\site-packages\\sklearn\\metrics\\_classification.py:1318: UndefinedMetricWarning: Precision and F-score are ill-defined and being set to 0.0 in labels with no predicted samples. Use `zero_division` parameter to control this behavior.\n",
      "  _warn_prf(average, modifier, msg_start, len(result))\n"
     ]
    }
   ],
   "source": [
    "#Prediction\n",
    "predictions_svm = gs_cv_svm.predict(test_data)\n",
    "\n",
    "#Evaluate\n",
    "report_svm = classification_report(test_labels, predictions_svm, target_names=[\"c1\", \"c2\"])\n",
    "print('SVM Clasification Report:\\n {}'.format(report_svm))\n",
    "\n",
    "acc_svm = accuracy_score(test_labels, predictions_svm)\n",
    "print(\"Accuracy of SVM model: {:.2f}\".format(acc_svm))\n",
    "    \n",
    "precision_svm,recall_svm,fscore_svm,support_svm=precision_recall_fscore_support(test_labels,predictions_svm,average='macro')\n",
    "print('Precision: {:.2f}, Recall: {:.2f}, f1-score:{:.2f}'.format(precision_svm,recall_svm,fscore_svm))\n",
    "    "
   ]
  },
  {
   "cell_type": "markdown",
   "metadata": {},
   "source": [
    "# Temporal decoding"
   ]
  },
  {
   "cell_type": "code",
   "execution_count": 356,
   "metadata": {},
   "outputs": [
    {
     "data": {
      "application/vnd.jupyter.widget-view+json": {
       "model_id": "30269e963df64480a480789d8242eaf6",
       "version_major": 2,
       "version_minor": 0
      },
      "text/plain": [
       "HBox(children=(FloatProgress(value=0.0, description='Fitting GeneralizingEstimator', max=501.0, style=Progress…"
      ]
     },
     "metadata": {},
     "output_type": "display_data"
    },
    {
     "name": "stdout",
     "output_type": "stream",
     "text": [
      "\n"
     ]
    },
    {
     "data": {
      "text/plain": [
       "<GeneralizingEstimator(base_estimator=GridSearchCV(cv=StratifiedKFold(n_splits=5, random_state=None, shuffle=False),\n",
       "             estimator=Pipeline(steps=[('vectorizer',\n",
       "                                        <mne.decoding.transformer.Vectorizer object at 0x000001501DFEEA00>),\n",
       "                                       ('st...c__kernel': ['linear', 'rbf', 'sigmoid']},\n",
       "             return_train_score=True, scoring='accuracy'),\n",
       "           n_jobs=1, scoring='roc_auc', fitted with 501 estimators, fitted with 501 estimators>"
      ]
     },
     "execution_count": 356,
     "metadata": {},
     "output_type": "execute_result"
    }
   ],
   "source": [
    "time_gen = GeneralizingEstimator(gs_cv_svm, scoring='roc_auc', n_jobs=1, verbose=True)\n",
    "time_gen.fit(train_data, train_labels)"
   ]
  },
  {
   "cell_type": "code",
   "execution_count": 357,
   "metadata": {},
   "outputs": [
    {
     "data": {
      "application/vnd.jupyter.widget-view+json": {
       "model_id": "8810157885094f3bbb1cb2817c1c8c4e",
       "version_major": 2,
       "version_minor": 0
      },
      "text/plain": [
       "HBox(children=(FloatProgress(value=0.0, description='Scoring GeneralizingEstimator', max=251001.0, style=Progr…"
      ]
     },
     "metadata": {},
     "output_type": "display_data"
    },
    {
     "name": "stdout",
     "output_type": "stream",
     "text": [
      "\n"
     ]
    }
   ],
   "source": [
    "scores = time_gen.score(test_data, test_labels);"
   ]
  },
  {
   "cell_type": "code",
   "execution_count": 358,
   "metadata": {},
   "outputs": [
    {
     "data": {
      "image/png": "[encoded data removed]",
      "text/plain": [
       "<Figure size 432x288 with 2 Axes>"
      ]
     },
     "metadata": {
      "needs_background": "light"
     },
     "output_type": "display_data"
    }
   ],
   "source": [
    "import matplotlib.pyplot as plt\n",
    "\n",
    "fig, ax = plt.subplots(1)\n",
    "im = ax.matshow(scores, vmin=0, vmax=1., cmap='RdBu_r', origin='lower',\n",
    "                extent=epochs.times[[500, -1, 500, -1]])\n",
    "ax.axhline(0., color='k')\n",
    "ax.axvline(0., color='k')\n",
    "ax.xaxis.set_ticks_position('bottom')\n",
    "ax.set_xlabel('Testing Time (s)')\n",
    "ax.set_ylabel('Training Time (s)')\n",
    "ax.set_title('Generalization for dog(s)/rat(s) Korean-English')\n",
    "plt.colorbar(im, ax=ax)\n",
    "plt.show()"
   ]
  }
 ],
 "metadata": {
  "kernelspec": {
   "display_name": "Python 3 (ipykernel)",
   "language": "python",
   "name": "python3"
  },
  "language_info": {
   "codemirror_mode": {
    "name": "ipython",
    "version": 3
   },
   "file_extension": ".py",
   "mimetype": "text/x-python",
   "name": "python",
   "nbconvert_exporter": "python",
   "pygments_lexer": "ipython3",
   "version": "3.9.12"
  }
 },
 "nbformat": 4,
 "nbformat_minor": 4
}
