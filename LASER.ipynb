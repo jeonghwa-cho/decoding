{
 "cells": [
  {
   "cell_type": "code",
   "execution_count": 1,
   "metadata": {
    "collapsed": true
   },
   "outputs": [
    {
     "name": "stdout",
     "output_type": "stream",
     "text": [
      "Collecting laserembeddings"
     ]
    },
    {
     "name": "stderr",
     "output_type": "stream",
     "text": [
      "WARNING: You are using pip version 20.2; however, version 22.0.4 is available.\n",
      "You should consider upgrading via the 'c:\\users\\lg\\appdata\\local\\programs\\python\\python38\\python.exe -m pip install --upgrade pip' command.\n"
     ]
    },
    {
     "name": "stdout",
     "output_type": "stream",
     "text": [
      "\n",
      "  Downloading laserembeddings-1.1.2-py3-none-any.whl (13 kB)\n",
      "Requirement already satisfied: numpy<2.0.0,>=1.15.4 in c:\\users\\lg\\appdata\\local\\programs\\python\\python38\\lib\\site-packages (from laserembeddings) (1.18.4)\n",
      "Collecting transliterate==1.10.2\n",
      "  Downloading transliterate-1.10.2-py2.py3-none-any.whl (45 kB)\n",
      "Collecting subword-nmt<0.4.0,>=0.3.6\n",
      "  Downloading subword_nmt-0.3.8-py3-none-any.whl (27 kB)\n",
      "Collecting sacremoses==0.0.35\n",
      "  Downloading sacremoses-0.0.35.tar.gz (859 kB)\n",
      "Requirement already satisfied: torch<2.0.0,>=1.0.1.post2 in c:\\users\\lg\\appdata\\local\\programs\\python\\python38\\lib\\site-packages (from laserembeddings) (1.9.0)\n",
      "Requirement already satisfied: six>=1.1.0 in c:\\users\\lg\\appdata\\local\\programs\\python\\python38\\lib\\site-packages (from transliterate==1.10.2->laserembeddings) (1.14.0)\n",
      "Requirement already satisfied: tqdm in c:\\users\\lg\\appdata\\local\\programs\\python\\python38\\lib\\site-packages (from subword-nmt<0.4.0,>=0.3.6->laserembeddings) (4.46.0)\n",
      "Collecting mock\n",
      "  Using cached mock-4.0.3-py3-none-any.whl (28 kB)\n",
      "Requirement already satisfied: click in c:\\users\\lg\\appdata\\local\\programs\\python\\python38\\lib\\site-packages (from sacremoses==0.0.35->laserembeddings) (7.1.2)\n",
      "Requirement already satisfied: joblib in c:\\users\\lg\\appdata\\local\\programs\\python\\python38\\lib\\site-packages (from sacremoses==0.0.35->laserembeddings) (0.15.1)\n",
      "Requirement already satisfied: typing-extensions in c:\\users\\lg\\appdata\\local\\programs\\python\\python38\\lib\\site-packages (from torch<2.0.0,>=1.0.1.post2->laserembeddings) (3.7.4.3)\n",
      "Building wheels for collected packages: sacremoses\n",
      "  Building wheel for sacremoses (setup.py): started\n",
      "  Building wheel for sacremoses (setup.py): finished with status 'done'\n",
      "  Created wheel for sacremoses: filename=sacremoses-0.0.35-py3-none-any.whl size=884002 sha256=0fa0e5a20b32cb46e3c8cd9d82667e3912ffd9596914eaa75cc5ecb5225a7521\n",
      "  Stored in directory: c:\\users\\lg\\appdata\\local\\pip\\cache\\wheels\\c4\\df\\30\\3d6c623db99d503dcdbae1f686953b7c1a0754d8a658dc0845\n",
      "Successfully built sacremoses\n",
      "Installing collected packages: transliterate, mock, subword-nmt, sacremoses, laserembeddings\n",
      "  Attempting uninstall: sacremoses\n",
      "    Found existing installation: sacremoses 0.0.45\n",
      "    Uninstalling sacremoses-0.0.45:\n",
      "      Successfully uninstalled sacremoses-0.0.45\n",
      "Successfully installed laserembeddings-1.1.2 mock-4.0.3 sacremoses-0.0.35 subword-nmt-0.3.8 transliterate-1.10.2\n"
     ]
    }
   ],
   "source": [
    "# !pip install laserembeddings"
   ]
  },
  {
   "cell_type": "code",
   "execution_count": 84,
   "metadata": {
    "collapsed": true
   },
   "outputs": [
    {
     "name": "stdout",
     "output_type": "stream",
     "text": [
      "Collecting openpyxl\n",
      "  Downloading openpyxl-3.0.9-py2.py3-none-any.whl (242 kB)\n",
      "\u001b[K     |████████████████████████████████| 242 kB 3.6 MB/s eta 0:00:01\n",
      "\u001b[?25hCollecting et-xmlfile\n",
      "  Downloading et_xmlfile-1.1.0-py3-none-any.whl (4.7 kB)\n",
      "Installing collected packages: et-xmlfile, openpyxl\n",
      "Successfully installed et-xmlfile-1.1.0 openpyxl-3.0.9\n"
     ]
    }
   ],
   "source": [
    "#!pip install openpyxl"
   ]
  },
  {
   "cell_type": "code",
   "execution_count": 1,
   "metadata": {},
   "outputs": [],
   "source": [
    "from laserembeddings import Laser"
   ]
  },
  {
   "cell_type": "code",
   "execution_count": 109,
   "metadata": {},
   "outputs": [],
   "source": [
    "import pandas as pd\n",
    "import numpy as np\n",
    "import os"
   ]
  },
  {
   "cell_type": "code",
   "execution_count": 100,
   "metadata": {},
   "outputs": [],
   "source": [
    "data=pd.read_excel(\"stimuli_LASER.xlsx\")"
   ]
  },
  {
   "cell_type": "code",
   "execution_count": 93,
   "metadata": {},
   "outputs": [],
   "source": [
    "laser=Laser()\n",
    "word=data['word'].tolist()\n",
    "lang=data['lang'].tolist()\n",
    "\n",
    "embeddings = laser.embed_sentences(\n",
    "    word, lang)"
   ]
  },
  {
   "cell_type": "code",
   "execution_count": 3,
   "metadata": {},
   "outputs": [
    {
     "data": {
      "text/plain": [
       "array([[ 0.0013956 , -0.00068237, -0.00171305, ..., -0.00046227,\n",
       "        -0.00505024, -0.00325442],\n",
       "       [ 0.00661472, -0.00289796,  0.00081702, ...,  0.03364355,\n",
       "         0.01929407, -0.01143917],\n",
       "       [ 0.00081608, -0.00115159, -0.00235463, ..., -0.00017876,\n",
       "        -0.00152252, -0.00402322],\n",
       "       [ 0.00652758, -0.00169493,  0.00060638, ...,  0.03106197,\n",
       "         0.00284388, -0.00800663]], dtype=float32)"
      ]
     },
     "execution_count": 3,
     "metadata": {},
     "output_type": "execute_result"
    }
   ],
   "source": [
    "embeddings"
   ]
  },
  {
   "cell_type": "markdown",
   "metadata": {},
   "source": [
    "# Visualize word embeddings\n",
    "\n",
    "# 1\n",
    "\n",
    "https://www.kaggle.com/code/jeffd23/visualizing-word-vectors-with-t-sne/notebook\n",
    "\n",
    "https://www.mathworks.com/help/textanalytics/ug/visualize-word-embedding-using-text-scatter-plot.html\n",
    "\n",
    "cf PCA (https://towardsdatascience.com/pca-using-python-scikit-learn-e653f8989e60)"
   ]
  },
  {
   "cell_type": "code",
   "execution_count": 61,
   "metadata": {
    "collapsed": true
   },
   "outputs": [
    {
     "name": "stdout",
     "output_type": "stream",
     "text": [
      "Collecting matplotlib\n",
      "  Downloading matplotlib-3.5.1-cp37-cp37m-manylinux_2_5_x86_64.manylinux1_x86_64.whl (11.2 MB)\n",
      "\u001b[K     |████████████████████████████████| 11.2 MB 1.8 MB/s eta 0:00:01    |█████▏                          | 1.8 MB 2.5 MB/s eta 0:00:04     |███████████████████▌            | 6.8 MB 2.5 MB/s eta 0:00:02\n",
      "\u001b[?25hCollecting cycler>=0.10\n",
      "  Downloading cycler-0.11.0-py3-none-any.whl (6.4 kB)\n",
      "Collecting fonttools>=4.22.0\n",
      "  Downloading fonttools-4.33.3-py3-none-any.whl (930 kB)\n",
      "\u001b[K     |████████████████████████████████| 930 kB 9.5 MB/s eta 0:00:01\n",
      "\u001b[?25hCollecting pillow>=6.2.0\n",
      "  Using cached Pillow-9.1.0-cp37-cp37m-manylinux_2_17_x86_64.manylinux2014_x86_64.whl (4.3 MB)\n",
      "Collecting kiwisolver>=1.0.1\n",
      "  Downloading kiwisolver-1.4.2-cp37-cp37m-manylinux_2_5_x86_64.manylinux1_x86_64.whl (1.1 MB)\n",
      "\u001b[K     |████████████████████████████████| 1.1 MB 12.0 MB/s eta 0:00:01\n",
      "\u001b[?25hRequirement already satisfied: numpy>=1.17 in /home/jeonghwa/miniconda3/lib/python3.7/site-packages (from matplotlib) (1.20.2)\n",
      "Requirement already satisfied: pyparsing>=2.2.1 in /home/jeonghwa/miniconda3/lib/python3.7/site-packages (from matplotlib) (2.4.7)\n",
      "Requirement already satisfied: python-dateutil>=2.7 in /home/jeonghwa/miniconda3/lib/python3.7/site-packages (from matplotlib) (2.8.1)\n",
      "Requirement already satisfied: packaging>=20.0 in /home/jeonghwa/miniconda3/lib/python3.7/site-packages (from matplotlib) (20.9)\n",
      "Requirement already satisfied: typing-extensions in /home/jeonghwa/miniconda3/lib/python3.7/site-packages (from kiwisolver>=1.0.1->matplotlib) (3.7.4.3)\n",
      "Requirement already satisfied: six>=1.5 in /home/jeonghwa/miniconda3/lib/python3.7/site-packages (from python-dateutil>=2.7->matplotlib) (1.15.0)\n",
      "Installing collected packages: pillow, kiwisolver, fonttools, cycler, matplotlib\n",
      "  Attempting uninstall: pillow\n",
      "    Found existing installation: Pillow 5.4.1\n",
      "    Uninstalling Pillow-5.4.1:\n",
      "      Successfully uninstalled Pillow-5.4.1\n",
      "Successfully installed cycler-0.11.0 fonttools-4.33.3 kiwisolver-1.4.2 matplotlib-3.5.1 pillow-9.1.0\n"
     ]
    }
   ],
   "source": [
    "#!pip install matplotlib"
   ]
  },
  {
   "cell_type": "code",
   "execution_count": 69,
   "metadata": {},
   "outputs": [
    {
     "name": "stdout",
     "output_type": "stream",
     "text": [
      "Collecting Pillow==9.0.0\n",
      "  Downloading Pillow-9.0.0-cp37-cp37m-manylinux_2_17_x86_64.manylinux2014_x86_64.whl (4.3 MB)\n",
      "\u001b[K     |████████████████████████████████| 4.3 MB 4.3 MB/s eta 0:00:01\n",
      "\u001b[?25hInstalling collected packages: Pillow\n",
      "Successfully installed Pillow-9.1.0\n"
     ]
    }
   ],
   "source": [
    "#!pip install --ignore-installed Pillow==9.0.0"
   ]
  },
  {
   "cell_type": "markdown",
   "metadata": {},
   "source": [
    "https://medium.com/analytics-vidhya/word-embedding-using-python-63770334841"
   ]
  },
  {
   "cell_type": "code",
   "execution_count": 94,
   "metadata": {},
   "outputs": [],
   "source": [
    "# dimentionality reduction using PCA\n",
    "pca = PCA(n_components=2)\n",
    "# running the transformations\n",
    "result = pca.fit_transform(embeddings)"
   ]
  },
  {
   "cell_type": "code",
   "execution_count": 166,
   "metadata": {},
   "outputs": [],
   "source": [
    "# creating a dataframe from the results\n",
    "df = pd.DataFrame(result, columns=list('XY'))\n",
    "# adding a columns for the corresponding words\n",
    "df['Words'] = data['word_E'].tolist()\n",
    "# converting the lower case text to title case\n",
    "df['Words'] = df['Words'].str.title()\n",
    "\n",
    "df['Group'] = ['English noun']*8 + ['Korean noun']*8 + ['English verb']*8 + ['Korean verb']*8"
   ]
  },
  {
   "cell_type": "code",
   "execution_count": 167,
   "metadata": {
    "collapsed": true
   },
   "outputs": [
    {
     "data": {
      "text/html": [
       "<div>\n",
       "<style scoped>\n",
       "    .dataframe tbody tr th:only-of-type {\n",
       "        vertical-align: middle;\n",
       "    }\n",
       "\n",
       "    .dataframe tbody tr th {\n",
       "        vertical-align: top;\n",
       "    }\n",
       "\n",
       "    .dataframe thead th {\n",
       "        text-align: right;\n",
       "    }\n",
       "</style>\n",
       "<table border=\"1\" class=\"dataframe\">\n",
       "  <thead>\n",
       "    <tr style=\"text-align: right;\">\n",
       "      <th></th>\n",
       "      <th>X</th>\n",
       "      <th>Y</th>\n",
       "      <th>Words</th>\n",
       "      <th>Group</th>\n",
       "    </tr>\n",
       "  </thead>\n",
       "  <tbody>\n",
       "    <tr>\n",
       "      <th>0</th>\n",
       "      <td>-0.044618</td>\n",
       "      <td>0.064906</td>\n",
       "      <td>Dog</td>\n",
       "      <td>English noun</td>\n",
       "    </tr>\n",
       "    <tr>\n",
       "      <th>1</th>\n",
       "      <td>-0.076719</td>\n",
       "      <td>0.004082</td>\n",
       "      <td>Rat</td>\n",
       "      <td>English noun</td>\n",
       "    </tr>\n",
       "    <tr>\n",
       "      <th>2</th>\n",
       "      <td>-0.131716</td>\n",
       "      <td>-0.062825</td>\n",
       "      <td>Swan</td>\n",
       "      <td>English noun</td>\n",
       "    </tr>\n",
       "    <tr>\n",
       "      <th>3</th>\n",
       "      <td>-0.107108</td>\n",
       "      <td>0.063608</td>\n",
       "      <td>Lion</td>\n",
       "      <td>English noun</td>\n",
       "    </tr>\n",
       "    <tr>\n",
       "      <th>4</th>\n",
       "      <td>-0.083824</td>\n",
       "      <td>0.098568</td>\n",
       "      <td>Dogs</td>\n",
       "      <td>English noun</td>\n",
       "    </tr>\n",
       "    <tr>\n",
       "      <th>5</th>\n",
       "      <td>-0.108401</td>\n",
       "      <td>0.005935</td>\n",
       "      <td>Rats</td>\n",
       "      <td>English noun</td>\n",
       "    </tr>\n",
       "    <tr>\n",
       "      <th>6</th>\n",
       "      <td>-0.221261</td>\n",
       "      <td>-0.115188</td>\n",
       "      <td>Swans</td>\n",
       "      <td>English noun</td>\n",
       "    </tr>\n",
       "    <tr>\n",
       "      <th>7</th>\n",
       "      <td>-0.155169</td>\n",
       "      <td>0.026938</td>\n",
       "      <td>Lions</td>\n",
       "      <td>English noun</td>\n",
       "    </tr>\n",
       "    <tr>\n",
       "      <th>8</th>\n",
       "      <td>0.071852</td>\n",
       "      <td>0.221468</td>\n",
       "      <td>Dog_K</td>\n",
       "      <td>Korean noun</td>\n",
       "    </tr>\n",
       "    <tr>\n",
       "      <th>9</th>\n",
       "      <td>-0.006183</td>\n",
       "      <td>0.163966</td>\n",
       "      <td>Rat_K</td>\n",
       "      <td>Korean noun</td>\n",
       "    </tr>\n",
       "    <tr>\n",
       "      <th>10</th>\n",
       "      <td>-0.029654</td>\n",
       "      <td>0.025377</td>\n",
       "      <td>Swan_K</td>\n",
       "      <td>Korean noun</td>\n",
       "    </tr>\n",
       "    <tr>\n",
       "      <th>11</th>\n",
       "      <td>0.031964</td>\n",
       "      <td>-0.021371</td>\n",
       "      <td>Lion_K</td>\n",
       "      <td>Korean noun</td>\n",
       "    </tr>\n",
       "    <tr>\n",
       "      <th>12</th>\n",
       "      <td>0.059893</td>\n",
       "      <td>0.211555</td>\n",
       "      <td>Dogs_K</td>\n",
       "      <td>Korean noun</td>\n",
       "    </tr>\n",
       "    <tr>\n",
       "      <th>13</th>\n",
       "      <td>0.026838</td>\n",
       "      <td>0.158176</td>\n",
       "      <td>Rats_K</td>\n",
       "      <td>Korean noun</td>\n",
       "    </tr>\n",
       "    <tr>\n",
       "      <th>14</th>\n",
       "      <td>0.015580</td>\n",
       "      <td>0.143033</td>\n",
       "      <td>Swans_K</td>\n",
       "      <td>Korean noun</td>\n",
       "    </tr>\n",
       "    <tr>\n",
       "      <th>15</th>\n",
       "      <td>0.052220</td>\n",
       "      <td>0.137370</td>\n",
       "      <td>Lions_K</td>\n",
       "      <td>Korean noun</td>\n",
       "    </tr>\n",
       "    <tr>\n",
       "      <th>16</th>\n",
       "      <td>-0.150391</td>\n",
       "      <td>-0.084110</td>\n",
       "      <td>Leans</td>\n",
       "      <td>English verb</td>\n",
       "    </tr>\n",
       "    <tr>\n",
       "      <th>17</th>\n",
       "      <td>-0.142831</td>\n",
       "      <td>-0.034189</td>\n",
       "      <td>Chops</td>\n",
       "      <td>English verb</td>\n",
       "    </tr>\n",
       "    <tr>\n",
       "      <th>18</th>\n",
       "      <td>-0.158746</td>\n",
       "      <td>-0.051153</td>\n",
       "      <td>Owns</td>\n",
       "      <td>English verb</td>\n",
       "    </tr>\n",
       "    <tr>\n",
       "      <th>19</th>\n",
       "      <td>-0.032990</td>\n",
       "      <td>0.000129</td>\n",
       "      <td>Fills</td>\n",
       "      <td>English verb</td>\n",
       "    </tr>\n",
       "    <tr>\n",
       "      <th>20</th>\n",
       "      <td>-0.194477</td>\n",
       "      <td>-0.149737</td>\n",
       "      <td>Leaned</td>\n",
       "      <td>English verb</td>\n",
       "    </tr>\n",
       "    <tr>\n",
       "      <th>21</th>\n",
       "      <td>-0.094263</td>\n",
       "      <td>-0.105147</td>\n",
       "      <td>Chopped</td>\n",
       "      <td>English verb</td>\n",
       "    </tr>\n",
       "    <tr>\n",
       "      <th>22</th>\n",
       "      <td>-0.088778</td>\n",
       "      <td>-0.045042</td>\n",
       "      <td>Owned</td>\n",
       "      <td>English verb</td>\n",
       "    </tr>\n",
       "    <tr>\n",
       "      <th>23</th>\n",
       "      <td>-0.032935</td>\n",
       "      <td>-0.060024</td>\n",
       "      <td>Filled</td>\n",
       "      <td>English verb</td>\n",
       "    </tr>\n",
       "    <tr>\n",
       "      <th>24</th>\n",
       "      <td>0.150338</td>\n",
       "      <td>-0.071287</td>\n",
       "      <td>Leans_K</td>\n",
       "      <td>Korean verb</td>\n",
       "    </tr>\n",
       "    <tr>\n",
       "      <th>25</th>\n",
       "      <td>0.163079</td>\n",
       "      <td>-0.048279</td>\n",
       "      <td>Chops_K</td>\n",
       "      <td>Korean verb</td>\n",
       "    </tr>\n",
       "    <tr>\n",
       "      <th>26</th>\n",
       "      <td>0.226650</td>\n",
       "      <td>-0.091924</td>\n",
       "      <td>Owns_K</td>\n",
       "      <td>Korean verb</td>\n",
       "    </tr>\n",
       "    <tr>\n",
       "      <th>27</th>\n",
       "      <td>0.193188</td>\n",
       "      <td>-0.108860</td>\n",
       "      <td>Fills_K</td>\n",
       "      <td>Korean verb</td>\n",
       "    </tr>\n",
       "    <tr>\n",
       "      <th>28</th>\n",
       "      <td>0.204696</td>\n",
       "      <td>-0.046787</td>\n",
       "      <td>Leaned_K</td>\n",
       "      <td>Korean verb</td>\n",
       "    </tr>\n",
       "    <tr>\n",
       "      <th>29</th>\n",
       "      <td>0.209570</td>\n",
       "      <td>-0.050150</td>\n",
       "      <td>Chopped_K</td>\n",
       "      <td>Korean verb</td>\n",
       "    </tr>\n",
       "    <tr>\n",
       "      <th>30</th>\n",
       "      <td>0.236181</td>\n",
       "      <td>-0.083477</td>\n",
       "      <td>Owned_K</td>\n",
       "      <td>Korean verb</td>\n",
       "    </tr>\n",
       "    <tr>\n",
       "      <th>31</th>\n",
       "      <td>0.218016</td>\n",
       "      <td>-0.095559</td>\n",
       "      <td>Filled_K</td>\n",
       "      <td>Korean verb</td>\n",
       "    </tr>\n",
       "  </tbody>\n",
       "</table>\n",
       "</div>"
      ],
      "text/plain": [
       "           X         Y      Words         Group\n",
       "0  -0.044618  0.064906        Dog  English noun\n",
       "1  -0.076719  0.004082        Rat  English noun\n",
       "2  -0.131716 -0.062825       Swan  English noun\n",
       "3  -0.107108  0.063608       Lion  English noun\n",
       "4  -0.083824  0.098568       Dogs  English noun\n",
       "5  -0.108401  0.005935       Rats  English noun\n",
       "6  -0.221261 -0.115188      Swans  English noun\n",
       "7  -0.155169  0.026938      Lions  English noun\n",
       "8   0.071852  0.221468      Dog_K   Korean noun\n",
       "9  -0.006183  0.163966      Rat_K   Korean noun\n",
       "10 -0.029654  0.025377     Swan_K   Korean noun\n",
       "11  0.031964 -0.021371     Lion_K   Korean noun\n",
       "12  0.059893  0.211555     Dogs_K   Korean noun\n",
       "13  0.026838  0.158176     Rats_K   Korean noun\n",
       "14  0.015580  0.143033    Swans_K   Korean noun\n",
       "15  0.052220  0.137370    Lions_K   Korean noun\n",
       "16 -0.150391 -0.084110      Leans  English verb\n",
       "17 -0.142831 -0.034189      Chops  English verb\n",
       "18 -0.158746 -0.051153       Owns  English verb\n",
       "19 -0.032990  0.000129      Fills  English verb\n",
       "20 -0.194477 -0.149737     Leaned  English verb\n",
       "21 -0.094263 -0.105147    Chopped  English verb\n",
       "22 -0.088778 -0.045042      Owned  English verb\n",
       "23 -0.032935 -0.060024     Filled  English verb\n",
       "24  0.150338 -0.071287    Leans_K   Korean verb\n",
       "25  0.163079 -0.048279    Chops_K   Korean verb\n",
       "26  0.226650 -0.091924     Owns_K   Korean verb\n",
       "27  0.193188 -0.108860    Fills_K   Korean verb\n",
       "28  0.204696 -0.046787   Leaned_K   Korean verb\n",
       "29  0.209570 -0.050150  Chopped_K   Korean verb\n",
       "30  0.236181 -0.083477    Owned_K   Korean verb\n",
       "31  0.218016 -0.095559   Filled_K   Korean verb"
      ]
     },
     "execution_count": 167,
     "metadata": {},
     "output_type": "execute_result"
    }
   ],
   "source": [
    "df"
   ]
  },
  {
   "cell_type": "code",
   "execution_count": 188,
   "metadata": {},
   "outputs": [
    {
     "name": "stdout",
     "output_type": "stream",
     "text": [
      "0.20\n"
     ]
    }
   ],
   "source": [
    "n_dist=[]\n",
    "kor=[]\n",
    "eng=[]\n",
    "for i in range(0,8):\n",
    "    dist=np.linalg.norm(result[i]-result[i+8])\n",
    "    #print(word[i], word[i+8], \"{:.2f}\".format(dist))\n",
    "    n_dist.append(dist)\n",
    "    eng.append(word[i])\n",
    "    kor.append(word[i+8])\n",
    "\n",
    "print(\"{:.2f}\".format(sum(n_dist)/len(n_dist)))"
   ]
  },
  {
   "cell_type": "code",
   "execution_count": 190,
   "metadata": {},
   "outputs": [
    {
     "data": {
      "text/html": [
       "<style type=\"text/css\">\n",
       "</style>\n",
       "<table id=\"T_18cee_\">\n",
       "  <thead>\n",
       "    <tr>\n",
       "      <th class=\"blank level0\" >&nbsp;</th>\n",
       "      <th class=\"col_heading level0 col0\" >English</th>\n",
       "      <th class=\"col_heading level0 col1\" >Korean</th>\n",
       "      <th class=\"col_heading level0 col2\" >Distance</th>\n",
       "    </tr>\n",
       "  </thead>\n",
       "  <tbody>\n",
       "    <tr>\n",
       "      <th id=\"T_18cee_level0_row0\" class=\"row_heading level0 row0\" >0</th>\n",
       "      <td id=\"T_18cee_row0_col0\" class=\"data row0 col0\" >dog</td>\n",
       "      <td id=\"T_18cee_row0_col1\" class=\"data row0 col1\" >개</td>\n",
       "      <td id=\"T_18cee_row0_col2\" class=\"data row0 col2\" >0.20</td>\n",
       "    </tr>\n",
       "    <tr>\n",
       "      <th id=\"T_18cee_level0_row1\" class=\"row_heading level0 row1\" >1</th>\n",
       "      <td id=\"T_18cee_row1_col0\" class=\"data row1 col0\" >rat</td>\n",
       "      <td id=\"T_18cee_row1_col1\" class=\"data row1 col1\" >쥐</td>\n",
       "      <td id=\"T_18cee_row1_col2\" class=\"data row1 col2\" >0.17</td>\n",
       "    </tr>\n",
       "    <tr>\n",
       "      <th id=\"T_18cee_level0_row2\" class=\"row_heading level0 row2\" >2</th>\n",
       "      <td id=\"T_18cee_row2_col0\" class=\"data row2 col0\" >swan</td>\n",
       "      <td id=\"T_18cee_row2_col1\" class=\"data row2 col1\" >백조</td>\n",
       "      <td id=\"T_18cee_row2_col2\" class=\"data row2 col2\" >0.13</td>\n",
       "    </tr>\n",
       "    <tr>\n",
       "      <th id=\"T_18cee_level0_row3\" class=\"row_heading level0 row3\" >3</th>\n",
       "      <td id=\"T_18cee_row3_col0\" class=\"data row3 col0\" >lion</td>\n",
       "      <td id=\"T_18cee_row3_col1\" class=\"data row3 col1\" >사자</td>\n",
       "      <td id=\"T_18cee_row3_col2\" class=\"data row3 col2\" >0.16</td>\n",
       "    </tr>\n",
       "    <tr>\n",
       "      <th id=\"T_18cee_level0_row4\" class=\"row_heading level0 row4\" >4</th>\n",
       "      <td id=\"T_18cee_row4_col0\" class=\"data row4 col0\" >dogs</td>\n",
       "      <td id=\"T_18cee_row4_col1\" class=\"data row4 col1\" >개들</td>\n",
       "      <td id=\"T_18cee_row4_col2\" class=\"data row4 col2\" >0.18</td>\n",
       "    </tr>\n",
       "    <tr>\n",
       "      <th id=\"T_18cee_level0_row5\" class=\"row_heading level0 row5\" >5</th>\n",
       "      <td id=\"T_18cee_row5_col0\" class=\"data row5 col0\" >rats</td>\n",
       "      <td id=\"T_18cee_row5_col1\" class=\"data row5 col1\" >쥐들</td>\n",
       "      <td id=\"T_18cee_row5_col2\" class=\"data row5 col2\" >0.20</td>\n",
       "    </tr>\n",
       "    <tr>\n",
       "      <th id=\"T_18cee_level0_row6\" class=\"row_heading level0 row6\" >6</th>\n",
       "      <td id=\"T_18cee_row6_col0\" class=\"data row6 col0\" >swans</td>\n",
       "      <td id=\"T_18cee_row6_col1\" class=\"data row6 col1\" >백조들</td>\n",
       "      <td id=\"T_18cee_row6_col2\" class=\"data row6 col2\" >0.35</td>\n",
       "    </tr>\n",
       "    <tr>\n",
       "      <th id=\"T_18cee_level0_row7\" class=\"row_heading level0 row7\" >7</th>\n",
       "      <td id=\"T_18cee_row7_col0\" class=\"data row7 col0\" >lions</td>\n",
       "      <td id=\"T_18cee_row7_col1\" class=\"data row7 col1\" >사자들</td>\n",
       "      <td id=\"T_18cee_row7_col2\" class=\"data row7 col2\" >0.23</td>\n",
       "    </tr>\n",
       "  </tbody>\n",
       "</table>\n"
      ],
      "text/plain": [
       "<pandas.io.formats.style.Styler at 0x7f35fc3ada10>"
      ]
     },
     "execution_count": 190,
     "metadata": {},
     "output_type": "execute_result"
    }
   ],
   "source": [
    "n_dist = [\"{:.2f}\".format(value) for value in n_dist]\n",
    "def highlight_max(x):\n",
    "    return ['' for v in x]\n",
    "\n",
    "data = {'English': eng, 'Korean': kor, 'Distance': n_dist}\n",
    "df = pd.DataFrame(data)\n",
    "df.style.apply(highlight_max)"
   ]
  },
  {
   "cell_type": "code",
   "execution_count": 191,
   "metadata": {},
   "outputs": [
    {
     "name": "stdout",
     "output_type": "stream",
     "text": [
      "0.32\n"
     ]
    }
   ],
   "source": [
    "v_dist=[]\n",
    "kor=[]\n",
    "eng=[]\n",
    "\n",
    "for i in range(16,24):\n",
    "    dist=np.linalg.norm(result[i]-result[i+8])\n",
    "    #print(word[i], word[i+8], \"{:.2f}\".format(dist))\n",
    "    v_dist.append(dist)\n",
    "    eng.append(word[i])\n",
    "    kor.append(word[i+8])\n",
    "\n",
    "print(\"{:.2f}\".format(sum(v_dist)/len(v_dist)))"
   ]
  },
  {
   "cell_type": "code",
   "execution_count": 192,
   "metadata": {},
   "outputs": [
    {
     "data": {
      "text/html": [
       "<style type=\"text/css\">\n",
       "</style>\n",
       "<table id=\"T_6bd60_\">\n",
       "  <thead>\n",
       "    <tr>\n",
       "      <th class=\"blank level0\" >&nbsp;</th>\n",
       "      <th class=\"col_heading level0 col0\" >English</th>\n",
       "      <th class=\"col_heading level0 col1\" >Korean</th>\n",
       "      <th class=\"col_heading level0 col2\" >Distance</th>\n",
       "    </tr>\n",
       "  </thead>\n",
       "  <tbody>\n",
       "    <tr>\n",
       "      <th id=\"T_6bd60_level0_row0\" class=\"row_heading level0 row0\" >0</th>\n",
       "      <td id=\"T_6bd60_row0_col0\" class=\"data row0 col0\" >leans</td>\n",
       "      <td id=\"T_6bd60_row0_col1\" class=\"data row0 col1\" >기댄다</td>\n",
       "      <td id=\"T_6bd60_row0_col2\" class=\"data row0 col2\" >0.30</td>\n",
       "    </tr>\n",
       "    <tr>\n",
       "      <th id=\"T_6bd60_level0_row1\" class=\"row_heading level0 row1\" >1</th>\n",
       "      <td id=\"T_6bd60_row1_col0\" class=\"data row1 col0\" >chops</td>\n",
       "      <td id=\"T_6bd60_row1_col1\" class=\"data row1 col1\" >자른다</td>\n",
       "      <td id=\"T_6bd60_row1_col2\" class=\"data row1 col2\" >0.31</td>\n",
       "    </tr>\n",
       "    <tr>\n",
       "      <th id=\"T_6bd60_level0_row2\" class=\"row_heading level0 row2\" >2</th>\n",
       "      <td id=\"T_6bd60_row2_col0\" class=\"data row2 col0\" >owns</td>\n",
       "      <td id=\"T_6bd60_row2_col1\" class=\"data row2 col1\" >가진다</td>\n",
       "      <td id=\"T_6bd60_row2_col2\" class=\"data row2 col2\" >0.39</td>\n",
       "    </tr>\n",
       "    <tr>\n",
       "      <th id=\"T_6bd60_level0_row3\" class=\"row_heading level0 row3\" >3</th>\n",
       "      <td id=\"T_6bd60_row3_col0\" class=\"data row3 col0\" >fills</td>\n",
       "      <td id=\"T_6bd60_row3_col1\" class=\"data row3 col1\" >채운다</td>\n",
       "      <td id=\"T_6bd60_row3_col2\" class=\"data row3 col2\" >0.25</td>\n",
       "    </tr>\n",
       "    <tr>\n",
       "      <th id=\"T_6bd60_level0_row4\" class=\"row_heading level0 row4\" >4</th>\n",
       "      <td id=\"T_6bd60_row4_col0\" class=\"data row4 col0\" >leaned</td>\n",
       "      <td id=\"T_6bd60_row4_col1\" class=\"data row4 col1\" >기댔다</td>\n",
       "      <td id=\"T_6bd60_row4_col2\" class=\"data row4 col2\" >0.41</td>\n",
       "    </tr>\n",
       "    <tr>\n",
       "      <th id=\"T_6bd60_level0_row5\" class=\"row_heading level0 row5\" >5</th>\n",
       "      <td id=\"T_6bd60_row5_col0\" class=\"data row5 col0\" >chopped</td>\n",
       "      <td id=\"T_6bd60_row5_col1\" class=\"data row5 col1\" >잘랐다</td>\n",
       "      <td id=\"T_6bd60_row5_col2\" class=\"data row5 col2\" >0.31</td>\n",
       "    </tr>\n",
       "    <tr>\n",
       "      <th id=\"T_6bd60_level0_row6\" class=\"row_heading level0 row6\" >6</th>\n",
       "      <td id=\"T_6bd60_row6_col0\" class=\"data row6 col0\" >owned</td>\n",
       "      <td id=\"T_6bd60_row6_col1\" class=\"data row6 col1\" >가졌다</td>\n",
       "      <td id=\"T_6bd60_row6_col2\" class=\"data row6 col2\" >0.33</td>\n",
       "    </tr>\n",
       "    <tr>\n",
       "      <th id=\"T_6bd60_level0_row7\" class=\"row_heading level0 row7\" >7</th>\n",
       "      <td id=\"T_6bd60_row7_col0\" class=\"data row7 col0\" >filled</td>\n",
       "      <td id=\"T_6bd60_row7_col1\" class=\"data row7 col1\" >채웠다</td>\n",
       "      <td id=\"T_6bd60_row7_col2\" class=\"data row7 col2\" >0.25</td>\n",
       "    </tr>\n",
       "  </tbody>\n",
       "</table>\n"
      ],
      "text/plain": [
       "<pandas.io.formats.style.Styler at 0x7f35fc3ad750>"
      ]
     },
     "execution_count": 192,
     "metadata": {},
     "output_type": "execute_result"
    }
   ],
   "source": [
    "v_dist = [\"{:.2f}\".format(value) for value in v_dist]\n",
    "def highlight_max(x):\n",
    "    return ['' for v in x]\n",
    "\n",
    "data = {'English': eng, 'Korean': kor, 'Distance': v_dist}\n",
    "df = pd.DataFrame(data)\n",
    "df.style.apply(highlight_max)"
   ]
  },
  {
   "cell_type": "code",
   "execution_count": 181,
   "metadata": {},
   "outputs": [
    {
     "data": {
      "application/vnd.plotly.v1+json": {
       "config": {
        "plotlyServerURL": "https://plot.ly"
       },
       "data": [
        {
         "hovertemplate": "Group=English noun<br>X=%{x}<br>Y=%{y}<br>Words=%{text}<extra></extra>",
         "legendgroup": "English noun",
         "marker": {
          "color": "#636efa",
          "symbol": "circle"
         },
         "mode": "markers+text",
         "name": "English noun",
         "orientation": "v",
         "showlegend": true,
         "text": [
          "Dog",
          "Rat",
          "Swan",
          "Lion",
          "Dogs",
          "Rats",
          "Swans",
          "Lions"
         ],
         "textposition": "top center",
         "type": "scatter",
         "x": [
          -0.04461827874183655,
          -0.07671885937452316,
          -0.13171571493148804,
          -0.10710816085338593,
          -0.0838240459561348,
          -0.10840101540088654,
          -0.22126078605651855,
          -0.1551688313484192
         ],
         "xaxis": "x",
         "y": [
          0.06490619480609894,
          0.004081523045897484,
          -0.06282476335763931,
          0.0636080950498581,
          0.09856770187616348,
          0.0059349024668335915,
          -0.11518842726945877,
          0.026938093826174736
         ],
         "yaxis": "y"
        },
        {
         "hovertemplate": "Group=Korean noun<br>X=%{x}<br>Y=%{y}<br>Words=%{text}<extra></extra>",
         "legendgroup": "Korean noun",
         "marker": {
          "color": "#EF553B",
          "symbol": "circle"
         },
         "mode": "markers+text",
         "name": "Korean noun",
         "orientation": "v",
         "showlegend": true,
         "text": [
          "Dog_K",
          "Rat_K",
          "Swan_K",
          "Lion_K",
          "Dogs_K",
          "Rats_K",
          "Swans_K",
          "Lions_K"
         ],
         "textposition": "top center",
         "type": "scatter",
         "x": [
          0.07185212522745132,
          -0.006183250807225704,
          -0.02965443581342697,
          0.03196381404995918,
          0.05989348515868187,
          0.026837963610887527,
          0.015580379404127598,
          0.052220314741134644
         ],
         "xaxis": "x",
         "y": [
          0.22146792709827423,
          0.16396594047546387,
          0.0253766980022192,
          -0.021370626986026764,
          0.21155504882335663,
          0.1581757664680481,
          0.14303280413150787,
          0.1373702436685562
         ],
         "yaxis": "y"
        },
        {
         "hovertemplate": "Group=English verb<br>X=%{x}<br>Y=%{y}<br>Words=%{text}<extra></extra>",
         "legendgroup": "English verb",
         "marker": {
          "color": "#00cc96",
          "symbol": "circle"
         },
         "mode": "markers+text",
         "name": "English verb",
         "orientation": "v",
         "showlegend": true,
         "text": [
          "Leans",
          "Chops",
          "Owns",
          "Fills",
          "Leaned",
          "Chopped",
          "Owned",
          "Filled"
         ],
         "textposition": "top center",
         "type": "scatter",
         "x": [
          -0.15039145946502686,
          -0.14283135533332825,
          -0.15874643623828888,
          -0.03299049660563469,
          -0.19447655975818634,
          -0.09426313638687134,
          -0.08877825736999512,
          -0.03293523192405701
         ],
         "xaxis": "x",
         "y": [
          -0.08411017805337906,
          -0.03418860584497452,
          -0.051153361797332764,
          0.0001286098558921367,
          -0.14973711967468262,
          -0.1051473617553711,
          -0.045041851699352264,
          -0.060023728758096695
         ],
         "yaxis": "y"
        },
        {
         "hovertemplate": "Group=Korean verb<br>X=%{x}<br>Y=%{y}<br>Words=%{text}<extra></extra>",
         "legendgroup": "Korean verb",
         "marker": {
          "color": "#ab63fa",
          "symbol": "circle"
         },
         "mode": "markers+text",
         "name": "Korean verb",
         "orientation": "v",
         "showlegend": true,
         "text": [
          "Leans_K",
          "Chops_K",
          "Owns_K",
          "Fills_K",
          "Leaned_K",
          "Chopped_K",
          "Owned_K",
          "Filled_K"
         ],
         "textposition": "top center",
         "type": "scatter",
         "x": [
          0.15033811330795288,
          0.16307856142520905,
          0.22665001451969147,
          0.19318844377994537,
          0.20469580590724945,
          0.20957010984420776,
          0.23618146777153015,
          0.2180156707763672
         ],
         "xaxis": "x",
         "y": [
          -0.07128742337226868,
          -0.04827912524342537,
          -0.09192359447479248,
          -0.10886000096797943,
          -0.04678696393966675,
          -0.05015035346150398,
          -0.08347664028406143,
          -0.09555935859680176
         ],
         "yaxis": "y"
        }
       ],
       "layout": {
        "font": {
         "size": 14.5
        },
        "height": 900,
        "legend": {
         "title": {
          "text": "Group"
         },
         "tracegroupgap": 0,
         "x": 0.01,
         "xanchor": "left",
         "y": 0.99,
         "yanchor": "top"
        },
        "margin": {
         "t": 60
        },
        "template": {
         "data": {
          "bar": [
           {
            "error_x": {
             "color": "#2a3f5f"
            },
            "error_y": {
             "color": "#2a3f5f"
            },
            "marker": {
             "line": {
              "color": "#E5ECF6",
              "width": 0.5
             },
             "pattern": {
              "fillmode": "overlay",
              "size": 10,
              "solidity": 0.2
             }
            },
            "type": "bar"
           }
          ],
          "barpolar": [
           {
            "marker": {
             "line": {
              "color": "#E5ECF6",
              "width": 0.5
             },
             "pattern": {
              "fillmode": "overlay",
              "size": 10,
              "solidity": 0.2
             }
            },
            "type": "barpolar"
           }
          ],
          "carpet": [
           {
            "aaxis": {
             "endlinecolor": "#2a3f5f",
             "gridcolor": "white",
             "linecolor": "white",
             "minorgridcolor": "white",
             "startlinecolor": "#2a3f5f"
            },
            "baxis": {
             "endlinecolor": "#2a3f5f",
             "gridcolor": "white",
             "linecolor": "white",
             "minorgridcolor": "white",
             "startlinecolor": "#2a3f5f"
            },
            "type": "carpet"
           }
          ],
          "choropleth": [
           {
            "colorbar": {
             "outlinewidth": 0,
             "ticks": ""
            },
            "type": "choropleth"
           }
          ],
          "contour": [
           {
            "colorbar": {
             "outlinewidth": 0,
             "ticks": ""
            },
            "colorscale": [
             [
              0,
              "#0d0887"
             ],
             [
              0.1111111111111111,
              "#46039f"
             ],
             [
              0.2222222222222222,
              "#7201a8"
             ],
             [
              0.3333333333333333,
              "#9c179e"
             ],
             [
              0.4444444444444444,
              "#bd3786"
             ],
             [
              0.5555555555555556,
              "#d8576b"
             ],
             [
              0.6666666666666666,
              "#ed7953"
             ],
             [
              0.7777777777777778,
              "#fb9f3a"
             ],
             [
              0.8888888888888888,
              "#fdca26"
             ],
             [
              1,
              "#f0f921"
             ]
            ],
            "type": "contour"
           }
          ],
          "contourcarpet": [
           {
            "colorbar": {
             "outlinewidth": 0,
             "ticks": ""
            },
            "type": "contourcarpet"
           }
          ],
          "heatmap": [
           {
            "colorbar": {
             "outlinewidth": 0,
             "ticks": ""
            },
            "colorscale": [
             [
              0,
              "#0d0887"
             ],
             [
              0.1111111111111111,
              "#46039f"
             ],
             [
              0.2222222222222222,
              "#7201a8"
             ],
             [
              0.3333333333333333,
              "#9c179e"
             ],
             [
              0.4444444444444444,
              "#bd3786"
             ],
             [
              0.5555555555555556,
              "#d8576b"
             ],
             [
              0.6666666666666666,
              "#ed7953"
             ],
             [
              0.7777777777777778,
              "#fb9f3a"
             ],
             [
              0.8888888888888888,
              "#fdca26"
             ],
             [
              1,
              "#f0f921"
             ]
            ],
            "type": "heatmap"
           }
          ],
          "heatmapgl": [
           {
            "colorbar": {
             "outlinewidth": 0,
             "ticks": ""
            },
            "colorscale": [
             [
              0,
              "#0d0887"
             ],
             [
              0.1111111111111111,
              "#46039f"
             ],
             [
              0.2222222222222222,
              "#7201a8"
             ],
             [
              0.3333333333333333,
              "#9c179e"
             ],
             [
              0.4444444444444444,
              "#bd3786"
             ],
             [
              0.5555555555555556,
              "#d8576b"
             ],
             [
              0.6666666666666666,
              "#ed7953"
             ],
             [
              0.7777777777777778,
              "#fb9f3a"
             ],
             [
              0.8888888888888888,
              "#fdca26"
             ],
             [
              1,
              "#f0f921"
             ]
            ],
            "type": "heatmapgl"
           }
          ],
          "histogram": [
           {
            "marker": {
             "pattern": {
              "fillmode": "overlay",
              "size": 10,
              "solidity": 0.2
             }
            },
            "type": "histogram"
           }
          ],
          "histogram2d": [
           {
            "colorbar": {
             "outlinewidth": 0,
             "ticks": ""
            },
            "colorscale": [
             [
              0,
              "#0d0887"
             ],
             [
              0.1111111111111111,
              "#46039f"
             ],
             [
              0.2222222222222222,
              "#7201a8"
             ],
             [
              0.3333333333333333,
              "#9c179e"
             ],
             [
              0.4444444444444444,
              "#bd3786"
             ],
             [
              0.5555555555555556,
              "#d8576b"
             ],
             [
              0.6666666666666666,
              "#ed7953"
             ],
             [
              0.7777777777777778,
              "#fb9f3a"
             ],
             [
              0.8888888888888888,
              "#fdca26"
             ],
             [
              1,
              "#f0f921"
             ]
            ],
            "type": "histogram2d"
           }
          ],
          "histogram2dcontour": [
           {
            "colorbar": {
             "outlinewidth": 0,
             "ticks": ""
            },
            "colorscale": [
             [
              0,
              "#0d0887"
             ],
             [
              0.1111111111111111,
              "#46039f"
             ],
             [
              0.2222222222222222,
              "#7201a8"
             ],
             [
              0.3333333333333333,
              "#9c179e"
             ],
             [
              0.4444444444444444,
              "#bd3786"
             ],
             [
              0.5555555555555556,
              "#d8576b"
             ],
             [
              0.6666666666666666,
              "#ed7953"
             ],
             [
              0.7777777777777778,
              "#fb9f3a"
             ],
             [
              0.8888888888888888,
              "#fdca26"
             ],
             [
              1,
              "#f0f921"
             ]
            ],
            "type": "histogram2dcontour"
           }
          ],
          "mesh3d": [
           {
            "colorbar": {
             "outlinewidth": 0,
             "ticks": ""
            },
            "type": "mesh3d"
           }
          ],
          "parcoords": [
           {
            "line": {
             "colorbar": {
              "outlinewidth": 0,
              "ticks": ""
             }
            },
            "type": "parcoords"
           }
          ],
          "pie": [
           {
            "automargin": true,
            "type": "pie"
           }
          ],
          "scatter": [
           {
            "fillpattern": {
             "fillmode": "overlay",
             "size": 10,
             "solidity": 0.2
            },
            "type": "scatter"
           }
          ],
          "scatter3d": [
           {
            "line": {
             "colorbar": {
              "outlinewidth": 0,
              "ticks": ""
             }
            },
            "marker": {
             "colorbar": {
              "outlinewidth": 0,
              "ticks": ""
             }
            },
            "type": "scatter3d"
           }
          ],
          "scattercarpet": [
           {
            "marker": {
             "colorbar": {
              "outlinewidth": 0,
              "ticks": ""
             }
            },
            "type": "scattercarpet"
           }
          ],
          "scattergeo": [
           {
            "marker": {
             "colorbar": {
              "outlinewidth": 0,
              "ticks": ""
             }
            },
            "type": "scattergeo"
           }
          ],
          "scattergl": [
           {
            "marker": {
             "colorbar": {
              "outlinewidth": 0,
              "ticks": ""
             }
            },
            "type": "scattergl"
           }
          ],
          "scattermapbox": [
           {
            "marker": {
             "colorbar": {
              "outlinewidth": 0,
              "ticks": ""
             }
            },
            "type": "scattermapbox"
           }
          ],
          "scatterpolar": [
           {
            "marker": {
             "colorbar": {
              "outlinewidth": 0,
              "ticks": ""
             }
            },
            "type": "scatterpolar"
           }
          ],
          "scatterpolargl": [
           {
            "marker": {
             "colorbar": {
              "outlinewidth": 0,
              "ticks": ""
             }
            },
            "type": "scatterpolargl"
           }
          ],
          "scatterternary": [
           {
            "marker": {
             "colorbar": {
              "outlinewidth": 0,
              "ticks": ""
             }
            },
            "type": "scatterternary"
           }
          ],
          "surface": [
           {
            "colorbar": {
             "outlinewidth": 0,
             "ticks": ""
            },
            "colorscale": [
             [
              0,
              "#0d0887"
             ],
             [
              0.1111111111111111,
              "#46039f"
             ],
             [
              0.2222222222222222,
              "#7201a8"
             ],
             [
              0.3333333333333333,
              "#9c179e"
             ],
             [
              0.4444444444444444,
              "#bd3786"
             ],
             [
              0.5555555555555556,
              "#d8576b"
             ],
             [
              0.6666666666666666,
              "#ed7953"
             ],
             [
              0.7777777777777778,
              "#fb9f3a"
             ],
             [
              0.8888888888888888,
              "#fdca26"
             ],
             [
              1,
              "#f0f921"
             ]
            ],
            "type": "surface"
           }
          ],
          "table": [
           {
            "cells": {
             "fill": {
              "color": "#EBF0F8"
             },
             "line": {
              "color": "white"
             }
            },
            "header": {
             "fill": {
              "color": "#C8D4E3"
             },
             "line": {
              "color": "white"
             }
            },
            "type": "table"
           }
          ]
         },
         "layout": {
          "annotationdefaults": {
           "arrowcolor": "#2a3f5f",
           "arrowhead": 0,
           "arrowwidth": 1
          },
          "autotypenumbers": "strict",
          "coloraxis": {
           "colorbar": {
            "outlinewidth": 0,
            "ticks": ""
           }
          },
          "colorscale": {
           "diverging": [
            [
             0,
             "#8e0152"
            ],
            [
             0.1,
             "#c51b7d"
            ],
            [
             0.2,
             "#de77ae"
            ],
            [
             0.3,
             "#f1b6da"
            ],
            [
             0.4,
             "#fde0ef"
            ],
            [
             0.5,
             "#f7f7f7"
            ],
            [
             0.6,
             "#e6f5d0"
            ],
            [
             0.7,
             "#b8e186"
            ],
            [
             0.8,
             "#7fbc41"
            ],
            [
             0.9,
             "#4d9221"
            ],
            [
             1,
             "#276419"
            ]
           ],
           "sequential": [
            [
             0,
             "#0d0887"
            ],
            [
             0.1111111111111111,
             "#46039f"
            ],
            [
             0.2222222222222222,
             "#7201a8"
            ],
            [
             0.3333333333333333,
             "#9c179e"
            ],
            [
             0.4444444444444444,
             "#bd3786"
            ],
            [
             0.5555555555555556,
             "#d8576b"
            ],
            [
             0.6666666666666666,
             "#ed7953"
            ],
            [
             0.7777777777777778,
             "#fb9f3a"
            ],
            [
             0.8888888888888888,
             "#fdca26"
            ],
            [
             1,
             "#f0f921"
            ]
           ],
           "sequentialminus": [
            [
             0,
             "#0d0887"
            ],
            [
             0.1111111111111111,
             "#46039f"
            ],
            [
             0.2222222222222222,
             "#7201a8"
            ],
            [
             0.3333333333333333,
             "#9c179e"
            ],
            [
             0.4444444444444444,
             "#bd3786"
            ],
            [
             0.5555555555555556,
             "#d8576b"
            ],
            [
             0.6666666666666666,
             "#ed7953"
            ],
            [
             0.7777777777777778,
             "#fb9f3a"
            ],
            [
             0.8888888888888888,
             "#fdca26"
            ],
            [
             1,
             "#f0f921"
            ]
           ]
          },
          "colorway": [
           "#636efa",
           "#EF553B",
           "#00cc96",
           "#ab63fa",
           "#FFA15A",
           "#19d3f3",
           "#FF6692",
           "#B6E880",
           "#FF97FF",
           "#FECB52"
          ],
          "font": {
           "color": "#2a3f5f"
          },
          "geo": {
           "bgcolor": "white",
           "lakecolor": "white",
           "landcolor": "#E5ECF6",
           "showlakes": true,
           "showland": true,
           "subunitcolor": "white"
          },
          "hoverlabel": {
           "align": "left"
          },
          "hovermode": "closest",
          "mapbox": {
           "style": "light"
          },
          "paper_bgcolor": "white",
          "plot_bgcolor": "#E5ECF6",
          "polar": {
           "angularaxis": {
            "gridcolor": "white",
            "linecolor": "white",
            "ticks": ""
           },
           "bgcolor": "#E5ECF6",
           "radialaxis": {
            "gridcolor": "white",
            "linecolor": "white",
            "ticks": ""
           }
          },
          "scene": {
           "xaxis": {
            "backgroundcolor": "#E5ECF6",
            "gridcolor": "white",
            "gridwidth": 2,
            "linecolor": "white",
            "showbackground": true,
            "ticks": "",
            "zerolinecolor": "white"
           },
           "yaxis": {
            "backgroundcolor": "#E5ECF6",
            "gridcolor": "white",
            "gridwidth": 2,
            "linecolor": "white",
            "showbackground": true,
            "ticks": "",
            "zerolinecolor": "white"
           },
           "zaxis": {
            "backgroundcolor": "#E5ECF6",
            "gridcolor": "white",
            "gridwidth": 2,
            "linecolor": "white",
            "showbackground": true,
            "ticks": "",
            "zerolinecolor": "white"
           }
          },
          "shapedefaults": {
           "line": {
            "color": "#2a3f5f"
           }
          },
          "ternary": {
           "aaxis": {
            "gridcolor": "white",
            "linecolor": "white",
            "ticks": ""
           },
           "baxis": {
            "gridcolor": "white",
            "linecolor": "white",
            "ticks": ""
           },
           "bgcolor": "#E5ECF6",
           "caxis": {
            "gridcolor": "white",
            "linecolor": "white",
            "ticks": ""
           }
          },
          "title": {
           "x": 0.05
          },
          "xaxis": {
           "automargin": true,
           "gridcolor": "white",
           "linecolor": "white",
           "ticks": "",
           "title": {
            "standoff": 15
           },
           "zerolinecolor": "white",
           "zerolinewidth": 2
          },
          "yaxis": {
           "automargin": true,
           "gridcolor": "white",
           "linecolor": "white",
           "ticks": "",
           "title": {
            "standoff": 15
           },
           "zerolinecolor": "white",
           "zerolinewidth": 2
          }
         }
        },
        "title": {
         "text": "Word embedding chart"
        },
        "width": 1200,
        "xaxis": {
         "anchor": "y",
         "domain": [
          0,
          1
         ],
         "title": {
          "text": "X"
         }
        },
        "yaxis": {
         "anchor": "x",
         "domain": [
          0,
          1
         ],
         "title": {
          "text": "Y"
         }
        }
       }
      },
      "text/html": [
       "<div>                            <div id=\"ce6e5ae4-c2e0-4f4e-b978-e546a898057e\" class=\"plotly-graph-div\" style=\"height:900px; width:1200px;\"></div>            <script type=\"text/javascript\">                require([\"plotly\"], function(Plotly) {                    window.PLOTLYENV=window.PLOTLYENV || {};                                    if (document.getElementById(\"ce6e5ae4-c2e0-4f4e-b978-e546a898057e\")) {                    Plotly.newPlot(                        \"ce6e5ae4-c2e0-4f4e-b978-e546a898057e\",                        [{\"hovertemplate\":\"Group=English noun<br>X=%{x}<br>Y=%{y}<br>Words=%{text}<extra></extra>\",\"legendgroup\":\"English noun\",\"marker\":{\"color\":\"#636efa\",\"symbol\":\"circle\"},\"mode\":\"markers+text\",\"name\":\"English noun\",\"orientation\":\"v\",\"showlegend\":true,\"text\":[\"Dog\",\"Rat\",\"Swan\",\"Lion\",\"Dogs\",\"Rats\",\"Swans\",\"Lions\"],\"x\":[-0.04461827874183655,-0.07671885937452316,-0.13171571493148804,-0.10710816085338593,-0.0838240459561348,-0.10840101540088654,-0.22126078605651855,-0.1551688313484192],\"xaxis\":\"x\",\"y\":[0.06490619480609894,0.004081523045897484,-0.06282476335763931,0.0636080950498581,0.09856770187616348,0.0059349024668335915,-0.11518842726945877,0.026938093826174736],\"yaxis\":\"y\",\"type\":\"scatter\",\"textposition\":\"top center\"},{\"hovertemplate\":\"Group=Korean noun<br>X=%{x}<br>Y=%{y}<br>Words=%{text}<extra></extra>\",\"legendgroup\":\"Korean noun\",\"marker\":{\"color\":\"#EF553B\",\"symbol\":\"circle\"},\"mode\":\"markers+text\",\"name\":\"Korean noun\",\"orientation\":\"v\",\"showlegend\":true,\"text\":[\"Dog_K\",\"Rat_K\",\"Swan_K\",\"Lion_K\",\"Dogs_K\",\"Rats_K\",\"Swans_K\",\"Lions_K\"],\"x\":[0.07185212522745132,-0.006183250807225704,-0.02965443581342697,0.03196381404995918,0.05989348515868187,0.026837963610887527,0.015580379404127598,0.052220314741134644],\"xaxis\":\"x\",\"y\":[0.22146792709827423,0.16396594047546387,0.0253766980022192,-0.021370626986026764,0.21155504882335663,0.1581757664680481,0.14303280413150787,0.1373702436685562],\"yaxis\":\"y\",\"type\":\"scatter\",\"textposition\":\"top center\"},{\"hovertemplate\":\"Group=English verb<br>X=%{x}<br>Y=%{y}<br>Words=%{text}<extra></extra>\",\"legendgroup\":\"English verb\",\"marker\":{\"color\":\"#00cc96\",\"symbol\":\"circle\"},\"mode\":\"markers+text\",\"name\":\"English verb\",\"orientation\":\"v\",\"showlegend\":true,\"text\":[\"Leans\",\"Chops\",\"Owns\",\"Fills\",\"Leaned\",\"Chopped\",\"Owned\",\"Filled\"],\"x\":[-0.15039145946502686,-0.14283135533332825,-0.15874643623828888,-0.03299049660563469,-0.19447655975818634,-0.09426313638687134,-0.08877825736999512,-0.03293523192405701],\"xaxis\":\"x\",\"y\":[-0.08411017805337906,-0.03418860584497452,-0.051153361797332764,0.0001286098558921367,-0.14973711967468262,-0.1051473617553711,-0.045041851699352264,-0.060023728758096695],\"yaxis\":\"y\",\"type\":\"scatter\",\"textposition\":\"top center\"},{\"hovertemplate\":\"Group=Korean verb<br>X=%{x}<br>Y=%{y}<br>Words=%{text}<extra></extra>\",\"legendgroup\":\"Korean verb\",\"marker\":{\"color\":\"#ab63fa\",\"symbol\":\"circle\"},\"mode\":\"markers+text\",\"name\":\"Korean verb\",\"orientation\":\"v\",\"showlegend\":true,\"text\":[\"Leans_K\",\"Chops_K\",\"Owns_K\",\"Fills_K\",\"Leaned_K\",\"Chopped_K\",\"Owned_K\",\"Filled_K\"],\"x\":[0.15033811330795288,0.16307856142520905,0.22665001451969147,0.19318844377994537,0.20469580590724945,0.20957010984420776,0.23618146777153015,0.2180156707763672],\"xaxis\":\"x\",\"y\":[-0.07128742337226868,-0.04827912524342537,-0.09192359447479248,-0.10886000096797943,-0.04678696393966675,-0.05015035346150398,-0.08347664028406143,-0.09555935859680176],\"yaxis\":\"y\",\"type\":\"scatter\",\"textposition\":\"top center\"}],                        {\"template\":{\"data\":{\"histogram2dcontour\":[{\"type\":\"histogram2dcontour\",\"colorbar\":{\"outlinewidth\":0,\"ticks\":\"\"},\"colorscale\":[[0.0,\"#0d0887\"],[0.1111111111111111,\"#46039f\"],[0.2222222222222222,\"#7201a8\"],[0.3333333333333333,\"#9c179e\"],[0.4444444444444444,\"#bd3786\"],[0.5555555555555556,\"#d8576b\"],[0.6666666666666666,\"#ed7953\"],[0.7777777777777778,\"#fb9f3a\"],[0.8888888888888888,\"#fdca26\"],[1.0,\"#f0f921\"]]}],\"choropleth\":[{\"type\":\"choropleth\",\"colorbar\":{\"outlinewidth\":0,\"ticks\":\"\"}}],\"histogram2d\":[{\"type\":\"histogram2d\",\"colorbar\":{\"outlinewidth\":0,\"ticks\":\"\"},\"colorscale\":[[0.0,\"#0d0887\"],[0.1111111111111111,\"#46039f\"],[0.2222222222222222,\"#7201a8\"],[0.3333333333333333,\"#9c179e\"],[0.4444444444444444,\"#bd3786\"],[0.5555555555555556,\"#d8576b\"],[0.6666666666666666,\"#ed7953\"],[0.7777777777777778,\"#fb9f3a\"],[0.8888888888888888,\"#fdca26\"],[1.0,\"#f0f921\"]]}],\"heatmap\":[{\"type\":\"heatmap\",\"colorbar\":{\"outlinewidth\":0,\"ticks\":\"\"},\"colorscale\":[[0.0,\"#0d0887\"],[0.1111111111111111,\"#46039f\"],[0.2222222222222222,\"#7201a8\"],[0.3333333333333333,\"#9c179e\"],[0.4444444444444444,\"#bd3786\"],[0.5555555555555556,\"#d8576b\"],[0.6666666666666666,\"#ed7953\"],[0.7777777777777778,\"#fb9f3a\"],[0.8888888888888888,\"#fdca26\"],[1.0,\"#f0f921\"]]}],\"heatmapgl\":[{\"type\":\"heatmapgl\",\"colorbar\":{\"outlinewidth\":0,\"ticks\":\"\"},\"colorscale\":[[0.0,\"#0d0887\"],[0.1111111111111111,\"#46039f\"],[0.2222222222222222,\"#7201a8\"],[0.3333333333333333,\"#9c179e\"],[0.4444444444444444,\"#bd3786\"],[0.5555555555555556,\"#d8576b\"],[0.6666666666666666,\"#ed7953\"],[0.7777777777777778,\"#fb9f3a\"],[0.8888888888888888,\"#fdca26\"],[1.0,\"#f0f921\"]]}],\"contourcarpet\":[{\"type\":\"contourcarpet\",\"colorbar\":{\"outlinewidth\":0,\"ticks\":\"\"}}],\"contour\":[{\"type\":\"contour\",\"colorbar\":{\"outlinewidth\":0,\"ticks\":\"\"},\"colorscale\":[[0.0,\"#0d0887\"],[0.1111111111111111,\"#46039f\"],[0.2222222222222222,\"#7201a8\"],[0.3333333333333333,\"#9c179e\"],[0.4444444444444444,\"#bd3786\"],[0.5555555555555556,\"#d8576b\"],[0.6666666666666666,\"#ed7953\"],[0.7777777777777778,\"#fb9f3a\"],[0.8888888888888888,\"#fdca26\"],[1.0,\"#f0f921\"]]}],\"surface\":[{\"type\":\"surface\",\"colorbar\":{\"outlinewidth\":0,\"ticks\":\"\"},\"colorscale\":[[0.0,\"#0d0887\"],[0.1111111111111111,\"#46039f\"],[0.2222222222222222,\"#7201a8\"],[0.3333333333333333,\"#9c179e\"],[0.4444444444444444,\"#bd3786\"],[0.5555555555555556,\"#d8576b\"],[0.6666666666666666,\"#ed7953\"],[0.7777777777777778,\"#fb9f3a\"],[0.8888888888888888,\"#fdca26\"],[1.0,\"#f0f921\"]]}],\"mesh3d\":[{\"type\":\"mesh3d\",\"colorbar\":{\"outlinewidth\":0,\"ticks\":\"\"}}],\"scatter\":[{\"fillpattern\":{\"fillmode\":\"overlay\",\"size\":10,\"solidity\":0.2},\"type\":\"scatter\"}],\"parcoords\":[{\"type\":\"parcoords\",\"line\":{\"colorbar\":{\"outlinewidth\":0,\"ticks\":\"\"}}}],\"scatterpolargl\":[{\"type\":\"scatterpolargl\",\"marker\":{\"colorbar\":{\"outlinewidth\":0,\"ticks\":\"\"}}}],\"bar\":[{\"error_x\":{\"color\":\"#2a3f5f\"},\"error_y\":{\"color\":\"#2a3f5f\"},\"marker\":{\"line\":{\"color\":\"#E5ECF6\",\"width\":0.5},\"pattern\":{\"fillmode\":\"overlay\",\"size\":10,\"solidity\":0.2}},\"type\":\"bar\"}],\"scattergeo\":[{\"type\":\"scattergeo\",\"marker\":{\"colorbar\":{\"outlinewidth\":0,\"ticks\":\"\"}}}],\"scatterpolar\":[{\"type\":\"scatterpolar\",\"marker\":{\"colorbar\":{\"outlinewidth\":0,\"ticks\":\"\"}}}],\"histogram\":[{\"marker\":{\"pattern\":{\"fillmode\":\"overlay\",\"size\":10,\"solidity\":0.2}},\"type\":\"histogram\"}],\"scattergl\":[{\"type\":\"scattergl\",\"marker\":{\"colorbar\":{\"outlinewidth\":0,\"ticks\":\"\"}}}],\"scatter3d\":[{\"type\":\"scatter3d\",\"line\":{\"colorbar\":{\"outlinewidth\":0,\"ticks\":\"\"}},\"marker\":{\"colorbar\":{\"outlinewidth\":0,\"ticks\":\"\"}}}],\"scattermapbox\":[{\"type\":\"scattermapbox\",\"marker\":{\"colorbar\":{\"outlinewidth\":0,\"ticks\":\"\"}}}],\"scatterternary\":[{\"type\":\"scatterternary\",\"marker\":{\"colorbar\":{\"outlinewidth\":0,\"ticks\":\"\"}}}],\"scattercarpet\":[{\"type\":\"scattercarpet\",\"marker\":{\"colorbar\":{\"outlinewidth\":0,\"ticks\":\"\"}}}],\"carpet\":[{\"aaxis\":{\"endlinecolor\":\"#2a3f5f\",\"gridcolor\":\"white\",\"linecolor\":\"white\",\"minorgridcolor\":\"white\",\"startlinecolor\":\"#2a3f5f\"},\"baxis\":{\"endlinecolor\":\"#2a3f5f\",\"gridcolor\":\"white\",\"linecolor\":\"white\",\"minorgridcolor\":\"white\",\"startlinecolor\":\"#2a3f5f\"},\"type\":\"carpet\"}],\"table\":[{\"cells\":{\"fill\":{\"color\":\"#EBF0F8\"},\"line\":{\"color\":\"white\"}},\"header\":{\"fill\":{\"color\":\"#C8D4E3\"},\"line\":{\"color\":\"white\"}},\"type\":\"table\"}],\"barpolar\":[{\"marker\":{\"line\":{\"color\":\"#E5ECF6\",\"width\":0.5},\"pattern\":{\"fillmode\":\"overlay\",\"size\":10,\"solidity\":0.2}},\"type\":\"barpolar\"}],\"pie\":[{\"automargin\":true,\"type\":\"pie\"}]},\"layout\":{\"autotypenumbers\":\"strict\",\"colorway\":[\"#636efa\",\"#EF553B\",\"#00cc96\",\"#ab63fa\",\"#FFA15A\",\"#19d3f3\",\"#FF6692\",\"#B6E880\",\"#FF97FF\",\"#FECB52\"],\"font\":{\"color\":\"#2a3f5f\"},\"hovermode\":\"closest\",\"hoverlabel\":{\"align\":\"left\"},\"paper_bgcolor\":\"white\",\"plot_bgcolor\":\"#E5ECF6\",\"polar\":{\"bgcolor\":\"#E5ECF6\",\"angularaxis\":{\"gridcolor\":\"white\",\"linecolor\":\"white\",\"ticks\":\"\"},\"radialaxis\":{\"gridcolor\":\"white\",\"linecolor\":\"white\",\"ticks\":\"\"}},\"ternary\":{\"bgcolor\":\"#E5ECF6\",\"aaxis\":{\"gridcolor\":\"white\",\"linecolor\":\"white\",\"ticks\":\"\"},\"baxis\":{\"gridcolor\":\"white\",\"linecolor\":\"white\",\"ticks\":\"\"},\"caxis\":{\"gridcolor\":\"white\",\"linecolor\":\"white\",\"ticks\":\"\"}},\"coloraxis\":{\"colorbar\":{\"outlinewidth\":0,\"ticks\":\"\"}},\"colorscale\":{\"sequential\":[[0.0,\"#0d0887\"],[0.1111111111111111,\"#46039f\"],[0.2222222222222222,\"#7201a8\"],[0.3333333333333333,\"#9c179e\"],[0.4444444444444444,\"#bd3786\"],[0.5555555555555556,\"#d8576b\"],[0.6666666666666666,\"#ed7953\"],[0.7777777777777778,\"#fb9f3a\"],[0.8888888888888888,\"#fdca26\"],[1.0,\"#f0f921\"]],\"sequentialminus\":[[0.0,\"#0d0887\"],[0.1111111111111111,\"#46039f\"],[0.2222222222222222,\"#7201a8\"],[0.3333333333333333,\"#9c179e\"],[0.4444444444444444,\"#bd3786\"],[0.5555555555555556,\"#d8576b\"],[0.6666666666666666,\"#ed7953\"],[0.7777777777777778,\"#fb9f3a\"],[0.8888888888888888,\"#fdca26\"],[1.0,\"#f0f921\"]],\"diverging\":[[0,\"#8e0152\"],[0.1,\"#c51b7d\"],[0.2,\"#de77ae\"],[0.3,\"#f1b6da\"],[0.4,\"#fde0ef\"],[0.5,\"#f7f7f7\"],[0.6,\"#e6f5d0\"],[0.7,\"#b8e186\"],[0.8,\"#7fbc41\"],[0.9,\"#4d9221\"],[1,\"#276419\"]]},\"xaxis\":{\"gridcolor\":\"white\",\"linecolor\":\"white\",\"ticks\":\"\",\"title\":{\"standoff\":15},\"zerolinecolor\":\"white\",\"automargin\":true,\"zerolinewidth\":2},\"yaxis\":{\"gridcolor\":\"white\",\"linecolor\":\"white\",\"ticks\":\"\",\"title\":{\"standoff\":15},\"zerolinecolor\":\"white\",\"automargin\":true,\"zerolinewidth\":2},\"scene\":{\"xaxis\":{\"backgroundcolor\":\"#E5ECF6\",\"gridcolor\":\"white\",\"linecolor\":\"white\",\"showbackground\":true,\"ticks\":\"\",\"zerolinecolor\":\"white\",\"gridwidth\":2},\"yaxis\":{\"backgroundcolor\":\"#E5ECF6\",\"gridcolor\":\"white\",\"linecolor\":\"white\",\"showbackground\":true,\"ticks\":\"\",\"zerolinecolor\":\"white\",\"gridwidth\":2},\"zaxis\":{\"backgroundcolor\":\"#E5ECF6\",\"gridcolor\":\"white\",\"linecolor\":\"white\",\"showbackground\":true,\"ticks\":\"\",\"zerolinecolor\":\"white\",\"gridwidth\":2}},\"shapedefaults\":{\"line\":{\"color\":\"#2a3f5f\"}},\"annotationdefaults\":{\"arrowcolor\":\"#2a3f5f\",\"arrowhead\":0,\"arrowwidth\":1},\"geo\":{\"bgcolor\":\"white\",\"landcolor\":\"#E5ECF6\",\"subunitcolor\":\"white\",\"showland\":true,\"showlakes\":true,\"lakecolor\":\"white\"},\"title\":{\"x\":0.05},\"mapbox\":{\"style\":\"light\"}}},\"xaxis\":{\"anchor\":\"y\",\"domain\":[0.0,1.0],\"title\":{\"text\":\"X\"}},\"yaxis\":{\"anchor\":\"x\",\"domain\":[0.0,1.0],\"title\":{\"text\":\"Y\"}},\"legend\":{\"title\":{\"text\":\"Group\"},\"tracegroupgap\":0,\"yanchor\":\"top\",\"y\":0.99,\"xanchor\":\"left\",\"x\":0.01},\"margin\":{\"t\":60},\"title\":{\"text\":\"Word embedding chart\"},\"font\":{\"size\":14.5},\"height\":900,\"width\":1200},                        {\"responsive\": true}                    ).then(function(){\n",
       "                            \n",
       "var gd = document.getElementById('ce6e5ae4-c2e0-4f4e-b978-e546a898057e');\n",
       "var x = new MutationObserver(function (mutations, observer) {{\n",
       "        var display = window.getComputedStyle(gd).display;\n",
       "        if (!display || display === 'none') {{\n",
       "            console.log([gd, 'removed!']);\n",
       "            Plotly.purge(gd);\n",
       "            observer.disconnect();\n",
       "        }}\n",
       "}});\n",
       "\n",
       "// Listen for the removal of the full notebook cells\n",
       "var notebookContainer = gd.closest('#notebook-container');\n",
       "if (notebookContainer) {{\n",
       "    x.observe(notebookContainer, {childList: true});\n",
       "}}\n",
       "\n",
       "// Listen for the clearing of the current output cell\n",
       "var outputEl = gd.closest('.output');\n",
       "if (outputEl) {{\n",
       "    x.observe(outputEl, {childList: true});\n",
       "}}\n",
       "\n",
       "                        })                };                });            </script>        </div>"
      ]
     },
     "metadata": {},
     "output_type": "display_data"
    }
   ],
   "source": [
    "import plotly.express as px\n",
    "\n",
    "# plotting a scatter plot\n",
    "#fig = px.scatter(df, x=\"X\", y=\"Y\", text=\"Words\", log_x=True, size_max=60)\n",
    "fig = px.scatter(df, x=\"X\", y=\"Y\", text=\"Words\", size_max=60, color=\"Group\")\n",
    "\n",
    "# adjusting the text position\n",
    "fig.update_traces(textposition='top center')\n",
    "\n",
    "# setting up the height and title\n",
    "fig.update_layout(\n",
    "    height=900,\n",
    "    width=1200,\n",
    "    title_text='Word embedding chart',\n",
    "    font = dict(size=14.5),\n",
    "    legend=dict(\n",
    "    yanchor=\"top\",\n",
    "    y=0.99,\n",
    "    xanchor=\"left\",\n",
    "    x=0.01))\n",
    "\n",
    "# displaying the figure\n",
    "fig.show()"
   ]
  },
  {
   "cell_type": "markdown",
   "metadata": {},
   "source": [
    "# 2"
   ]
  },
  {
   "cell_type": "code",
   "execution_count": null,
   "metadata": {},
   "outputs": [],
   "source": [
    "from sklearn.manifold import TSNE\n",
    "import matplotlib.pyplot as plt\n",
    "\n",
    "def tsne_plot(embeddings):\n",
    "    \"Creates a TSNE model and plots it\"\n",
    "    labels = words=['dog',\n",
    "     'rat',\n",
    "     'fills',\n",
    "     'filled',\n",
    "     'dog_k',\n",
    "     'rat_k',\n",
    "     'fills_k',\n",
    "     'filled_k']\n",
    "    #tokens = []\n",
    "\n",
    "    #for word in model.wv.vocab:\n",
    "     #   tokens.append(model[word])\n",
    "     #   labels.append(word)\n",
    "    \n",
    "    tsne_model = TSNE(perplexity=40, n_components=2, init='pca', n_iter=2500, random_state=23)\n",
    "    new_values = tsne_model.fit_transform(embeddings)\n",
    "\n",
    "    x = []\n",
    "    y = []\n",
    "    for value in new_values:\n",
    "        x.append(value[0])\n",
    "        y.append(value[1])\n",
    "        \n",
    "    plt.figure(figsize=(8, 8)) \n",
    "    for i in range(len(x)):\n",
    "        plt.scatter(x[i],y[i])\n",
    "        plt.annotate(labels[i],\n",
    "                     xy=(x[i], y[i]),\n",
    "                     xytext=(5, 2),\n",
    "                     textcoords='offset points',\n",
    "                     ha='right',\n",
    "                     va='bottom')\n",
    "    plt.show()"
   ]
  },
  {
   "cell_type": "code",
   "execution_count": null,
   "metadata": {},
   "outputs": [],
   "source": [
    "tsne_plot(embeddings)"
   ]
  },
  {
   "cell_type": "markdown",
   "metadata": {},
   "source": [
    "# 3"
   ]
  },
  {
   "cell_type": "code",
   "execution_count": 18,
   "metadata": {},
   "outputs": [],
   "source": [
    "from sklearn.decomposition import PCA"
   ]
  },
  {
   "cell_type": "code",
   "execution_count": 14,
   "metadata": {},
   "outputs": [],
   "source": [
    "dog=dog.reshape(-1, 1)"
   ]
  },
  {
   "cell_type": "code",
   "execution_count": 21,
   "metadata": {
    "collapsed": true
   },
   "outputs": [
    {
     "ename": "ValueError",
     "evalue": "Expected 2D array, got 1D array instead:\narray=[ 0.0013956  -0.00068237 -0.00171305 ... -0.00046227 -0.00505024\n -0.00325442].\nReshape your data either using array.reshape(-1, 1) if your data has a single feature or array.reshape(1, -1) if it contains a single sample.",
     "output_type": "error",
     "traceback": [
      "\u001b[0;31m---------------------------------------------------------------------------\u001b[0m",
      "\u001b[0;31mValueError\u001b[0m                                Traceback (most recent call last)",
      "\u001b[0;32m<ipython-input-21-e2f03049a621>\u001b[0m in \u001b[0;36m<module>\u001b[0;34m\u001b[0m\n\u001b[0;32m----> 1\u001b[0;31m \u001b[0mPCA\u001b[0m\u001b[0;34m(\u001b[0m\u001b[0mn_components\u001b[0m \u001b[0;34m=\u001b[0m \u001b[0;36m2\u001b[0m\u001b[0;34m)\u001b[0m\u001b[0;34m.\u001b[0m\u001b[0mfit_transform\u001b[0m\u001b[0;34m(\u001b[0m\u001b[0mdog\u001b[0m\u001b[0;34m)\u001b[0m\u001b[0;34m\u001b[0m\u001b[0;34m\u001b[0m\u001b[0m\n\u001b[0m",
      "\u001b[0;32m~/miniconda3/lib/python3.7/site-packages/sklearn/decomposition/_pca.py\u001b[0m in \u001b[0;36mfit_transform\u001b[0;34m(self, X, y)\u001b[0m\n\u001b[1;32m    405\u001b[0m         \u001b[0mC\u001b[0m\u001b[0;34m-\u001b[0m\u001b[0mordered\u001b[0m \u001b[0marray\u001b[0m\u001b[0;34m,\u001b[0m \u001b[0muse\u001b[0m \u001b[0;34m'np.ascontiguousarray'\u001b[0m\u001b[0;34m.\u001b[0m\u001b[0;34m\u001b[0m\u001b[0;34m\u001b[0m\u001b[0m\n\u001b[1;32m    406\u001b[0m         \"\"\"\n\u001b[0;32m--> 407\u001b[0;31m         \u001b[0mU\u001b[0m\u001b[0;34m,\u001b[0m \u001b[0mS\u001b[0m\u001b[0;34m,\u001b[0m \u001b[0mVt\u001b[0m \u001b[0;34m=\u001b[0m \u001b[0mself\u001b[0m\u001b[0;34m.\u001b[0m\u001b[0m_fit\u001b[0m\u001b[0;34m(\u001b[0m\u001b[0mX\u001b[0m\u001b[0;34m)\u001b[0m\u001b[0;34m\u001b[0m\u001b[0;34m\u001b[0m\u001b[0m\n\u001b[0m\u001b[1;32m    408\u001b[0m         \u001b[0mU\u001b[0m \u001b[0;34m=\u001b[0m \u001b[0mU\u001b[0m\u001b[0;34m[\u001b[0m\u001b[0;34m:\u001b[0m\u001b[0;34m,\u001b[0m \u001b[0;34m:\u001b[0m \u001b[0mself\u001b[0m\u001b[0;34m.\u001b[0m\u001b[0mn_components_\u001b[0m\u001b[0;34m]\u001b[0m\u001b[0;34m\u001b[0m\u001b[0;34m\u001b[0m\u001b[0m\n\u001b[1;32m    409\u001b[0m \u001b[0;34m\u001b[0m\u001b[0m\n",
      "\u001b[0;32m~/miniconda3/lib/python3.7/site-packages/sklearn/decomposition/_pca.py\u001b[0m in \u001b[0;36m_fit\u001b[0;34m(self, X)\u001b[0m\n\u001b[1;32m    429\u001b[0m \u001b[0;34m\u001b[0m\u001b[0m\n\u001b[1;32m    430\u001b[0m         X = self._validate_data(\n\u001b[0;32m--> 431\u001b[0;31m             \u001b[0mX\u001b[0m\u001b[0;34m,\u001b[0m \u001b[0mdtype\u001b[0m\u001b[0;34m=\u001b[0m\u001b[0;34m[\u001b[0m\u001b[0mnp\u001b[0m\u001b[0;34m.\u001b[0m\u001b[0mfloat64\u001b[0m\u001b[0;34m,\u001b[0m \u001b[0mnp\u001b[0m\u001b[0;34m.\u001b[0m\u001b[0mfloat32\u001b[0m\u001b[0;34m]\u001b[0m\u001b[0;34m,\u001b[0m \u001b[0mensure_2d\u001b[0m\u001b[0;34m=\u001b[0m\u001b[0;32mTrue\u001b[0m\u001b[0;34m,\u001b[0m \u001b[0mcopy\u001b[0m\u001b[0;34m=\u001b[0m\u001b[0mself\u001b[0m\u001b[0;34m.\u001b[0m\u001b[0mcopy\u001b[0m\u001b[0;34m\u001b[0m\u001b[0;34m\u001b[0m\u001b[0m\n\u001b[0m\u001b[1;32m    432\u001b[0m         )\n\u001b[1;32m    433\u001b[0m \u001b[0;34m\u001b[0m\u001b[0m\n",
      "\u001b[0;32m~/miniconda3/lib/python3.7/site-packages/sklearn/base.py\u001b[0m in \u001b[0;36m_validate_data\u001b[0;34m(self, X, y, reset, validate_separately, **check_params)\u001b[0m\n\u001b[1;32m    564\u001b[0m             \u001b[0;32mraise\u001b[0m \u001b[0mValueError\u001b[0m\u001b[0;34m(\u001b[0m\u001b[0;34m\"Validation should be done on X, y or both.\"\u001b[0m\u001b[0;34m)\u001b[0m\u001b[0;34m\u001b[0m\u001b[0;34m\u001b[0m\u001b[0m\n\u001b[1;32m    565\u001b[0m         \u001b[0;32melif\u001b[0m \u001b[0;32mnot\u001b[0m \u001b[0mno_val_X\u001b[0m \u001b[0;32mand\u001b[0m \u001b[0mno_val_y\u001b[0m\u001b[0;34m:\u001b[0m\u001b[0;34m\u001b[0m\u001b[0;34m\u001b[0m\u001b[0m\n\u001b[0;32m--> 566\u001b[0;31m             \u001b[0mX\u001b[0m \u001b[0;34m=\u001b[0m \u001b[0mcheck_array\u001b[0m\u001b[0;34m(\u001b[0m\u001b[0mX\u001b[0m\u001b[0;34m,\u001b[0m \u001b[0;34m**\u001b[0m\u001b[0mcheck_params\u001b[0m\u001b[0;34m)\u001b[0m\u001b[0;34m\u001b[0m\u001b[0;34m\u001b[0m\u001b[0m\n\u001b[0m\u001b[1;32m    567\u001b[0m             \u001b[0mout\u001b[0m \u001b[0;34m=\u001b[0m \u001b[0mX\u001b[0m\u001b[0;34m\u001b[0m\u001b[0;34m\u001b[0m\u001b[0m\n\u001b[1;32m    568\u001b[0m         \u001b[0;32melif\u001b[0m \u001b[0mno_val_X\u001b[0m \u001b[0;32mand\u001b[0m \u001b[0;32mnot\u001b[0m \u001b[0mno_val_y\u001b[0m\u001b[0;34m:\u001b[0m\u001b[0;34m\u001b[0m\u001b[0;34m\u001b[0m\u001b[0m\n",
      "\u001b[0;32m~/miniconda3/lib/python3.7/site-packages/sklearn/utils/validation.py\u001b[0m in \u001b[0;36mcheck_array\u001b[0;34m(array, accept_sparse, accept_large_sparse, dtype, order, copy, force_all_finite, ensure_2d, allow_nd, ensure_min_samples, ensure_min_features, estimator)\u001b[0m\n\u001b[1;32m    771\u001b[0m                     \u001b[0;34m\"Reshape your data either using array.reshape(-1, 1) if \"\u001b[0m\u001b[0;34m\u001b[0m\u001b[0;34m\u001b[0m\u001b[0m\n\u001b[1;32m    772\u001b[0m                     \u001b[0;34m\"your data has a single feature or array.reshape(1, -1) \"\u001b[0m\u001b[0;34m\u001b[0m\u001b[0;34m\u001b[0m\u001b[0m\n\u001b[0;32m--> 773\u001b[0;31m                     \u001b[0;34m\"if it contains a single sample.\"\u001b[0m\u001b[0;34m.\u001b[0m\u001b[0mformat\u001b[0m\u001b[0;34m(\u001b[0m\u001b[0marray\u001b[0m\u001b[0;34m)\u001b[0m\u001b[0;34m\u001b[0m\u001b[0;34m\u001b[0m\u001b[0m\n\u001b[0m\u001b[1;32m    774\u001b[0m                 )\n\u001b[1;32m    775\u001b[0m \u001b[0;34m\u001b[0m\u001b[0m\n",
      "\u001b[0;31mValueError\u001b[0m: Expected 2D array, got 1D array instead:\narray=[ 0.0013956  -0.00068237 -0.00171305 ... -0.00046227 -0.00505024\n -0.00325442].\nReshape your data either using array.reshape(-1, 1) if your data has a single feature or array.reshape(1, -1) if it contains a single sample."
     ]
    }
   ],
   "source": [
    "PCA(n_components = 2).fit_transform(dog)"
   ]
  },
  {
   "cell_type": "code",
   "execution_count": null,
   "metadata": {},
   "outputs": [],
   "source": [
    "# embeddings array -> in graph (PCA)\n",
    "import numpy as np \n",
    "from matplotlib import pyplot as plt \n",
    "\n",
    "plt.title(\"Semantic space\") \n",
    "plt.plot(x,y) \n",
    "plt.show()"
   ]
  },
  {
   "cell_type": "code",
   "execution_count": 5,
   "metadata": {},
   "outputs": [],
   "source": [
    "from scipy import spatial"
   ]
  },
  {
   "cell_type": "code",
   "execution_count": 7,
   "metadata": {},
   "outputs": [
    {
     "name": "stdout",
     "output_type": "stream",
     "text": [
      "0.7467513680458069\n"
     ]
    }
   ],
   "source": [
    "dist=1-spatial.distance.cosine(dog, dogk)\n",
    "print(dist)"
   ]
  },
  {
   "cell_type": "code",
   "execution_count": 11,
   "metadata": {},
   "outputs": [
    {
     "name": "stdout",
     "output_type": "stream",
     "text": [
      "0.7568745017051697\n"
     ]
    }
   ],
   "source": [
    "dist=1-spatial.distance.cosine(dog, rat)\n",
    "print(dist)"
   ]
  },
  {
   "cell_type": "code",
   "execution_count": 13,
   "metadata": {},
   "outputs": [
    {
     "name": "stdout",
     "output_type": "stream",
     "text": [
      "0.5652874708175659\n"
     ]
    }
   ],
   "source": [
    "dist=1-spatial.distance.cosine(dogk, rat)\n",
    "print(dist)"
   ]
  },
  {
   "cell_type": "code",
   "execution_count": 12,
   "metadata": {},
   "outputs": [
    {
     "name": "stdout",
     "output_type": "stream",
     "text": [
      "0.7535681128501892\n"
     ]
    }
   ],
   "source": [
    "dist=1-spatial.distance.cosine(dogk, ratk)\n",
    "print(dist)"
   ]
  }
 ],
 "metadata": {
  "kernelspec": {
   "display_name": "Python 3",
   "language": "python",
   "name": "python3"
  },
  "language_info": {
   "codemirror_mode": {
    "name": "ipython",
    "version": 3
   },
   "file_extension": ".py",
   "mimetype": "text/x-python",
   "name": "python",
   "nbconvert_exporter": "python",
   "pygments_lexer": "ipython3",
   "version": "3.7.10"
  }
 },
 "nbformat": 4,
 "nbformat_minor": 4
}
