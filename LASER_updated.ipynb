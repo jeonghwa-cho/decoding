{
 "cells": [
  {
   "cell_type": "code",
   "execution_count": 6,
   "metadata": {
    "scrolled": true
   },
   "outputs": [],
   "source": [
    "#!pip install laserembeddings"
   ]
  },
  {
   "cell_type": "code",
   "execution_count": 7,
   "metadata": {},
   "outputs": [],
   "source": [
    "#!pip install openpyxl"
   ]
  },
  {
   "cell_type": "code",
   "execution_count": 1,
   "metadata": {},
   "outputs": [],
   "source": [
    "from laserembeddings import Laser"
   ]
  },
  {
   "cell_type": "code",
   "execution_count": 2,
   "metadata": {},
   "outputs": [],
   "source": [
    "import pandas as pd\n",
    "import numpy as np\n",
    "import os"
   ]
  },
  {
   "cell_type": "code",
   "execution_count": 21,
   "metadata": {},
   "outputs": [],
   "source": [
    "data=pd.read_excel(\"stimuli_LASER.xlsx\")"
   ]
  },
  {
   "cell_type": "code",
   "execution_count": 4,
   "metadata": {},
   "outputs": [],
   "source": [
    "laser=Laser()\n",
    "word=data['word'].tolist()\n",
    "lang=data['lang'].tolist()\n",
    "\n",
    "embeddings = laser.embed_sentences(\n",
    "    word, lang)"
   ]
  },
  {
   "cell_type": "code",
   "execution_count": 17,
   "metadata": {},
   "outputs": [
    {
     "data": {
      "text/plain": [
       "array([[ 1.3955962e-03, -6.8236748e-04, -1.7130580e-03, ...,\n",
       "        -4.6227284e-04, -5.0502392e-03, -3.2544208e-03],\n",
       "       [ 6.6147167e-03, -2.8979585e-03,  8.1701559e-04, ...,\n",
       "         3.3643559e-02,  1.9294061e-02, -1.1439168e-02],\n",
       "       [ 6.3669737e-03, -5.8640132e-04, -1.2268004e-03, ...,\n",
       "         1.7120143e-02, -2.4519828e-03, -3.2616204e-03],\n",
       "       ...,\n",
       "       [-8.5072406e-04,  3.0981080e-04,  9.8562276e-04, ...,\n",
       "        -3.7776146e-04,  1.7497368e-02, -2.5485440e-03],\n",
       "       [-1.6273777e-03,  2.2249225e-05, -1.4443477e-04, ...,\n",
       "        -4.3541664e-04, -1.8021052e-03,  2.2237783e-02],\n",
       "       [-3.2326669e-04, -2.5949548e-06,  4.0287260e-04, ...,\n",
       "         2.3961092e-04,  4.0659164e-03,  6.9823465e-03]], dtype=float32)"
      ]
     },
     "execution_count": 17,
     "metadata": {},
     "output_type": "execute_result"
    }
   ],
   "source": [
    "embeddings"
   ]
  },
  {
   "cell_type": "markdown",
   "metadata": {},
   "source": [
    "# Visualize word embeddings\n",
    "\n",
    "https://www.kaggle.com/code/jeffd23/visualizing-word-vectors-with-t-sne/notebook\n",
    "\n",
    "https://www.mathworks.com/help/textanalytics/ug/visualize-word-embedding-using-text-scatter-plot.html\n",
    "\n",
    "cf PCA (https://towardsdatascience.com/pca-using-python-scikit-learn-e653f8989e60)"
   ]
  },
  {
   "cell_type": "code",
   "execution_count": null,
   "metadata": {},
   "outputs": [],
   "source": [
    "#!pip install matplotlib"
   ]
  },
  {
   "cell_type": "code",
   "execution_count": null,
   "metadata": {},
   "outputs": [],
   "source": [
    "#!pip install --ignore-installed Pillow==9.0.0"
   ]
  },
  {
   "cell_type": "markdown",
   "metadata": {},
   "source": [
    "https://medium.com/analytics-vidhya/word-embedding-using-python-63770334841"
   ]
  },
  {
   "cell_type": "code",
   "execution_count": 6,
   "metadata": {},
   "outputs": [],
   "source": [
    "# dimentionality reduction using PCA\n",
    "from sklearn.decomposition import PCA\n",
    "pca = PCA(n_components=2)\n",
    "# running the transformations\n",
    "result = pca.fit_transform(embeddings)"
   ]
  },
  {
   "cell_type": "code",
   "execution_count": 23,
   "metadata": {},
   "outputs": [],
   "source": [
    "# creating a dataframe from the results\n",
    "\n",
    "df = pd.DataFrame(result, columns=list('XY'))\n",
    "\n",
    "# adding a columns for the corresponding words\n",
    "df['Words'] = data['word_E'].tolist()\n",
    "\n",
    "# converting the lower case text to title case\n",
    "df['Words'] = df['Words'].str.title()\n",
    "df['Group'] = ['English noun']*8 + ['Korean noun']*8 + ['English verb']*8 + ['Korean verb']*8"
   ]
  },
  {
   "cell_type": "code",
   "execution_count": 8,
   "metadata": {},
   "outputs": [
    {
     "name": "stdout",
     "output_type": "stream",
     "text": [
      "0.20\n"
     ]
    }
   ],
   "source": [
    "# Nouns\n",
    "n_dist=[]\n",
    "kor=[]\n",
    "eng=[]\n",
    "for i in range(0,8):\n",
    "    dist=np.linalg.norm(result[i]-result[i+8])\n",
    "    #print(word[i], word[i+8], \"{:.2f}\".format(dist))\n",
    "    n_dist.append(dist)\n",
    "    eng.append(word[i])\n",
    "    kor.append(word[i+8])\n",
    "\n",
    "print(\"{:.2f}\".format(sum(n_dist)/len(n_dist)))"
   ]
  },
  {
   "cell_type": "code",
   "execution_count": 9,
   "metadata": {},
   "outputs": [
    {
     "data": {
      "text/html": [
       "<style type=\"text/css\">\n",
       "</style>\n",
       "<table id=\"T_4bc92_\">\n",
       "  <thead>\n",
       "    <tr>\n",
       "      <th class=\"blank level0\" >&nbsp;</th>\n",
       "      <th class=\"col_heading level0 col0\" >English</th>\n",
       "      <th class=\"col_heading level0 col1\" >Korean</th>\n",
       "      <th class=\"col_heading level0 col2\" >Distance</th>\n",
       "    </tr>\n",
       "  </thead>\n",
       "  <tbody>\n",
       "    <tr>\n",
       "      <th id=\"T_4bc92_level0_row0\" class=\"row_heading level0 row0\" >0</th>\n",
       "      <td id=\"T_4bc92_row0_col0\" class=\"data row0 col0\" >dog</td>\n",
       "      <td id=\"T_4bc92_row0_col1\" class=\"data row0 col1\" >개</td>\n",
       "      <td id=\"T_4bc92_row0_col2\" class=\"data row0 col2\" >0.20</td>\n",
       "    </tr>\n",
       "    <tr>\n",
       "      <th id=\"T_4bc92_level0_row1\" class=\"row_heading level0 row1\" >1</th>\n",
       "      <td id=\"T_4bc92_row1_col0\" class=\"data row1 col0\" >rat</td>\n",
       "      <td id=\"T_4bc92_row1_col1\" class=\"data row1 col1\" >쥐</td>\n",
       "      <td id=\"T_4bc92_row1_col2\" class=\"data row1 col2\" >0.17</td>\n",
       "    </tr>\n",
       "    <tr>\n",
       "      <th id=\"T_4bc92_level0_row2\" class=\"row_heading level0 row2\" >2</th>\n",
       "      <td id=\"T_4bc92_row2_col0\" class=\"data row2 col0\" >swan</td>\n",
       "      <td id=\"T_4bc92_row2_col1\" class=\"data row2 col1\" >백조</td>\n",
       "      <td id=\"T_4bc92_row2_col2\" class=\"data row2 col2\" >0.13</td>\n",
       "    </tr>\n",
       "    <tr>\n",
       "      <th id=\"T_4bc92_level0_row3\" class=\"row_heading level0 row3\" >3</th>\n",
       "      <td id=\"T_4bc92_row3_col0\" class=\"data row3 col0\" >lion</td>\n",
       "      <td id=\"T_4bc92_row3_col1\" class=\"data row3 col1\" >사자</td>\n",
       "      <td id=\"T_4bc92_row3_col2\" class=\"data row3 col2\" >0.16</td>\n",
       "    </tr>\n",
       "    <tr>\n",
       "      <th id=\"T_4bc92_level0_row4\" class=\"row_heading level0 row4\" >4</th>\n",
       "      <td id=\"T_4bc92_row4_col0\" class=\"data row4 col0\" >dogs</td>\n",
       "      <td id=\"T_4bc92_row4_col1\" class=\"data row4 col1\" >개들</td>\n",
       "      <td id=\"T_4bc92_row4_col2\" class=\"data row4 col2\" >0.18</td>\n",
       "    </tr>\n",
       "    <tr>\n",
       "      <th id=\"T_4bc92_level0_row5\" class=\"row_heading level0 row5\" >5</th>\n",
       "      <td id=\"T_4bc92_row5_col0\" class=\"data row5 col0\" >rats</td>\n",
       "      <td id=\"T_4bc92_row5_col1\" class=\"data row5 col1\" >쥐들</td>\n",
       "      <td id=\"T_4bc92_row5_col2\" class=\"data row5 col2\" >0.20</td>\n",
       "    </tr>\n",
       "    <tr>\n",
       "      <th id=\"T_4bc92_level0_row6\" class=\"row_heading level0 row6\" >6</th>\n",
       "      <td id=\"T_4bc92_row6_col0\" class=\"data row6 col0\" >swans</td>\n",
       "      <td id=\"T_4bc92_row6_col1\" class=\"data row6 col1\" >백조들</td>\n",
       "      <td id=\"T_4bc92_row6_col2\" class=\"data row6 col2\" >0.35</td>\n",
       "    </tr>\n",
       "    <tr>\n",
       "      <th id=\"T_4bc92_level0_row7\" class=\"row_heading level0 row7\" >7</th>\n",
       "      <td id=\"T_4bc92_row7_col0\" class=\"data row7 col0\" >lions</td>\n",
       "      <td id=\"T_4bc92_row7_col1\" class=\"data row7 col1\" >사자들</td>\n",
       "      <td id=\"T_4bc92_row7_col2\" class=\"data row7 col2\" >0.23</td>\n",
       "    </tr>\n",
       "  </tbody>\n",
       "</table>\n"
      ],
      "text/plain": [
       "<pandas.io.formats.style.Styler at 0x7ff59e56a390>"
      ]
     },
     "execution_count": 9,
     "metadata": {},
     "output_type": "execute_result"
    }
   ],
   "source": [
    "n_dist = [\"{:.2f}\".format(value) for value in n_dist]\n",
    "def highlight_max(x):\n",
    "    return ['' for v in x]\n",
    "\n",
    "data = {'English': eng, 'Korean': kor, 'Distance': n_dist}\n",
    "df1 = pd.DataFrame(data)\n",
    "df1.style.apply(highlight_max)"
   ]
  },
  {
   "cell_type": "code",
   "execution_count": 10,
   "metadata": {},
   "outputs": [
    {
     "name": "stdout",
     "output_type": "stream",
     "text": [
      "0.32\n"
     ]
    }
   ],
   "source": [
    "# Verbs\n",
    "v_dist=[]\n",
    "kor=[]\n",
    "eng=[]\n",
    "\n",
    "for i in range(16,24):\n",
    "    dist=np.linalg.norm(result[i]-result[i+8])\n",
    "    #print(word[i], word[i+8], \"{:.2f}\".format(dist))\n",
    "    v_dist.append(dist)\n",
    "    eng.append(word[i])\n",
    "    kor.append(word[i+8])\n",
    "\n",
    "print(\"{:.2f}\".format(sum(v_dist)/len(v_dist)))"
   ]
  },
  {
   "cell_type": "code",
   "execution_count": 11,
   "metadata": {},
   "outputs": [
    {
     "data": {
      "text/html": [
       "<style type=\"text/css\">\n",
       "</style>\n",
       "<table id=\"T_66434_\">\n",
       "  <thead>\n",
       "    <tr>\n",
       "      <th class=\"blank level0\" >&nbsp;</th>\n",
       "      <th class=\"col_heading level0 col0\" >English</th>\n",
       "      <th class=\"col_heading level0 col1\" >Korean</th>\n",
       "      <th class=\"col_heading level0 col2\" >Distance</th>\n",
       "    </tr>\n",
       "  </thead>\n",
       "  <tbody>\n",
       "    <tr>\n",
       "      <th id=\"T_66434_level0_row0\" class=\"row_heading level0 row0\" >0</th>\n",
       "      <td id=\"T_66434_row0_col0\" class=\"data row0 col0\" >leans</td>\n",
       "      <td id=\"T_66434_row0_col1\" class=\"data row0 col1\" >기댄다</td>\n",
       "      <td id=\"T_66434_row0_col2\" class=\"data row0 col2\" >0.30</td>\n",
       "    </tr>\n",
       "    <tr>\n",
       "      <th id=\"T_66434_level0_row1\" class=\"row_heading level0 row1\" >1</th>\n",
       "      <td id=\"T_66434_row1_col0\" class=\"data row1 col0\" >chops</td>\n",
       "      <td id=\"T_66434_row1_col1\" class=\"data row1 col1\" >자른다</td>\n",
       "      <td id=\"T_66434_row1_col2\" class=\"data row1 col2\" >0.31</td>\n",
       "    </tr>\n",
       "    <tr>\n",
       "      <th id=\"T_66434_level0_row2\" class=\"row_heading level0 row2\" >2</th>\n",
       "      <td id=\"T_66434_row2_col0\" class=\"data row2 col0\" >owns</td>\n",
       "      <td id=\"T_66434_row2_col1\" class=\"data row2 col1\" >가진다</td>\n",
       "      <td id=\"T_66434_row2_col2\" class=\"data row2 col2\" >0.39</td>\n",
       "    </tr>\n",
       "    <tr>\n",
       "      <th id=\"T_66434_level0_row3\" class=\"row_heading level0 row3\" >3</th>\n",
       "      <td id=\"T_66434_row3_col0\" class=\"data row3 col0\" >fills</td>\n",
       "      <td id=\"T_66434_row3_col1\" class=\"data row3 col1\" >채운다</td>\n",
       "      <td id=\"T_66434_row3_col2\" class=\"data row3 col2\" >0.25</td>\n",
       "    </tr>\n",
       "    <tr>\n",
       "      <th id=\"T_66434_level0_row4\" class=\"row_heading level0 row4\" >4</th>\n",
       "      <td id=\"T_66434_row4_col0\" class=\"data row4 col0\" >leaned</td>\n",
       "      <td id=\"T_66434_row4_col1\" class=\"data row4 col1\" >기댔다</td>\n",
       "      <td id=\"T_66434_row4_col2\" class=\"data row4 col2\" >0.41</td>\n",
       "    </tr>\n",
       "    <tr>\n",
       "      <th id=\"T_66434_level0_row5\" class=\"row_heading level0 row5\" >5</th>\n",
       "      <td id=\"T_66434_row5_col0\" class=\"data row5 col0\" >chopped</td>\n",
       "      <td id=\"T_66434_row5_col1\" class=\"data row5 col1\" >잘랐다</td>\n",
       "      <td id=\"T_66434_row5_col2\" class=\"data row5 col2\" >0.31</td>\n",
       "    </tr>\n",
       "    <tr>\n",
       "      <th id=\"T_66434_level0_row6\" class=\"row_heading level0 row6\" >6</th>\n",
       "      <td id=\"T_66434_row6_col0\" class=\"data row6 col0\" >owned</td>\n",
       "      <td id=\"T_66434_row6_col1\" class=\"data row6 col1\" >가졌다</td>\n",
       "      <td id=\"T_66434_row6_col2\" class=\"data row6 col2\" >0.33</td>\n",
       "    </tr>\n",
       "    <tr>\n",
       "      <th id=\"T_66434_level0_row7\" class=\"row_heading level0 row7\" >7</th>\n",
       "      <td id=\"T_66434_row7_col0\" class=\"data row7 col0\" >filled</td>\n",
       "      <td id=\"T_66434_row7_col1\" class=\"data row7 col1\" >채웠다</td>\n",
       "      <td id=\"T_66434_row7_col2\" class=\"data row7 col2\" >0.25</td>\n",
       "    </tr>\n",
       "  </tbody>\n",
       "</table>\n"
      ],
      "text/plain": [
       "<pandas.io.formats.style.Styler at 0x7ff563d25b50>"
      ]
     },
     "execution_count": 11,
     "metadata": {},
     "output_type": "execute_result"
    }
   ],
   "source": [
    "v_dist = [\"{:.2f}\".format(value) for value in v_dist]\n",
    "def highlight_max(x):\n",
    "    return ['' for v in x]\n",
    "\n",
    "data = {'English': eng, 'Korean': kor, 'Distance': v_dist}\n",
    "df2 = pd.DataFrame(data)\n",
    "df2.style.apply(highlight_max)"
   ]
  },
  {
   "cell_type": "code",
   "execution_count": 12,
   "metadata": {},
   "outputs": [
    {
     "ename": "ValueError",
     "evalue": "Value of 'x' is not the name of a column in 'data_frame'. Expected one of ['English', 'Korean', 'Distance'] but received: X",
     "output_type": "error",
     "traceback": [
      "\u001b[0;31m-----------------------------------------------------------------\u001b[0m",
      "\u001b[0;31mValueError\u001b[0m                      Traceback (most recent call last)",
      "\u001b[0;32m<ipython-input-12-50e241943440>\u001b[0m in \u001b[0;36m<module>\u001b[0;34m\u001b[0m\n\u001b[1;32m      3\u001b[0m \u001b[0;31m# plotting a scatter plot\u001b[0m\u001b[0;34m\u001b[0m\u001b[0;34m\u001b[0m\u001b[0;34m\u001b[0m\u001b[0m\n\u001b[1;32m      4\u001b[0m \u001b[0;31m#fig = px.scatter(df, x=\"X\", y=\"Y\", text=\"Words\", log_x=True, size_max=60)\u001b[0m\u001b[0;34m\u001b[0m\u001b[0;34m\u001b[0m\u001b[0;34m\u001b[0m\u001b[0m\n\u001b[0;32m----> 5\u001b[0;31m \u001b[0mfig\u001b[0m \u001b[0;34m=\u001b[0m \u001b[0mpx\u001b[0m\u001b[0;34m.\u001b[0m\u001b[0mscatter\u001b[0m\u001b[0;34m(\u001b[0m\u001b[0mdf\u001b[0m\u001b[0;34m,\u001b[0m \u001b[0mx\u001b[0m\u001b[0;34m=\u001b[0m\u001b[0;34m\"X\"\u001b[0m\u001b[0;34m,\u001b[0m \u001b[0my\u001b[0m\u001b[0;34m=\u001b[0m\u001b[0;34m\"Y\"\u001b[0m\u001b[0;34m,\u001b[0m \u001b[0mtext\u001b[0m\u001b[0;34m=\u001b[0m\u001b[0;34m\"Words\"\u001b[0m\u001b[0;34m,\u001b[0m \u001b[0msize_max\u001b[0m\u001b[0;34m=\u001b[0m\u001b[0;36m60\u001b[0m\u001b[0;34m,\u001b[0m \u001b[0mcolor\u001b[0m\u001b[0;34m=\u001b[0m\u001b[0;34m\"Group\"\u001b[0m\u001b[0;34m)\u001b[0m\u001b[0;34m\u001b[0m\u001b[0;34m\u001b[0m\u001b[0m\n\u001b[0m\u001b[1;32m      6\u001b[0m \u001b[0;34m\u001b[0m\u001b[0m\n\u001b[1;32m      7\u001b[0m \u001b[0;31m# adjusting the text position\u001b[0m\u001b[0;34m\u001b[0m\u001b[0;34m\u001b[0m\u001b[0;34m\u001b[0m\u001b[0m\n",
      "\u001b[0;32m~/miniconda3/lib/python3.7/site-packages/plotly/express/_chart_types.py\u001b[0m in \u001b[0;36mscatter\u001b[0;34m(data_frame, x, y, color, symbol, size, hover_name, hover_data, custom_data, text, facet_row, facet_col, facet_col_wrap, facet_row_spacing, facet_col_spacing, error_x, error_x_minus, error_y, error_y_minus, animation_frame, animation_group, category_orders, labels, orientation, color_discrete_sequence, color_discrete_map, color_continuous_scale, range_color, color_continuous_midpoint, symbol_sequence, symbol_map, opacity, size_max, marginal_x, marginal_y, trendline, trendline_options, trendline_color_override, trendline_scope, log_x, log_y, range_x, range_y, render_mode, title, template, width, height)\u001b[0m\n\u001b[1;32m     64\u001b[0m     \u001b[0mmark\u001b[0m \u001b[0;32min\u001b[0m \u001b[0;36m2\u001b[0m\u001b[0mD\u001b[0m \u001b[0mspace\u001b[0m\u001b[0;34m.\u001b[0m\u001b[0;34m\u001b[0m\u001b[0;34m\u001b[0m\u001b[0m\n\u001b[1;32m     65\u001b[0m     \"\"\"\n\u001b[0;32m---> 66\u001b[0;31m     \u001b[0;32mreturn\u001b[0m \u001b[0mmake_figure\u001b[0m\u001b[0;34m(\u001b[0m\u001b[0margs\u001b[0m\u001b[0;34m=\u001b[0m\u001b[0mlocals\u001b[0m\u001b[0;34m(\u001b[0m\u001b[0;34m)\u001b[0m\u001b[0;34m,\u001b[0m \u001b[0mconstructor\u001b[0m\u001b[0;34m=\u001b[0m\u001b[0mgo\u001b[0m\u001b[0;34m.\u001b[0m\u001b[0mScatter\u001b[0m\u001b[0;34m)\u001b[0m\u001b[0;34m\u001b[0m\u001b[0;34m\u001b[0m\u001b[0m\n\u001b[0m\u001b[1;32m     67\u001b[0m \u001b[0;34m\u001b[0m\u001b[0m\n\u001b[1;32m     68\u001b[0m \u001b[0;34m\u001b[0m\u001b[0m\n",
      "\u001b[0;32m~/miniconda3/lib/python3.7/site-packages/plotly/express/_core.py\u001b[0m in \u001b[0;36mmake_figure\u001b[0;34m(args, constructor, trace_patch, layout_patch)\u001b[0m\n\u001b[1;32m   1946\u001b[0m     \u001b[0mapply_default_cascade\u001b[0m\u001b[0;34m(\u001b[0m\u001b[0margs\u001b[0m\u001b[0;34m)\u001b[0m\u001b[0;34m\u001b[0m\u001b[0;34m\u001b[0m\u001b[0m\n\u001b[1;32m   1947\u001b[0m \u001b[0;34m\u001b[0m\u001b[0m\n\u001b[0;32m-> 1948\u001b[0;31m     \u001b[0margs\u001b[0m \u001b[0;34m=\u001b[0m \u001b[0mbuild_dataframe\u001b[0m\u001b[0;34m(\u001b[0m\u001b[0margs\u001b[0m\u001b[0;34m,\u001b[0m \u001b[0mconstructor\u001b[0m\u001b[0;34m)\u001b[0m\u001b[0;34m\u001b[0m\u001b[0;34m\u001b[0m\u001b[0m\n\u001b[0m\u001b[1;32m   1949\u001b[0m     \u001b[0;32mif\u001b[0m \u001b[0mconstructor\u001b[0m \u001b[0;32min\u001b[0m \u001b[0;34m[\u001b[0m\u001b[0mgo\u001b[0m\u001b[0;34m.\u001b[0m\u001b[0mTreemap\u001b[0m\u001b[0;34m,\u001b[0m \u001b[0mgo\u001b[0m\u001b[0;34m.\u001b[0m\u001b[0mSunburst\u001b[0m\u001b[0;34m,\u001b[0m \u001b[0mgo\u001b[0m\u001b[0;34m.\u001b[0m\u001b[0mIcicle\u001b[0m\u001b[0;34m]\u001b[0m \u001b[0;32mand\u001b[0m \u001b[0margs\u001b[0m\u001b[0;34m[\u001b[0m\u001b[0;34m\"path\"\u001b[0m\u001b[0;34m]\u001b[0m \u001b[0;32mis\u001b[0m \u001b[0;32mnot\u001b[0m \u001b[0;32mNone\u001b[0m\u001b[0;34m:\u001b[0m\u001b[0;34m\u001b[0m\u001b[0;34m\u001b[0m\u001b[0m\n\u001b[1;32m   1950\u001b[0m         \u001b[0margs\u001b[0m \u001b[0;34m=\u001b[0m \u001b[0mprocess_dataframe_hierarchy\u001b[0m\u001b[0;34m(\u001b[0m\u001b[0margs\u001b[0m\u001b[0;34m)\u001b[0m\u001b[0;34m\u001b[0m\u001b[0;34m\u001b[0m\u001b[0m\n",
      "\u001b[0;32m~/miniconda3/lib/python3.7/site-packages/plotly/express/_core.py\u001b[0m in \u001b[0;36mbuild_dataframe\u001b[0;34m(args, constructor)\u001b[0m\n\u001b[1;32m   1404\u001b[0m \u001b[0;34m\u001b[0m\u001b[0m\n\u001b[1;32m   1405\u001b[0m     df_output, wide_id_vars = process_args_into_dataframe(\n\u001b[0;32m-> 1406\u001b[0;31m         \u001b[0margs\u001b[0m\u001b[0;34m,\u001b[0m \u001b[0mwide_mode\u001b[0m\u001b[0;34m,\u001b[0m \u001b[0mvar_name\u001b[0m\u001b[0;34m,\u001b[0m \u001b[0mvalue_name\u001b[0m\u001b[0;34m\u001b[0m\u001b[0;34m\u001b[0m\u001b[0m\n\u001b[0m\u001b[1;32m   1407\u001b[0m     )\n\u001b[1;32m   1408\u001b[0m \u001b[0;34m\u001b[0m\u001b[0m\n",
      "\u001b[0;32m~/miniconda3/lib/python3.7/site-packages/plotly/express/_core.py\u001b[0m in \u001b[0;36mprocess_args_into_dataframe\u001b[0;34m(args, wide_mode, var_name, value_name)\u001b[0m\n\u001b[1;32m   1205\u001b[0m                         \u001b[0;32mif\u001b[0m \u001b[0margument\u001b[0m \u001b[0;34m==\u001b[0m \u001b[0;34m\"index\"\u001b[0m\u001b[0;34m:\u001b[0m\u001b[0;34m\u001b[0m\u001b[0;34m\u001b[0m\u001b[0m\n\u001b[1;32m   1206\u001b[0m                             \u001b[0merr_msg\u001b[0m \u001b[0;34m+=\u001b[0m \u001b[0;34m\"\\n To use the index, pass it in directly as `df.index`.\"\u001b[0m\u001b[0;34m\u001b[0m\u001b[0;34m\u001b[0m\u001b[0m\n\u001b[0;32m-> 1207\u001b[0;31m                         \u001b[0;32mraise\u001b[0m \u001b[0mValueError\u001b[0m\u001b[0;34m(\u001b[0m\u001b[0merr_msg\u001b[0m\u001b[0;34m)\u001b[0m\u001b[0;34m\u001b[0m\u001b[0;34m\u001b[0m\u001b[0m\n\u001b[0m\u001b[1;32m   1208\u001b[0m                 \u001b[0;32melif\u001b[0m \u001b[0mlength\u001b[0m \u001b[0;32mand\u001b[0m \u001b[0mlen\u001b[0m\u001b[0;34m(\u001b[0m\u001b[0mdf_input\u001b[0m\u001b[0;34m[\u001b[0m\u001b[0margument\u001b[0m\u001b[0;34m]\u001b[0m\u001b[0;34m)\u001b[0m \u001b[0;34m!=\u001b[0m \u001b[0mlength\u001b[0m\u001b[0;34m:\u001b[0m\u001b[0;34m\u001b[0m\u001b[0;34m\u001b[0m\u001b[0m\n\u001b[1;32m   1209\u001b[0m                     raise ValueError(\n",
      "\u001b[0;31mValueError\u001b[0m: Value of 'x' is not the name of a column in 'data_frame'. Expected one of ['English', 'Korean', 'Distance'] but received: X"
     ]
    }
   ],
   "source": [
    "import plotly.express as px\n",
    "\n",
    "# plotting a scatter plot\n",
    "#fig = px.scatter(df, x=\"X\", y=\"Y\", text=\"Words\", log_x=True, size_max=60)\n",
    "fig = px.scatter(df, x=\"X\", y=\"Y\", text=\"Words\", size_max=60, color=\"Group\")\n",
    "\n",
    "# adjusting the text position\n",
    "fig.update_traces(textposition='top center')\n",
    "\n",
    "# setting up the height and title\n",
    "fig.update_layout(\n",
    "    height=900,\n",
    "    width=1200,\n",
    "    title_text='Word embedding chart',\n",
    "    font = dict(size=14.5),\n",
    "    legend=dict(\n",
    "    yanchor=\"top\",\n",
    "    y=0.99,\n",
    "    xanchor=\"left\",\n",
    "    x=0.01))\n",
    "\n",
    "# displaying the figure\n",
    "fig.show()"
   ]
  }
 ],
 "metadata": {
  "kernelspec": {
   "display_name": "Python 3",
   "language": "python",
   "name": "python3"
  },
  "language_info": {
   "codemirror_mode": {
    "name": "ipython",
    "version": 3
   },
   "file_extension": ".py",
   "mimetype": "text/x-python",
   "name": "python",
   "nbconvert_exporter": "python",
   "pygments_lexer": "ipython3",
   "version": "3.7.10"
  }
 },
 "nbformat": 4,
 "nbformat_minor": 4
}
